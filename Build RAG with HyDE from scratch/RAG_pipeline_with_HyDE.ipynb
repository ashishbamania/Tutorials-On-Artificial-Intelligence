{
  "nbformat": 4,
  "nbformat_minor": 0,
  "metadata": {
    "colab": {
      "provenance": []
    },
    "kernelspec": {
      "name": "python3",
      "display_name": "Python 3"
    },
    "language_info": {
      "name": "python"
    }
  },
  "cells": [
    {
      "cell_type": "code",
      "execution_count": 1,
      "metadata": {
        "colab": {
          "base_uri": "https://localhost:8080/"
        },
        "id": "3GhMzv_kXqJq",
        "outputId": "a0e707fc-b1c3-4727-8377-c4e031d6e0d5"
      },
      "outputs": [
        {
          "output_type": "stream",
          "name": "stdout",
          "text": [
            "\u001b[2mUsing Python 3.12.12 environment at: /usr\u001b[0m\n",
            "\u001b[2mAudited \u001b[1m1 package\u001b[0m \u001b[2min 403ms\u001b[0m\u001b[0m\n"
          ]
        }
      ],
      "source": [
        "!uv pip install sentence_transformers"
      ]
    },
    {
      "cell_type": "code",
      "source": [
        "import numpy as np\n",
        "from sentence_transformers import SentenceTransformer\n",
        "from openai import OpenAI\n",
        "from google.colab import userdata"
      ],
      "metadata": {
        "id": "NZxFS6ivX659"
      },
      "execution_count": 87,
      "outputs": []
    },
    {
      "cell_type": "code",
      "source": [
        "# Simple implementation of a Vector database\n",
        "class VectorDatabase:\n",
        "    def __init__(self):\n",
        "        # Store all vectors in an array\n",
        "        self.vectors = []\n",
        "\n",
        "    # Add vector to database\n",
        "    def add_vector(self, vec_id, vector, metadata=None):\n",
        "        record = {\n",
        "            \"id\": vec_id,\n",
        "            \"vector\": np.array(vector, dtype=np.float32),\n",
        "            \"metadata\": metadata\n",
        "        }\n",
        "\n",
        "        self.vectors.append(record)\n",
        "\n",
        "    # Retreive all vectors from database\n",
        "    def get_all_vectors(self):\n",
        "        return self.vectors\n",
        "\n",
        "    # Calculate consine similarity between vectors\n",
        "    def _cosine_similarity(self, vec_a, vec_b):\n",
        "        # Calculate dot product\n",
        "        dot_product = np.dot(vec_a, vec_b)\n",
        "\n",
        "        # Calculate the magnitude of vector A\n",
        "        norm_a = np.linalg.norm(vec_a)\n",
        "\n",
        "        # Calculate the magnitude of vector B\n",
        "        norm_b = np.linalg.norm(vec_b)\n",
        "\n",
        "        cos_sim = dot_product / (norm_a * norm_b + 1e-8)  # small epsilon to avoid division by zero\n",
        "\n",
        "        return cos_sim\n",
        "\n",
        "    # Search for similar vectors and return the top_k results\n",
        "    def search(self, query_vector, top_k = 3):\n",
        "        query_vector = np.array(query_vector, dtype = np.float32)\n",
        "\n",
        "        # Stores the top_k results\n",
        "        results = []\n",
        "\n",
        "        for record in self.vectors:\n",
        "            sim = self._cosine_similarity(query_vector, record[\"vector\"])\n",
        "\n",
        "            results.append({\n",
        "                \"id\": record[\"id\"],\n",
        "                \"similarity\": sim,\n",
        "                \"metadata\": record[\"metadata\"]\n",
        "            })\n",
        "\n",
        "        results.sort(key=lambda x: x[\"similarity\"], reverse=True)\n",
        "\n",
        "        return results[:top_k]"
      ],
      "metadata": {
        "id": "ytMe-3ZCX3Tf"
      },
      "execution_count": 88,
      "outputs": []
    },
    {
      "cell_type": "code",
      "source": [
        "# Helper function to generate multiple hypothetical documents\n",
        "def generate_hypothetical_docs(client, query, temperature, num_documents=5):\n",
        "    prompt = f\"\"\"\n",
        "    Write a paragraph in 30–45 words in 3 sentences\n",
        "    that directly answers the given question.\n",
        "    If you do not know the correct answer,\n",
        "    create a hypothetical answer to the query.\n",
        "\n",
        "    Question: {query}\n",
        "\n",
        "    Paragraph:\n",
        "    \"\"\"\n",
        "\n",
        "    response = client.chat.completions.create(\n",
        "        model=\"gpt-4o-mini\",\n",
        "        messages=[\n",
        "            {\"role\": \"system\", \"content\": \"You write concise paragraphs based on a given query.\"},\n",
        "            {\"role\": \"user\", \"content\": prompt}\n",
        "        ],\n",
        "        max_tokens=250,\n",
        "        temperature=temperature,\n",
        "        n=num_documents\n",
        "    )\n",
        "\n",
        "    hypothetical_docs = []\n",
        "\n",
        "    for i, choice in enumerate(response.choices):\n",
        "        hypothetical_doc = choice.message.content.strip()\n",
        "        hypothetical_docs.append(hypothetical_doc)\n",
        "\n",
        "        print(f\"Hypothetical Document {i+1}:\")\n",
        "        print(f\"{hypothetical_doc}\\n\")\n",
        "\n",
        "    return hypothetical_docs"
      ],
      "metadata": {
        "id": "GHcPFDEoYEcE"
      },
      "execution_count": 89,
      "outputs": []
    },
    {
      "cell_type": "code",
      "source": [
        "# Help function to create embeddings for documents and average them.\n",
        "def create_averaged_embedding(embedding_model, documents):\n",
        "    embeddings = []\n",
        "\n",
        "    for doc in documents:\n",
        "        embedding = embedding_model.encode(doc, normalize_embeddings=True)\n",
        "        embeddings.append(embedding)\n",
        "\n",
        "    # Average all embeddings\n",
        "    averaged_embedding = np.mean(embeddings, axis=0)\n",
        "\n",
        "    # Normalize the averaged embedding\n",
        "    averaged_embedding = averaged_embedding / (np.linalg.norm(averaged_embedding) + 1e-8)\n",
        "\n",
        "    return averaged_embedding"
      ],
      "metadata": {
        "id": "zOX-XnllYJtR"
      },
      "execution_count": 90,
      "outputs": []
    },
    {
      "cell_type": "code",
      "source": [
        "# Helper function to index documents in the vector database\n",
        "def index_documents(vector_db, embedding_model, documents):\n",
        "    for idx, doc in enumerate(documents):\n",
        "        embedding = embedding_model.encode(doc, normalize_embeddings=True)\n",
        "\n",
        "        vector_db.add_vector(\n",
        "            vec_id=f\"doc_{idx}\",\n",
        "            vector=embedding,\n",
        "            metadata={\"document\": doc}\n",
        "        )\n",
        "\n",
        "    print(f\"Indexed {len(documents)} documents in vector database.\\n\")"
      ],
      "metadata": {
        "id": "24BZsYt9YLWL"
      },
      "execution_count": 91,
      "outputs": []
    },
    {
      "cell_type": "code",
      "source": [
        "# Helper function to retreive relevant documents from vector database using HyDE\n",
        "def retrieve_documents(vector_db, embedding_model, client, query, temperature, top_k=3):\n",
        "    # Generate multiple hypothetical documents\n",
        "    hypothetical_docs = generate_hypothetical_docs(client, query, num_documents=5, temperature = temperature)\n",
        "\n",
        "    # Create averaged embedding\n",
        "    query_embedding = create_averaged_embedding(embedding_model, hypothetical_docs)\n",
        "\n",
        "    # Search vector database\n",
        "    results = vector_db.search(query_embedding, top_k=top_k)\n",
        "\n",
        "    return results"
      ],
      "metadata": {
        "id": "K1gIBLaxYPAf"
      },
      "execution_count": 92,
      "outputs": []
    },
    {
      "cell_type": "code",
      "source": [
        "# Helper function to generate final answer\n",
        "def generate_answer(client, query, retrieved_docs):\n",
        "    context = \"\\n\\n\".join([doc['metadata']['document'] for doc in retrieved_docs])\n",
        "\n",
        "    prompt = f\"\"\"\n",
        "    Based on the following context, answer the question accurately.\n",
        "\n",
        "    Context: {context}\n",
        "    Question: {query}\n",
        "\n",
        "    Answer:\n",
        "    \"\"\"\n",
        "\n",
        "    response = client.chat.completions.create(\n",
        "        model=\"gpt-4o-mini\",\n",
        "        messages=[\n",
        "            {\"role\": \"system\", \"content\": \"You are a helpful assistant that answers questions based on provided context.\"},\n",
        "            {\"role\": \"user\", \"content\": prompt}\n",
        "        ],\n",
        "        max_tokens=250,\n",
        "        temperature=0.3\n",
        "    )\n",
        "\n",
        "    return response.choices[0].message.content.strip()"
      ],
      "metadata": {
        "id": "TvklOxOeYS21"
      },
      "execution_count": 93,
      "outputs": []
    },
    {
      "cell_type": "code",
      "source": [
        "# Helper function for the complete RAG pipeline with HyDE\n",
        "def hyde_rag_pipeline(client, embedding_model, vector_db, query, temperature, top_k=3):\n",
        "\n",
        "    # Retrieve documents\n",
        "    retrieved_docs = retrieve_documents(\n",
        "        vector_db,\n",
        "        embedding_model,\n",
        "        client,\n",
        "        query,\n",
        "        top_k=top_k,\n",
        "        temperature = temperature\n",
        "    )\n",
        "\n",
        "    # Generate answer\n",
        "    answer = generate_answer(client, query, retrieved_docs)\n",
        "\n",
        "    return answer, retrieved_docs"
      ],
      "metadata": {
        "id": "PnJoWOCbYWQf"
      },
      "execution_count": 94,
      "outputs": []
    },
    {
      "cell_type": "code",
      "source": [
        "# Documents for the vector database\n",
        "sentences = [\n",
        "    \"Alzheimer’s disease research shows that early cognitive decline is linked to the accumulation of beta-amyloid plaques and tau tangles in the brain. These pathological changes disrupt neural communication long before symptoms become obvious. Large longitudinal studies continue to clarify which biomarkers best predict progression.\",\n",
        "    \"In cancer biology, tumor cells often acquire mutations that enable uncontrolled growth and resistance to normal regulatory signals. Genomic sequencing allows researchers to identify these mutations across thousands of samples. Databases cataloging such genomic profiles help scientists compare patterns across cancer types.\",\n",
        "    \"Respiratory infections such as influenza can cause significant inflammation of the upper and lower airways. This inflammation contributes to symptoms like fever, cough, and fatigue. Studies show that viral shedding typically peaks shortly before the onset of noticeable symptoms.\",\n",
        "    \"Cardiovascular research has demonstrated that atherosclerosis develops gradually as cholesterol-rich plaques accumulate within arterial walls. These plaques may remain stable for years but can become dangerous if they rupture. Large epidemiological cohorts continue to refine understanding of risk factors.\",\n",
        "    \"In type 2 diabetes, insulin resistance limits the ability of cells to take up glucose effectively. Over time, pancreatic beta cells may struggle to compensate, leading to chronically elevated blood sugar. Genetic, metabolic, and environmental factors all contribute to disease development.\",\n",
        "    \"Chronic kidney disease is often detected through long-term trends in glomerular filtration rate and markers of kidney damage. Research indicates that early stages may progress slowly and remain asymptomatic. Population studies help identify patterns associated with faster progression.\",\n",
        "    \"Parkinson’s disease is characterized by the gradual loss of dopamine-producing neurons in the substantia nigra. This loss leads to motor symptoms such as bradykinesia, rigidity, and tremor. Neuroimaging and molecular studies continue to investigate the underlying mechanisms of neuronal degeneration.\",\n",
        "    \"Asthma involves chronic inflammation and hyperreactivity of the airways, which can narrow in response to environmental triggers. Genetic predisposition, allergen exposure, and airway remodeling all play roles in disease expression. Research efforts focus on understanding these contributing pathways.\",\n",
        "    \"In inflammatory bowel disease, chronic inflammation affects the gastrointestinal tract through immune dysregulation. Ulcerative colitis and Crohn’s disease differ in their patterns of involvement and depth of inflammation. Ongoing research investigates interactions between the microbiome and the immune system.\",\n",
        "    \"Migraine is a neurological condition involving recurrent episodes of moderate to severe head pain. Scientists believe that cortical spreading depression, neurovascular changes, and genetic susceptibility contribute to the disorder. Studies also examine sensory hypersensitivity as a core feature.\",\n",
        "    \"Heart failure develops when the heart can no longer pump blood efficiently to meet the body’s needs. Structural changes such as ventricular remodeling often occur over extended periods. Imaging and biomarker data help researchers track disease progression across diverse patient groups.\",\n",
        "    \"Osteoporosis results from reduced bone mineral density and deterioration of bone microarchitecture. This increases susceptibility to fractures, especially in older adults. Research highlights the roles of hormonal changes, calcium metabolism, and genetic factors in bone strength.\",\n",
        "    \"In multiple sclerosis, immune cells mistakenly attack the myelin sheath that insulates nerve fibers in the central nervous system. This leads to disruptions in nerve signal conduction and varied neurological symptoms. Imaging techniques like MRI reveal characteristic lesions.\",\n",
        "    \"Chronic obstructive pulmonary disease typically develops after long-term exposure to airway irritants, leading to persistent airflow limitation. Structural changes such as alveolar destruction and airway narrowing contribute to progressive breathing difficulty. Population studies track global disease burden.\",\n",
        "    \"Sickle cell disease arises from a mutation in the beta-globin gene, causing hemoglobin to polymerize under low oxygen conditions. This results in rigid, sickle-shaped red blood cells that can block blood flow. Research focuses on understanding genetic modifiers and hemoglobin dynamics.\",\n",
        "    \"Neurons in the brain communicate through electrical impulses and chemical neurotransmitters, and disruptions in these signaling pathways are a common feature of many neurological disorders such as Parkinson's disease.\",\n",
        "    \"NeuroVita Therapeutics is pioneering a monoclonal antibody designed to target alpha-synuclein aggregates, a hallmark of Parkinson’s disease. Their innovative approach aims to slow neurodegeneration and improve motor function in patients. Clinical trials are underway to evaluate safety and efficacy in early-stage Parkinson’s.\"\n",
        "]"
      ],
      "metadata": {
        "id": "WernDUgKYxTX"
      },
      "execution_count": 95,
      "outputs": []
    },
    {
      "cell_type": "code",
      "source": [
        "# Define OpenAI client\n",
        "OPENAI_API_KEY = userdata.get('OPENAI_API_KEY')\n",
        "client = OpenAI(api_key = OPENAI_API_KEY)\n",
        "\n",
        "# Instantiate embedding model\n",
        "embedding_model = SentenceTransformer(\"all-MiniLM-L6-v2\")\n",
        "\n",
        "# Instantiate vector database\n",
        "vector_db = VectorDatabase()\n",
        "\n",
        "# Index documents\n",
        "index_documents(vector_db, embedding_model, documents = sentences)"
      ],
      "metadata": {
        "colab": {
          "base_uri": "https://localhost:8080/"
        },
        "id": "LHkXHLaEYaZm",
        "outputId": "6c6f5a1d-e180-495c-fa8f-9133a861536f"
      },
      "execution_count": 96,
      "outputs": [
        {
          "output_type": "stream",
          "name": "stdout",
          "text": [
            "Indexed 17 documents in vector database.\n",
            "\n"
          ]
        }
      ]
    },
    {
      "cell_type": "code",
      "source": [
        "# Query\n",
        "query = \"Which company is making new antibody to treat Parkinson's disease and what is it's target?\"\n",
        "\n",
        "print(f\"Query: {query}\\n\")\n",
        "\n",
        "print(\"=\"* 50)\n",
        "\n",
        "# Run RAG pipeline using HyDE\n",
        "answer, hyde_results = hyde_rag_pipeline(\n",
        "    client=client,\n",
        "    embedding_model=embedding_model,\n",
        "    vector_db=vector_db,\n",
        "    query=query,\n",
        "    top_k=3,\n",
        "    temperature = 1.2\n",
        ")\n",
        "\n",
        "print(\"=\"* 50)\n",
        "\n",
        "print(\"Top 3 Retrieved Documents\\n\")\n",
        "\n",
        "for i, res in enumerate(hyde_results, 1):\n",
        "    print(f\"Result {i}:\")\n",
        "    print(f\"Document: {res['metadata']['document']}\")\n",
        "    print(f\"Similarity Score: {res['similarity']:.4f}\\n\")\n",
        "\n",
        "print(\"=\"* 50)\n",
        "\n",
        "# Print final answer\n",
        "print(f\"Final generated answer: {answer}\")"
      ],
      "metadata": {
        "colab": {
          "base_uri": "https://localhost:8080/"
        },
        "id": "RrvFPSSUZASQ",
        "outputId": "d40bf596-9a1e-457d-e2a4-fb617f34bf9a"
      },
      "execution_count": 97,
      "outputs": [
        {
          "output_type": "stream",
          "name": "stdout",
          "text": [
            "Query: Which company is making new antibody to treat Parkinson's disease and what is it's target?\n",
            "\n",
            "==================================================\n",
            "Hypothetical Document 1:\n",
            "XYZ Pharmaceuticals is developing a groundbreaking antibody aimed at treating Parkinson's disease. This therapy specifically targets alpha-synuclein, a protein implicated in the neurodegenerative processes of the disease. By reducing its accumulation, the company hopes to slow disease progression and improve patient outcomes.\n",
            "\n",
            "Hypothetical Document 2:\n",
            "A biotechnology company called NeuroPharma is currently developing a novel antibody aimed at treating Parkinson's disease. This antibody specifically targets alpha-synuclein proteins, which are implicated in the degeneration of neurons in affected patients. By neutralizing these proteins, NeuroPharma hopes to slow disease progression.\n",
            "\n",
            "Hypothetical Document 3:\n",
            "AstraZeneca is developing a new antibody aimed at treating Parkinson's disease. The therapy specifically targets alpha-synuclein, a protein implicated in the disease's progression. By reducing the aggregation of this protein, the company hopes to slow the disease's advancement.\n",
            "\n",
            "Hypothetical Document 4:\n",
            "The company Neurona Therapeutics is developing a new antibody to treat Parkinson's disease. This antibody specifically targets alpha-synuclein, a protein linked to neurodegeneration in Parkinson's patients. By neutralizing this protein, the treatment aims to alleviate symptoms and slow disease progression.\n",
            "\n",
            "Hypothetical Document 5:\n",
            "Aldeyra Therapeutics is developing a new antibody designed to treat Parkinson's disease, targeting alpha-synuclein. This protein is implicated in the pathology of Parkinson's and may contribute to neurodegeneration. The antibody aims to modify the disease's progression and improve patient outcomes.\n",
            "\n",
            "==================================================\n",
            "Top 3 Retrieved Documents\n",
            "\n",
            "Result 1:\n",
            "Document: NeuroVita Therapeutics is pioneering a monoclonal antibody designed to target alpha-synuclein aggregates, a hallmark of Parkinson’s disease. Their innovative approach aims to slow neurodegeneration and improve motor function in patients. Clinical trials are underway to evaluate safety and efficacy in early-stage Parkinson’s.\n",
            "Similarity Score: 0.8281\n",
            "\n",
            "Result 2:\n",
            "Document: Parkinson’s disease is characterized by the gradual loss of dopamine-producing neurons in the substantia nigra. This loss leads to motor symptoms such as bradykinesia, rigidity, and tremor. Neuroimaging and molecular studies continue to investigate the underlying mechanisms of neuronal degeneration.\n",
            "Similarity Score: 0.5242\n",
            "\n",
            "Result 3:\n",
            "Document: Neurons in the brain communicate through electrical impulses and chemical neurotransmitters, and disruptions in these signaling pathways are a common feature of many neurological disorders such as Parkinson's disease.\n",
            "Similarity Score: 0.3875\n",
            "\n",
            "==================================================\n",
            "Final generated answer: NeuroVita Therapeutics is developing a monoclonal antibody designed to target alpha-synuclein aggregates, which are a hallmark of Parkinson's disease.\n"
          ]
        }
      ]
    },
    {
      "cell_type": "code",
      "source": [],
      "metadata": {
        "id": "-cQmnJSnZQra"
      },
      "execution_count": 97,
      "outputs": []
    }
  ]
}
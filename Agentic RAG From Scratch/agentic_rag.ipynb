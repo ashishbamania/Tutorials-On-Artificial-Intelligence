{
  "cells": [
    {
      "cell_type": "code",
      "execution_count": null,
      "metadata": {
        "colab": {
          "base_uri": "https://localhost:8080/"
        },
        "collapsed": true,
        "id": "zP83tLR8dTml",
        "outputId": "d74b1263-3d08-4ee4-a0c5-9ebc6b345e3d"
      },
      "outputs": [],
      "source": [
        "!uv pip install sentence_transformers openai crewai"
      ]
    },
    {
      "cell_type": "code",
      "execution_count": null,
      "metadata": {
        "id": "leBW5L1Gdwds"
      },
      "outputs": [],
      "source": [
        "# Set up enviroment variables\n",
        "import os\n",
        "\n",
        "os.environ[\"OPENAI_API_KEY\"] = \"YOUR_OPENAI_API_KEY\"\n",
        "os.environ[\"SERPER_API_KEY\"] = \"YOUR_SERPER_API_KEY\""
      ]
    },
    {
      "cell_type": "code",
      "execution_count": null,
      "metadata": {
        "id": "TkESaDbJe3lI"
      },
      "outputs": [],
      "source": [
        "# Our custom vector database\n",
        "\n",
        "import numpy as np\n",
        "\n",
        "class VectorDatabase:\n",
        "    def __init__(self):\n",
        "        # Store all vectors in an array\n",
        "        self.vectors = []\n",
        "\n",
        "    # Add vector to database\n",
        "    def add_vector(self, vec_id, vector, metadata=None):\n",
        "        record = {\n",
        "            \"id\": vec_id,\n",
        "            \"vector\": np.array(vector, dtype=np.float32),\n",
        "            \"metadata\": metadata\n",
        "        }\n",
        "\n",
        "        self.vectors.append(record)\n",
        "\n",
        "    # Retreive all vectors from database\n",
        "    def get_all_vectors(self):\n",
        "        return self.vectors\n",
        "\n",
        "    # Calculate consine similarity between vectors\n",
        "    def _cosine_similarity(self, vec_a, vec_b):\n",
        "        # Calculate dot product\n",
        "        dot_product = np.dot(vec_a, vec_b)\n",
        "\n",
        "        # Calculate the magnitude of vector A\n",
        "        norm_a = np.linalg.norm(vec_a)\n",
        "\n",
        "        # Calculate the magnitude of vector B\n",
        "        norm_b = np.linalg.norm(vec_b)\n",
        "\n",
        "        cos_sim = dot_product / (norm_a * norm_b + 1e-8)  # small epsilon to avoid division by zero\n",
        "\n",
        "        return cos_sim\n",
        "\n",
        "    # Search for similar vectors and return the top_k results\n",
        "    def search(self, query_vector, top_k = 3):\n",
        "        query_vector = np.array(query_vector, dtype = np.float32)\n",
        "\n",
        "        # Stores the top_k results\n",
        "        results = []\n",
        "\n",
        "        for record in self.vectors:\n",
        "            sim = self._cosine_similarity(query_vector, record[\"vector\"])\n",
        "\n",
        "            results.append({\n",
        "                \"id\": record[\"id\"],\n",
        "                \"similarity\": sim,\n",
        "                \"metadata\": record[\"metadata\"]\n",
        "            })\n",
        "\n",
        "        results.sort(key=lambda x: x[\"similarity\"], reverse=True)\n",
        "\n",
        "        return results[:top_k]"
      ]
    },
    {
      "cell_type": "code",
      "execution_count": null,
      "metadata": {
        "id": "JN9VMR03fEhk"
      },
      "outputs": [],
      "source": [
        "# Set up our custom vector database\n",
        "company_db = VectorDatabase()\n",
        "\n",
        "# Hypothetical company information\n",
        "company_information = [\n",
        "    \"Quantum Horizons Inc. is a pioneering space exploration company founded in 2030.\",\n",
        "    \"The company specializes in developing quantum-powered spacecraft for interplanetary travel.\",\n",
        "    \"With a team of 500 aerospace engineers and quantum physicists, Quantum Horizons is pushing the boundaries of space technology.\",\n",
        "    \"Their flagship project, the 'StarLeap', aims to reduce travel time to Mars from months to just weeks.\",\n",
        "    \"Quantum Horizons has established the first permanent research base on the Moon's far side.\",\n",
        "    \"The company's innovative quantum propulsion system has revolutionized the concept of space travel.\",\n",
        "    \"Headquartered in a state-of-the-art facility in Houston, Quantum Horizons also maintains orbital research stations.\",\n",
        "    \"They've partnered with major space agencies worldwide to advance human presence in the solar system.\",\n",
        "    \"Quantum Horizons' CEO, Dr. Zara Novak, is a former astronaut and a leading expert in quantum mechanics.\",\n",
        "    \"The company's mission is to make interplanetary travel accessible and establish humanity as a multi-planet species.\"\n",
        "]"
      ]
    },
    {
      "cell_type": "code",
      "execution_count": null,
      "metadata": {
        "collapsed": true,
        "id": "DD2o34GCfbJh"
      },
      "outputs": [],
      "source": [
        "# Populate the custom vector database\n",
        "from sentence_transformers import SentenceTransformer\n",
        "\n",
        "# Embedding model\n",
        "model = SentenceTransformer('all-MiniLM-L6-v2')\n",
        "\n",
        "for idx, sentence in enumerate(company_information):\n",
        "    # Create sentence embedding\n",
        "    embedding = model.encode(sentence)\n",
        "\n",
        "    # Add sentence embedding to the database\n",
        "    company_db.add_vector(vec_id=f\"sentence_{idx}\", vector=embedding, metadata={\"sentence\": sentence})"
      ]
    },
    {
      "cell_type": "code",
      "execution_count": null,
      "metadata": {
        "colab": {
          "base_uri": "https://localhost:8080/"
        },
        "collapsed": true,
        "id": "dniSjmRFfe67",
        "outputId": "5f00dd3b-014f-418b-bdf2-8c2536395951"
      },
      "outputs": [
        {
          "name": "stdout",
          "output_type": "stream",
          "text": [
            "{'id': 'sentence_0', 'vector': array([-2.05399971e-02, -3.94914933e-02, -3.26552913e-02, -7.13318447e-03,\n",
            "       -5.88249825e-02, -6.15303256e-02, -6.49780184e-02, -6.41458109e-02,\n",
            "        1.72448810e-02, -8.53577163e-03,  3.96655407e-03,  6.54808851e-03,\n",
            "       -5.97061180e-02,  3.57571431e-02, -7.93242827e-02,  2.50909179e-02,\n",
            "       -3.04083582e-02, -7.77376667e-02,  5.98660298e-02, -9.73092616e-02,\n",
            "       -1.31193534e-01,  2.77496316e-02,  3.16398218e-02,  7.13907108e-02,\n",
            "        5.89662828e-02,  3.68272215e-02,  6.17195060e-03, -3.38188782e-02,\n",
            "        5.62651493e-02,  6.58059791e-02,  1.55798178e-02,  3.28813791e-02,\n",
            "        8.33073631e-02, -2.06086300e-02,  1.71197336e-02,  9.28582028e-02,\n",
            "        2.82636993e-02, -2.45555472e-02, -7.57346898e-02, -6.25496656e-02,\n",
            "       -5.02399839e-02, -5.66332303e-02,  1.86945889e-02,  7.54210306e-03,\n",
            "        2.61634719e-02,  5.13240658e-02, -8.16290546e-03,  2.40288470e-02,\n",
            "        3.12294569e-02, -1.57156903e-02, -5.70101757e-03, -3.85988913e-02,\n",
            "        5.44046871e-02, -4.53562476e-02,  2.86292229e-02,  7.55723640e-02,\n",
            "       -4.93431985e-02,  3.79439816e-02, -2.70909648e-02, -7.65358284e-02,\n",
            "        2.86773369e-02, -4.77074757e-02, -2.44764448e-03,  5.36097102e-02,\n",
            "        6.07466623e-02,  6.25830963e-02, -7.15315938e-02, -3.93922254e-02,\n",
            "        3.09348181e-02, -4.15452532e-02,  2.08108872e-02, -5.10675609e-02,\n",
            "       -3.16879377e-02,  1.89760774e-02,  7.90343247e-03,  1.07968941e-01,\n",
            "        9.91582274e-02,  7.71668479e-02,  9.20694992e-02, -5.17363520e-03,\n",
            "        5.63071184e-02,  2.94393767e-02,  3.14986077e-03,  5.09944968e-02,\n",
            "       -9.32939351e-02,  5.03016682e-03, -1.12053531e-03,  2.01489590e-02,\n",
            "        3.64170372e-02, -6.69605210e-02,  3.19683808e-03, -3.92632484e-02,\n",
            "       -2.84113493e-02, -4.10407633e-02, -9.82404426e-02,  1.62633378e-02,\n",
            "       -1.35380151e-02,  1.29458983e-03,  2.31137052e-02, -4.08493690e-02,\n",
            "        3.53817604e-02, -3.78328152e-02, -1.40058342e-02, -1.63444392e-02,\n",
            "       -5.69481701e-02,  4.85982373e-02,  1.85795464e-02,  2.22015083e-02,\n",
            "        6.06128499e-02,  6.26440048e-02, -5.91214327e-03, -1.28846243e-02,\n",
            "       -5.21951318e-02, -5.60170114e-02, -2.36997958e-02, -6.08753320e-03,\n",
            "       -9.78168547e-02,  9.49584022e-02,  6.15322702e-02, -5.64462468e-02,\n",
            "       -1.02490708e-02,  7.20780641e-02, -1.89140788e-03, -5.81562631e-02,\n",
            "       -7.58841932e-02, -2.21474357e-02, -4.92050312e-02, -2.01761391e-33,\n",
            "       -2.22821534e-02,  7.75688216e-02,  2.81897672e-02,  7.84668475e-02,\n",
            "       -4.61540632e-02, -2.30797790e-02,  7.45888203e-02,  3.05163376e-02,\n",
            "       -8.09609890e-02, -8.48820992e-03,  1.55887539e-02,  8.35075788e-03,\n",
            "        4.85048704e-02, -6.52410313e-02,  5.04256114e-02, -8.53087753e-02,\n",
            "       -1.34410653e-02, -5.18857576e-02,  2.92760432e-02, -1.40001317e-02,\n",
            "       -1.58352591e-02, -1.34814018e-02, -9.96364951e-02, -1.26640517e-02,\n",
            "        4.67030331e-02, -4.07801643e-02,  2.11265665e-02, -2.80521978e-02,\n",
            "       -3.36140841e-02,  2.00793464e-02,  3.77133116e-03,  2.44148113e-02,\n",
            "       -1.17930897e-01, -7.78325051e-02, -1.70498807e-02,  8.69162381e-02,\n",
            "       -4.64749103e-03, -5.10600396e-03, -4.55761765e-05,  3.15549597e-02,\n",
            "       -8.09927750e-03,  2.81803925e-02,  5.79928095e-03, -5.91032691e-02,\n",
            "        5.18400175e-03,  7.55272433e-03,  6.80922121e-02, -5.21323457e-02,\n",
            "        1.19914867e-01,  5.13782687e-02, -2.10841186e-02, -1.35818999e-02,\n",
            "       -8.22099596e-02,  4.52289023e-02,  6.84695020e-02, -4.14738096e-02,\n",
            "        7.23885279e-03, -4.42884490e-02, -5.74889667e-02,  2.09306646e-02,\n",
            "       -1.13230562e-02,  1.52815133e-02, -5.92445880e-02,  2.62713293e-03,\n",
            "       -4.83627319e-02,  4.37875800e-02,  5.88766932e-02, -2.36155838e-03,\n",
            "       -5.42928874e-02,  1.03946328e-01,  1.91438179e-02, -2.18854379e-02,\n",
            "        4.29814495e-02, -5.37855551e-02,  1.84331648e-02, -1.98956300e-02,\n",
            "        2.66983802e-03,  6.64088950e-02,  1.87529204e-03,  6.78107366e-02,\n",
            "       -2.35735066e-02, -1.20941885e-02,  3.60188931e-02,  2.93377806e-02,\n",
            "       -3.06984712e-03, -5.08822640e-03, -4.59187329e-02,  6.87157810e-02,\n",
            "        1.83127983e-03, -1.01509616e-02, -3.23734917e-02, -4.50774916e-02,\n",
            "        1.03748083e-01,  1.10828392e-01, -9.88305286e-02,  1.11114072e-33,\n",
            "        2.83690467e-02, -2.08584983e-02,  5.10101356e-02, -4.19115573e-02,\n",
            "        1.60568543e-02,  7.53491046e-03, -2.90384404e-02,  1.30740041e-02,\n",
            "       -1.96215417e-02,  3.09612812e-03,  2.28915866e-02,  4.85827290e-02,\n",
            "        4.07245494e-02,  2.34725382e-02, -2.21788231e-02,  3.02195828e-02,\n",
            "       -1.49375694e-02, -1.23208435e-02,  2.03202199e-03, -1.71774141e-02,\n",
            "        8.57346579e-02, -4.53009903e-02, -6.18004464e-02, -5.83686903e-02,\n",
            "        4.88741929e-03,  2.69310307e-02,  1.94530308e-01, -1.03219170e-02,\n",
            "        3.47265489e-02, -1.44439684e-02, -5.09745926e-02, -1.87221763e-03,\n",
            "       -8.14527497e-02,  5.55146784e-02,  3.64273926e-03,  2.88421996e-02,\n",
            "        5.72182331e-03, -2.26648077e-02, -8.52689072e-02, -8.26445743e-02,\n",
            "       -5.37511520e-02,  8.27390030e-02, -4.55944203e-02,  6.99190199e-02,\n",
            "        1.78311132e-02, -2.80663259e-02,  2.94010583e-02,  1.05353542e-01,\n",
            "       -4.74361936e-03,  2.10540369e-02, -5.40405065e-02,  2.28622369e-02,\n",
            "        5.13806827e-02,  2.59078527e-03, -7.72031620e-02,  7.72357658e-02,\n",
            "       -9.31820367e-04,  9.28843468e-02,  4.85440046e-02, -2.22526658e-02,\n",
            "        2.52477769e-02,  6.92452416e-02, -3.41020478e-03,  6.45186454e-02,\n",
            "       -3.90560105e-02, -1.69048328e-02, -3.79428342e-02,  1.00725941e-01,\n",
            "       -8.19498673e-02, -6.38932735e-02,  2.09934432e-02, -3.37868594e-02,\n",
            "       -3.20836231e-02,  1.75759383e-02, -4.35561575e-02, -1.27723571e-02,\n",
            "        1.04101129e-01, -9.95762646e-02,  4.60929237e-02,  9.20540746e-03,\n",
            "        8.31641555e-02,  3.59396823e-02,  7.98873231e-02,  1.17989540e-01,\n",
            "        4.20244373e-02,  7.24893212e-02, -5.72758988e-02, -8.17943662e-02,\n",
            "       -7.98186809e-02,  4.36942205e-02, -3.21985781e-02, -2.39998251e-02,\n",
            "       -6.28314242e-02,  8.35103616e-02,  5.96422981e-03, -1.89352729e-08,\n",
            "        1.38584932e-03,  6.69549964e-03, -5.48629351e-02, -1.84572656e-02,\n",
            "        3.73536833e-02,  1.00078071e-02,  7.17080608e-02,  2.25696620e-02,\n",
            "       -5.97264692e-02, -4.34648199e-03, -4.91580553e-02, -1.95387960e-03,\n",
            "       -6.77285418e-02,  7.41283894e-02, -1.26235625e-02,  3.61495800e-02,\n",
            "        1.18101137e-02,  9.68771428e-03, -1.37287574e-02,  5.10915332e-02,\n",
            "        6.22858256e-02,  2.96882689e-02,  6.85710162e-02, -7.63701051e-02,\n",
            "       -7.90763721e-02,  2.29644496e-02,  5.79235516e-02,  3.91128100e-03,\n",
            "        4.72336123e-03, -2.71410812e-02, -5.91952689e-02,  4.83757332e-02,\n",
            "       -3.72485034e-02,  7.44282603e-02,  1.31035661e-02, -6.18388318e-02,\n",
            "       -9.16744322e-02,  1.84146594e-02, -1.50770023e-02,  3.16975079e-02,\n",
            "       -5.93673401e-02,  1.50198668e-01,  4.67286780e-02,  2.32795514e-02,\n",
            "       -6.70958683e-02,  3.95572968e-02, -8.10757056e-02, -4.65256348e-02,\n",
            "        5.01477020e-03,  1.59578212e-02, -2.78967880e-02,  3.02908942e-02,\n",
            "        1.27496747e-02, -2.93844622e-02, -6.84681386e-02,  3.73755917e-02,\n",
            "       -6.75254241e-02, -7.04508945e-02, -5.18381000e-02,  8.98233429e-03,\n",
            "        2.60896143e-02, -9.35289934e-02,  2.76321638e-02,  2.05410477e-02],\n",
            "      dtype=float32), 'metadata': {'sentence': 'Quantum Horizons Inc. is a pioneering space exploration company founded in 2030.'}}\n"
          ]
        }
      ],
      "source": [
        "# Check record details\n",
        "for record in company_db.get_all_vectors():\n",
        "    print(record)\n",
        "    break"
      ]
    },
    {
      "cell_type": "code",
      "execution_count": null,
      "metadata": {
        "colab": {
          "base_uri": "https://localhost:8080/"
        },
        "id": "KnksAv9HfqtK",
        "outputId": "3bc2087b-d711-4a51-c9d0-0cb97b6648f6"
      },
      "outputs": [
        {
          "name": "stdout",
          "output_type": "stream",
          "text": [
            "(384,)\n"
          ]
        }
      ],
      "source": [
        "# Check embedding size of a record\n",
        "for record in company_db.get_all_vectors():\n",
        "    print(record[\"vector\"].shape)\n",
        "    break"
      ]
    },
    {
      "cell_type": "code",
      "execution_count": null,
      "metadata": {
        "colab": {
          "base_uri": "https://localhost:8080/"
        },
        "id": "Bly06f7ygCjk",
        "outputId": "c8f6b2c6-e9ca-49ac-df79-eb471d0a7bec"
      },
      "outputs": [
        {
          "data": {
            "text/plain": [
              "10"
            ]
          },
          "execution_count": 30,
          "metadata": {},
          "output_type": "execute_result"
        }
      ],
      "source": [
        "# Check number of records in the database\n",
        "len(company_db.get_all_vectors())"
      ]
    },
    {
      "cell_type": "markdown",
      "metadata": {
        "id": "oZ35nbgUjg_S"
      },
      "source": [
        "# Tools"
      ]
    },
    {
      "cell_type": "code",
      "execution_count": null,
      "metadata": {
        "id": "advFKoE7gPzA"
      },
      "outputs": [],
      "source": [
        "# Create custom RAG tool\n",
        "from crewai.tools import tool\n",
        "from openai import OpenAI\n",
        "\n",
        "@tool(\"RAG Tool\")\n",
        "def rag_tool(question: str) -> str:\n",
        "    \"\"\"Tool to search for relevant information from a vector database.\"\"\"\n",
        "\n",
        "    # Encode the question\n",
        "    query_vec = model.encode(question)\n",
        "\n",
        "    # Get top 5 similar vector\n",
        "    results = company_db.search(query_vec, top_k = 5)\n",
        "\n",
        "    # Build context from the results\n",
        "    context = \"\\n\".join([f\"- {res['metadata']['sentence']}\" for res in results])\n",
        "\n",
        "    # Create the prompt\n",
        "    prompt = f\"\"\"You are a helpful assistant. Use the context below to answer the user's question.\n",
        "\n",
        "            Context:\n",
        "            {context}\n",
        "\n",
        "            Question: {question}\n",
        "\n",
        "            Answer:\n",
        "            \"\"\"\n",
        "\n",
        "    # Generate an answer using the context\n",
        "    client = OpenAI()\n",
        "\n",
        "    response = client.responses.create(\n",
        "        model = \"gpt-4o-mini\",\n",
        "        input = prompt\n",
        "    )\n",
        "\n",
        "    answer = response.output_text\n",
        "\n",
        "    # Return the answer\n",
        "    return answer"
      ]
    },
    {
      "cell_type": "code",
      "execution_count": null,
      "metadata": {
        "colab": {
          "base_uri": "https://localhost:8080/",
          "height": 140
        },
        "id": "l24Opvhuo8SF",
        "outputId": "510ef8db-6678-40eb-f231-24210f0cffd0"
      },
      "outputs": [
        {
          "name": "stdout",
          "output_type": "stream",
          "text": [
            "Using Tool: RAG Tool\n"
          ]
        },
        {
          "data": {
            "application/vnd.google.colaboratory.intrinsic+json": {
              "type": "string"
            },
            "text/plain": [
              "\"Quantum Horizons is a pioneering space exploration company founded in 2030, specializing in advanced space technology. With a team of 500 aerospace engineers and quantum physicists, the company aims to push the boundaries of space exploration. It is led by CEO Dr. Zara Novak, a former astronaut and expert in quantum mechanics. Quantum Horizons has established the first permanent research base on the Moon's far side and operates from a state-of-the-art facility in Houston, as well as maintaining orbital research stations.\""
            ]
          },
          "execution_count": 32,
          "metadata": {},
          "output_type": "execute_result"
        }
      ],
      "source": [
        "# Test RAG tool\n",
        "\n",
        "rag_tool.run(\"What is Quantum Horizons?\")"
      ]
    },
    {
      "cell_type": "code",
      "execution_count": null,
      "metadata": {
        "id": "v1f2_Ggqjze9"
      },
      "outputs": [],
      "source": [
        "# Create custom Web search tool\n",
        "import requests\n",
        "\n",
        "@tool(\"Web Search Tool\")\n",
        "def web_search_tool(query: str) -> str:\n",
        "    \"\"\"Tool to search the web for relevant information.\"\"\"\n",
        "\n",
        "    url = \"https://google.serper.dev/search\"\n",
        "\n",
        "    headers = {\n",
        "        \"X-API-KEY\": os.environ.get(\"SERPER_API_KEY\"),\n",
        "        \"Content-Type\": \"application/json\",\n",
        "    }\n",
        "\n",
        "    payload = {\n",
        "        \"q\": query\n",
        "    }\n",
        "\n",
        "    response = requests.post(url, headers = headers, json = payload)\n",
        "\n",
        "    if response.status_code != 200:\n",
        "        raise Exception(f\"Request failed with status code: {response.status_code}\")\n",
        "\n",
        "    data = response.json()\n",
        "\n",
        "    # Get value associated with key \"organic\" else return []\n",
        "    search_results = data.get(\"organic\", [])\n",
        "\n",
        "    if not search_results:\n",
        "        return \"No search results found.\"\n",
        "\n",
        "    context = \"\"\n",
        "\n",
        "    for result in search_results:\n",
        "        title = result.get(\"title\", \"\")\n",
        "        link = result.get(\"link\", \"\")\n",
        "        snippet = result.get(\"snippet\", \"\")\n",
        "        context += f\"Title: {title}\\nLink: {link}\\nSnippet: {snippet}\\n\\n\"\n",
        "\n",
        "    return f\"Web Search Results:\\n{context}\""
      ]
    },
    {
      "cell_type": "code",
      "execution_count": null,
      "metadata": {
        "colab": {
          "base_uri": "https://localhost:8080/",
          "height": 226
        },
        "id": "qDOzEDn1pgoC",
        "outputId": "5ef59090-592d-4e2d-c5c4-b91ade744b00"
      },
      "outputs": [
        {
          "name": "stdout",
          "output_type": "stream",
          "text": [
            "Using Tool: Web Search Tool\n"
          ]
        },
        {
          "data": {
            "application/vnd.google.colaboratory.intrinsic+json": {
              "type": "string"
            },
            "text/plain": [
              "\"Web Search Results:\\nTitle: What's next for AI in 2025 - MIT Technology Review\\nLink: https://www.technologyreview.com/2025/01/08/1109188/whats-next-for-ai-in-2025/\\nSnippet: You already know that agents and small language models are the next big things. Here are five other hot trends you should watch out for this year.\\n\\nTitle: 6 AI trends you'll see more of in 2025 - Microsoft News\\nLink: https://news.microsoft.com/source/features/ai/6-ai-trends-youll-see-more-of-in-2025/\\nSnippet: In 2025, AI will evolve from a tool for work and home to an integral part of both. AI-powered agents will do more with greater autonomy and help simplify your ...\\n\\nTitle: Five Trends in AI and Data Science for 2025\\nLink: https://sloanreview.mit.edu/article/five-trends-in-ai-and-data-science-for-2025/\\nSnippet: From agentic AI to unstructured data, these 2025 AI trends deserve close attention from leaders. Get fresh data and advice from two experts.\\n\\nTitle: Top 7 Forecasted AI Trends To Watch In 2025 - Forbes\\nLink: https://www.forbes.com/councils/forbesbusinesscouncil/2025/01/08/top-7-forecasted-ai-trends-to-watch-in-2025/\\nSnippet: 1. Hyper-Personalization Redefined · 2. Generative AI As A Creative Ally · 3. Decision Intelligence Will Guide The Way · 4. AI As A Sustainability ...\\n\\nTitle: 2025 and the Next Chapter(s) of AI | Google Cloud Blog\\nLink: https://cloud.google.com/transform/2025-and-the-next-chapters-of-ai\\nSnippet: Multimodal AI, which integrates diverse data sources like images, video, code, and audio, alongside text, will become increasingly prevalent.\\n\\nTitle: AI in 2025: Five Defining Themes - SAP News Center\\nLink: https://news.sap.com/2025/01/ai-in-2025-defining-themes/\\nSnippet: SAP executives share five key themes for AI in 2025 that have the potential to further redefine what's possible. Learn more about them.\\n\\nTitle: The top 10 technologies for 2025 from from the MIT Tech Rev - NPR\\nLink: https://www.npr.org/2025/01/31/1228085791/ai-artificial-intelligence-mit-cows-methane\\nSnippet: Generative AI and other innovations topping MIT Technology Review's 2025 list · zooniverse · cow burp · green steel · Vera Rubin Telescope · robotaxi ...\\n\\nTitle: AI in 2025: Predictions from Industry Experts - MindsDB\\nLink: https://mindsdb.com/blog/ai-in-2025-predictions-from-industry-experts\\nSnippet: AI applications: AI applications will continue to advance and be able to create significant value across industries, domains, and modalities.\\n\\nTitle: AI in the workplace: A report for 2025 - McKinsey & Company\\nLink: https://www.mckinsey.com/capabilities/mckinsey-digital/our-insights/superagency-in-the-workplace-empowering-people-to-unlock-ais-full-potential-at-work\\nSnippet: By January 2025, a significant shift is apparent. Claude 3.5, Gemini 2.0 Flash, Llama 3.3, Phi-4, and OpenAI's model o1 all gained multimodal ...\\n\\n\""
            ]
          },
          "execution_count": 34,
          "metadata": {},
          "output_type": "execute_result"
        }
      ],
      "source": [
        "# Test custom Web search tool\n",
        "\n",
        "web_search_tool.run(\"Important AI innovations of 2025\")"
      ]
    },
    {
      "cell_type": "code",
      "execution_count": null,
      "metadata": {
        "id": "c7Srrk1VpwtV"
      },
      "outputs": [],
      "source": [
        "# Create Agents\n",
        "\n",
        "from crewai import Agent\n",
        "\n",
        "retriever_agent = Agent(\n",
        "    role=\"Retriever Agent\",\n",
        "    goal=\"Retrieve the most relevant information to answer the user's query: {user_query}\",\n",
        "    backstory=(\n",
        "        \"You're a helpful agent. \"\n",
        "        \"You're an expert at finding the right information to answer a user's query. \"\n",
        "        \"You are great at following instructions and sequentially picking tools for information retrieval. \"\n",
        "        \"You have decades of experience doing this.\"\n",
        "    ),\n",
        "    tools=[rag_tool, web_search_tool],\n",
        "    verbose=True,\n",
        ")\n",
        "\n",
        "customer_support_agent = Agent(\n",
        "    role=\"Senior Customer Support Agent\",\n",
        "    goal=(\n",
        "        \"Accurately and concisely answer the user's query: {user_query} using the retrieved information. \"\n",
        "        \"If you are unable to answer the query, apologise and tell that you do not have all the information you need to answer the query.\"\n",
        "    ),\n",
        "    backstory=(\n",
        "        \"You are a helpful senior customer support agent. \"\n",
        "        \"You have decades of experience in answering user queries grounded to accurate information.\"\n",
        "    ),\n",
        "    verbose=True,\n",
        ")"
      ]
    },
    {
      "cell_type": "code",
      "execution_count": null,
      "metadata": {
        "id": "N4CY5nkRuLDK"
      },
      "outputs": [],
      "source": [
        "# Create Tasks\n",
        "\n",
        "from crewai import Task\n",
        "\n",
        "# Task 1: Retrieval Task\n",
        "retrieval_task = Task(\n",
        "    description=(\n",
        "        \"Retrieve the most relevant information from the given sources to answer the user's query: {user_query}. \"\n",
        "        \"ALWAYS use the RAG Tool first. \"\n",
        "        \"If you cannot find the required information, ONLY THEN use the Web Search Tool. \"\n",
        "        \"DO NOT USE the Web Search Tool if you have sufficient information to accurately answer the user's query.\"\n",
        "    ),\n",
        "    expected_output=\"The most relevant information from the given sources to answer the user's query in a text format.\",\n",
        "    agent=retriever_agent,\n",
        ")\n",
        "\n",
        "# Task 2: Customer Support Task\n",
        "customer_support_task = Task(\n",
        "    description=(\n",
        "        \"Using the retrieved information, accurately and concisely answer the user's query: {user_query}.\"\n",
        "    ),\n",
        "    expected_output=(\n",
        "        \"Concise and accurate response based on the retrieved information given the user query: {user_query}. \"\n",
        "        \"If you are unable to answer the query, apologise and inform the user that you do not have all the necessary information.\"\n",
        "    ),\n",
        "    agent=customer_support_agent,\n",
        "    context=[retrieval_task],  # This task will use the output from the previous task as its context\n",
        ")"
      ]
    },
    {
      "cell_type": "code",
      "execution_count": null,
      "metadata": {
        "id": "pZjlx---x2ZL"
      },
      "outputs": [],
      "source": [
        "# Create Crew\n",
        "\n",
        "from crewai import Crew\n",
        "from crewai.process import Process\n",
        "\n",
        "customer_support_crew = Crew(\n",
        "    agents = [retriever_agent, customer_support_agent],\n",
        "    tasks = [retrieval_task, customer_support_task],\n",
        "    verbose = True,\n",
        "    process = Process.sequential\n",
        ")"
      ]
    },
    {
      "cell_type": "markdown",
      "metadata": {
        "id": "EaWcCHTkJF1M"
      },
      "source": [
        "### Result 1: Asking agent for company related information"
      ]
    },
    {
      "cell_type": "code",
      "execution_count": null,
      "metadata": {
        "id": "Z3YkWu17yNmd"
      },
      "outputs": [],
      "source": [
        "# Crew inputs\n",
        "\n",
        "crew_inputs = {\n",
        "    \"user_query\": \"What is the name of the flagship project of the company?\",\n",
        "}"
      ]
    },
    {
      "cell_type": "code",
      "execution_count": null,
      "metadata": {
        "colab": {
          "base_uri": "https://localhost:8080/",
          "height": 1000
        },
        "collapsed": true,
        "id": "nfJDX-2fysll",
        "outputId": "67fc159e-2563-42d2-f2b7-713064aec1f4"
      },
      "outputs": [
        {
          "data": {
            "text/html": [
              "<pre style=\"white-space:pre;overflow-x:auto;line-height:normal;font-family:Menlo,'DejaVu Sans Mono',consolas,'Courier New',monospace\"><span style=\"color: #008080; text-decoration-color: #008080\">╭──────────────────────────────────────────── Crew Execution Started ─────────────────────────────────────────────╮</span>\n",
              "<span style=\"color: #008080; text-decoration-color: #008080\">│</span>                                                                                                                 <span style=\"color: #008080; text-decoration-color: #008080\">│</span>\n",
              "<span style=\"color: #008080; text-decoration-color: #008080\">│</span>  <span style=\"color: #008080; text-decoration-color: #008080; font-weight: bold\">Crew Execution Started</span>                                                                                         <span style=\"color: #008080; text-decoration-color: #008080\">│</span>\n",
              "<span style=\"color: #008080; text-decoration-color: #008080\">│</span>  <span style=\"color: #c0c0c0; text-decoration-color: #c0c0c0\">Name: </span><span style=\"color: #008080; text-decoration-color: #008080\">crew</span>                                                                                                     <span style=\"color: #008080; text-decoration-color: #008080\">│</span>\n",
              "<span style=\"color: #008080; text-decoration-color: #008080\">│</span>  <span style=\"color: #c0c0c0; text-decoration-color: #c0c0c0\">ID: </span><span style=\"color: #008080; text-decoration-color: #008080\">a1c9c319-ea8c-46c4-9c64-077ed0a7cbb7</span>                                                                       <span style=\"color: #008080; text-decoration-color: #008080\">│</span>\n",
              "<span style=\"color: #008080; text-decoration-color: #008080\">│</span>                                                                                                                 <span style=\"color: #008080; text-decoration-color: #008080\">│</span>\n",
              "<span style=\"color: #008080; text-decoration-color: #008080\">│</span>                                                                                                                 <span style=\"color: #008080; text-decoration-color: #008080\">│</span>\n",
              "<span style=\"color: #008080; text-decoration-color: #008080\">╰─────────────────────────────────────────────────────────────────────────────────────────────────────────────────╯</span>\n",
              "</pre>\n"
            ],
            "text/plain": [
              "\u001b[36m╭─\u001b[0m\u001b[36m───────────────────────────────────────────\u001b[0m\u001b[36m Crew Execution Started \u001b[0m\u001b[36m────────────────────────────────────────────\u001b[0m\u001b[36m─╮\u001b[0m\n",
              "\u001b[36m│\u001b[0m                                                                                                                 \u001b[36m│\u001b[0m\n",
              "\u001b[36m│\u001b[0m  \u001b[1;36mCrew Execution Started\u001b[0m                                                                                         \u001b[36m│\u001b[0m\n",
              "\u001b[36m│\u001b[0m  \u001b[37mName: \u001b[0m\u001b[36mcrew\u001b[0m                                                                                                     \u001b[36m│\u001b[0m\n",
              "\u001b[36m│\u001b[0m  \u001b[37mID: \u001b[0m\u001b[36ma1c9c319-ea8c-46c4-9c64-077ed0a7cbb7\u001b[0m                                                                       \u001b[36m│\u001b[0m\n",
              "\u001b[36m│\u001b[0m                                                                                                                 \u001b[36m│\u001b[0m\n",
              "\u001b[36m│\u001b[0m                                                                                                                 \u001b[36m│\u001b[0m\n",
              "\u001b[36m╰─────────────────────────────────────────────────────────────────────────────────────────────────────────────────╯\u001b[0m\n"
            ]
          },
          "metadata": {},
          "output_type": "display_data"
        },
        {
          "data": {
            "text/html": [
              "<pre style=\"white-space:pre;overflow-x:auto;line-height:normal;font-family:Menlo,'DejaVu Sans Mono',consolas,'Courier New',monospace\">\n",
              "</pre>\n"
            ],
            "text/plain": [
              "\n"
            ]
          },
          "metadata": {},
          "output_type": "display_data"
        },
        {
          "data": {
            "text/html": [
              "<pre style=\"white-space:pre;overflow-x:auto;line-height:normal;font-family:Menlo,'DejaVu Sans Mono',consolas,'Courier New',monospace\"><span style=\"color: #008080; text-decoration-color: #008080; font-weight: bold\">🚀 Crew: crew</span>\n",
              "└── <span style=\"color: #808000; text-decoration-color: #808000; font-weight: bold\">📋 Task: 6a16152d-0ce4-4b1e-83d4-5f39fa526b77</span>\n",
              "    <span style=\"color: #c0c0c0; text-decoration-color: #c0c0c0\">   Status: </span><span style=\"color: #bfbf7f; text-decoration-color: #bfbf7f\">Executing Task...</span>\n",
              "</pre>\n"
            ],
            "text/plain": [
              "\u001b[1;36m🚀 Crew: \u001b[0m\u001b[1;36mcrew\u001b[0m\n",
              "└── \u001b[1;33m📋 Task: 6a16152d-0ce4-4b1e-83d4-5f39fa526b77\u001b[0m\n",
              "    \u001b[37m   Status: \u001b[0m\u001b[2;33mExecuting Task...\u001b[0m\n"
            ]
          },
          "metadata": {},
          "output_type": "display_data"
        },
        {
          "data": {
            "text/html": [
              "<pre style=\"white-space:pre;overflow-x:auto;line-height:normal;font-family:Menlo,'DejaVu Sans Mono',consolas,'Courier New',monospace\">\n",
              "</pre>\n"
            ],
            "text/plain": [
              "\n"
            ]
          },
          "metadata": {},
          "output_type": "display_data"
        },
        {
          "data": {
            "text/html": [
              "<pre style=\"white-space:pre;overflow-x:auto;line-height:normal;font-family:Menlo,'DejaVu Sans Mono',consolas,'Courier New',monospace\"><span style=\"color: #008080; text-decoration-color: #008080; font-weight: bold\">🚀 Crew: crew</span>\n",
              "└── <span style=\"color: #808000; text-decoration-color: #808000; font-weight: bold\">📋 Task: 6a16152d-0ce4-4b1e-83d4-5f39fa526b77</span>\n",
              "    <span style=\"color: #c0c0c0; text-decoration-color: #c0c0c0\">   Status: </span><span style=\"color: #bfbf7f; text-decoration-color: #bfbf7f\">Executing Task...</span>\n",
              "    └── <span style=\"color: #008000; text-decoration-color: #008000; font-weight: bold\">🤖 Agent: </span><span style=\"color: #008000; text-decoration-color: #008000\">Retriever Agent</span>\n",
              "        <span style=\"color: #c0c0c0; text-decoration-color: #c0c0c0\">    Status: </span><span style=\"color: #008000; text-decoration-color: #008000; font-weight: bold\">In Progress</span>\n",
              "</pre>\n"
            ],
            "text/plain": [
              "\u001b[1;36m🚀 Crew: \u001b[0m\u001b[1;36mcrew\u001b[0m\n",
              "└── \u001b[1;33m📋 Task: 6a16152d-0ce4-4b1e-83d4-5f39fa526b77\u001b[0m\n",
              "    \u001b[37m   Status: \u001b[0m\u001b[2;33mExecuting Task...\u001b[0m\n",
              "    └── \u001b[1;32m🤖 Agent: \u001b[0m\u001b[32mRetriever Agent\u001b[0m\n",
              "        \u001b[37m    Status: \u001b[0m\u001b[1;32mIn Progress\u001b[0m\n"
            ]
          },
          "metadata": {},
          "output_type": "display_data"
        },
        {
          "data": {
            "text/html": [
              "<pre style=\"white-space:pre;overflow-x:auto;line-height:normal;font-family:Menlo,'DejaVu Sans Mono',consolas,'Courier New',monospace\">\n",
              "</pre>\n"
            ],
            "text/plain": [
              "\n"
            ]
          },
          "metadata": {},
          "output_type": "display_data"
        },
        {
          "name": "stdout",
          "output_type": "stream",
          "text": [
            "\u001b[1m\u001b[95m# Agent:\u001b[00m \u001b[1m\u001b[92mRetriever Agent\u001b[00m\n",
            "\u001b[95m## Task:\u001b[00m \u001b[92mRetrieve the most relevant information from the given sources to answer the user's query: What is the name of the flagship project of the company?. ALWAYS use the RAG Tool first. If you cannot find the required information, ONLY THEN use the Web Search Tool. DO NOT USE the Web Search Tool if you have sufficient information to accurately answer the user's query.\u001b[00m\n"
          ]
        },
        {
          "data": {
            "text/html": [
              "<pre style=\"white-space:pre;overflow-x:auto;line-height:normal;font-family:Menlo,'DejaVu Sans Mono',consolas,'Courier New',monospace\"><span style=\"color: #008080; text-decoration-color: #008080; font-weight: bold\">🚀 Crew: crew</span>\n",
              "└── <span style=\"color: #808000; text-decoration-color: #808000; font-weight: bold\">📋 Task: 6a16152d-0ce4-4b1e-83d4-5f39fa526b77</span>\n",
              "    <span style=\"color: #c0c0c0; text-decoration-color: #c0c0c0\">   Status: </span><span style=\"color: #bfbf7f; text-decoration-color: #bfbf7f\">Executing Task...</span>\n",
              "    └── <span style=\"color: #008000; text-decoration-color: #008000; font-weight: bold\">🤖 Agent: </span><span style=\"color: #008000; text-decoration-color: #008000\">Retriever Agent</span>\n",
              "        <span style=\"color: #c0c0c0; text-decoration-color: #c0c0c0\">    Status: </span><span style=\"color: #008000; text-decoration-color: #008000; font-weight: bold\">In Progress</span>\n",
              "        └── <span style=\"color: #000080; text-decoration-color: #000080; font-weight: bold\">🧠 </span><span style=\"color: #000080; text-decoration-color: #000080\">Thinking...</span>\n",
              "</pre>\n"
            ],
            "text/plain": [
              "\u001b[1;36m🚀 Crew: \u001b[0m\u001b[1;36mcrew\u001b[0m\n",
              "└── \u001b[1;33m📋 Task: 6a16152d-0ce4-4b1e-83d4-5f39fa526b77\u001b[0m\n",
              "    \u001b[37m   Status: \u001b[0m\u001b[2;33mExecuting Task...\u001b[0m\n",
              "    └── \u001b[1;32m🤖 Agent: \u001b[0m\u001b[32mRetriever Agent\u001b[0m\n",
              "        \u001b[37m    Status: \u001b[0m\u001b[1;32mIn Progress\u001b[0m\n",
              "        └── \u001b[1;34m🧠 \u001b[0m\u001b[34mThinking...\u001b[0m\n"
            ]
          },
          "metadata": {},
          "output_type": "display_data"
        },
        {
          "data": {
            "text/html": [
              "<pre style=\"white-space:pre;overflow-x:auto;line-height:normal;font-family:Menlo,'DejaVu Sans Mono',consolas,'Courier New',monospace\">\n",
              "</pre>\n"
            ],
            "text/plain": [
              "\n"
            ]
          },
          "metadata": {},
          "output_type": "display_data"
        },
        {
          "data": {
            "text/html": [
              "<pre style=\"white-space:pre;overflow-x:auto;line-height:normal;font-family:Menlo,'DejaVu Sans Mono',consolas,'Courier New',monospace\"><span style=\"color: #008080; text-decoration-color: #008080; font-weight: bold\">🚀 Crew: crew</span>\n",
              "└── <span style=\"color: #808000; text-decoration-color: #808000; font-weight: bold\">📋 Task: 6a16152d-0ce4-4b1e-83d4-5f39fa526b77</span>\n",
              "    <span style=\"color: #c0c0c0; text-decoration-color: #c0c0c0\">   Status: </span><span style=\"color: #bfbf7f; text-decoration-color: #bfbf7f\">Executing Task...</span>\n",
              "    └── <span style=\"color: #008000; text-decoration-color: #008000; font-weight: bold\">🤖 Agent: </span><span style=\"color: #008000; text-decoration-color: #008000\">Retriever Agent</span>\n",
              "        <span style=\"color: #c0c0c0; text-decoration-color: #c0c0c0\">    Status: </span><span style=\"color: #008000; text-decoration-color: #008000; font-weight: bold\">In Progress</span>\n",
              "</pre>\n"
            ],
            "text/plain": [
              "\u001b[1;36m🚀 Crew: \u001b[0m\u001b[1;36mcrew\u001b[0m\n",
              "└── \u001b[1;33m📋 Task: 6a16152d-0ce4-4b1e-83d4-5f39fa526b77\u001b[0m\n",
              "    \u001b[37m   Status: \u001b[0m\u001b[2;33mExecuting Task...\u001b[0m\n",
              "    └── \u001b[1;32m🤖 Agent: \u001b[0m\u001b[32mRetriever Agent\u001b[0m\n",
              "        \u001b[37m    Status: \u001b[0m\u001b[1;32mIn Progress\u001b[0m\n"
            ]
          },
          "metadata": {},
          "output_type": "display_data"
        },
        {
          "data": {
            "text/html": [
              "<pre style=\"white-space:pre;overflow-x:auto;line-height:normal;font-family:Menlo,'DejaVu Sans Mono',consolas,'Courier New',monospace\">\n",
              "</pre>\n"
            ],
            "text/plain": [
              "\n"
            ]
          },
          "metadata": {},
          "output_type": "display_data"
        },
        {
          "data": {
            "text/html": [
              "<pre style=\"white-space:pre;overflow-x:auto;line-height:normal;font-family:Menlo,'DejaVu Sans Mono',consolas,'Courier New',monospace\"><span style=\"color: #008080; text-decoration-color: #008080; font-weight: bold\">🚀 Crew: crew</span>\n",
              "└── <span style=\"color: #808000; text-decoration-color: #808000; font-weight: bold\">📋 Task: 6a16152d-0ce4-4b1e-83d4-5f39fa526b77</span>\n",
              "    <span style=\"color: #c0c0c0; text-decoration-color: #c0c0c0\">   Status: </span><span style=\"color: #bfbf7f; text-decoration-color: #bfbf7f\">Executing Task...</span>\n",
              "    └── <span style=\"color: #008000; text-decoration-color: #008000; font-weight: bold\">🤖 Agent: </span><span style=\"color: #008000; text-decoration-color: #008000\">Retriever Agent</span>\n",
              "        <span style=\"color: #c0c0c0; text-decoration-color: #c0c0c0\">    Status: </span><span style=\"color: #008000; text-decoration-color: #008000; font-weight: bold\">In Progress</span>\n",
              "        └── <span style=\"color: #808000; text-decoration-color: #808000; font-weight: bold\">🔧 </span><span style=\"color: #808000; text-decoration-color: #808000\">Using RAG Tool (8)</span>\n",
              "</pre>\n"
            ],
            "text/plain": [
              "\u001b[1;36m🚀 Crew: \u001b[0m\u001b[1;36mcrew\u001b[0m\n",
              "└── \u001b[1;33m📋 Task: 6a16152d-0ce4-4b1e-83d4-5f39fa526b77\u001b[0m\n",
              "    \u001b[37m   Status: \u001b[0m\u001b[2;33mExecuting Task...\u001b[0m\n",
              "    └── \u001b[1;32m🤖 Agent: \u001b[0m\u001b[32mRetriever Agent\u001b[0m\n",
              "        \u001b[37m    Status: \u001b[0m\u001b[1;32mIn Progress\u001b[0m\n",
              "        └── \u001b[1;33m🔧 \u001b[0m\u001b[33mUsing RAG Tool (8)\u001b[0m\n"
            ]
          },
          "metadata": {},
          "output_type": "display_data"
        },
        {
          "data": {
            "text/html": [
              "<pre style=\"white-space:pre;overflow-x:auto;line-height:normal;font-family:Menlo,'DejaVu Sans Mono',consolas,'Courier New',monospace\">\n",
              "</pre>\n"
            ],
            "text/plain": [
              "\n"
            ]
          },
          "metadata": {},
          "output_type": "display_data"
        },
        {
          "data": {
            "text/html": [
              "<pre style=\"white-space:pre;overflow-x:auto;line-height:normal;font-family:Menlo,'DejaVu Sans Mono',consolas,'Courier New',monospace\"><span style=\"color: #008080; text-decoration-color: #008080; font-weight: bold\">🚀 Crew: crew</span>\n",
              "└── <span style=\"color: #808000; text-decoration-color: #808000; font-weight: bold\">📋 Task: 6a16152d-0ce4-4b1e-83d4-5f39fa526b77</span>\n",
              "    <span style=\"color: #c0c0c0; text-decoration-color: #c0c0c0\">   Status: </span><span style=\"color: #bfbf7f; text-decoration-color: #bfbf7f\">Executing Task...</span>\n",
              "    └── <span style=\"color: #008000; text-decoration-color: #008000; font-weight: bold\">🤖 Agent: </span><span style=\"color: #008000; text-decoration-color: #008000\">Retriever Agent</span>\n",
              "        <span style=\"color: #c0c0c0; text-decoration-color: #c0c0c0\">    Status: </span><span style=\"color: #008000; text-decoration-color: #008000; font-weight: bold\">In Progress</span>\n",
              "        └── <span style=\"color: #008000; text-decoration-color: #008000; font-weight: bold\">🔧 </span><span style=\"color: #008000; text-decoration-color: #008000\">Used RAG Tool (8)</span>\n",
              "</pre>\n"
            ],
            "text/plain": [
              "\u001b[1;36m🚀 Crew: \u001b[0m\u001b[1;36mcrew\u001b[0m\n",
              "└── \u001b[1;33m📋 Task: 6a16152d-0ce4-4b1e-83d4-5f39fa526b77\u001b[0m\n",
              "    \u001b[37m   Status: \u001b[0m\u001b[2;33mExecuting Task...\u001b[0m\n",
              "    └── \u001b[1;32m🤖 Agent: \u001b[0m\u001b[32mRetriever Agent\u001b[0m\n",
              "        \u001b[37m    Status: \u001b[0m\u001b[1;32mIn Progress\u001b[0m\n",
              "        └── \u001b[1;32m🔧 \u001b[0m\u001b[32mUsed RAG Tool (8)\u001b[0m\n"
            ]
          },
          "metadata": {},
          "output_type": "display_data"
        },
        {
          "data": {
            "text/html": [
              "<pre style=\"white-space:pre;overflow-x:auto;line-height:normal;font-family:Menlo,'DejaVu Sans Mono',consolas,'Courier New',monospace\">\n",
              "</pre>\n"
            ],
            "text/plain": [
              "\n"
            ]
          },
          "metadata": {},
          "output_type": "display_data"
        },
        {
          "name": "stdout",
          "output_type": "stream",
          "text": [
            "\n",
            "\n",
            "\u001b[1m\u001b[95m# Agent:\u001b[00m \u001b[1m\u001b[92mRetriever Agent\u001b[00m\n",
            "\u001b[95m## Using tool:\u001b[00m \u001b[92mRAG Tool\u001b[00m\n",
            "\u001b[95m## Tool Input:\u001b[00m \u001b[92m\n",
            "\"{\\\"question\\\": \\\"What is the name of the flagship project of the company?\\\"}\"\u001b[00m\n",
            "\u001b[95m## Tool Output:\u001b[00m \u001b[92m\n",
            "The name of the flagship project of Quantum Horizons Inc. is the 'StarLeap'.\u001b[00m\n"
          ]
        },
        {
          "data": {
            "text/html": [
              "<pre style=\"white-space:pre;overflow-x:auto;line-height:normal;font-family:Menlo,'DejaVu Sans Mono',consolas,'Courier New',monospace\"><span style=\"color: #008080; text-decoration-color: #008080; font-weight: bold\">🚀 Crew: crew</span>\n",
              "└── <span style=\"color: #808000; text-decoration-color: #808000; font-weight: bold\">📋 Task: 6a16152d-0ce4-4b1e-83d4-5f39fa526b77</span>\n",
              "    <span style=\"color: #c0c0c0; text-decoration-color: #c0c0c0\">   Status: </span><span style=\"color: #bfbf7f; text-decoration-color: #bfbf7f\">Executing Task...</span>\n",
              "    └── <span style=\"color: #008000; text-decoration-color: #008000; font-weight: bold\">🤖 Agent: </span><span style=\"color: #008000; text-decoration-color: #008000\">Retriever Agent</span>\n",
              "        <span style=\"color: #c0c0c0; text-decoration-color: #c0c0c0\">    Status: </span><span style=\"color: #008000; text-decoration-color: #008000; font-weight: bold\">In Progress</span>\n",
              "        ├── <span style=\"color: #008000; text-decoration-color: #008000; font-weight: bold\">🔧 </span><span style=\"color: #008000; text-decoration-color: #008000\">Used RAG Tool (8)</span>\n",
              "        └── <span style=\"color: #000080; text-decoration-color: #000080; font-weight: bold\">🧠 </span><span style=\"color: #000080; text-decoration-color: #000080\">Thinking...</span>\n",
              "</pre>\n"
            ],
            "text/plain": [
              "\u001b[1;36m🚀 Crew: \u001b[0m\u001b[1;36mcrew\u001b[0m\n",
              "└── \u001b[1;33m📋 Task: 6a16152d-0ce4-4b1e-83d4-5f39fa526b77\u001b[0m\n",
              "    \u001b[37m   Status: \u001b[0m\u001b[2;33mExecuting Task...\u001b[0m\n",
              "    └── \u001b[1;32m🤖 Agent: \u001b[0m\u001b[32mRetriever Agent\u001b[0m\n",
              "        \u001b[37m    Status: \u001b[0m\u001b[1;32mIn Progress\u001b[0m\n",
              "        ├── \u001b[1;32m🔧 \u001b[0m\u001b[32mUsed RAG Tool (8)\u001b[0m\n",
              "        └── \u001b[1;34m🧠 \u001b[0m\u001b[34mThinking...\u001b[0m\n"
            ]
          },
          "metadata": {},
          "output_type": "display_data"
        },
        {
          "data": {
            "text/html": [
              "<pre style=\"white-space:pre;overflow-x:auto;line-height:normal;font-family:Menlo,'DejaVu Sans Mono',consolas,'Courier New',monospace\">\n",
              "</pre>\n"
            ],
            "text/plain": [
              "\n"
            ]
          },
          "metadata": {},
          "output_type": "display_data"
        },
        {
          "data": {
            "text/html": [
              "<pre style=\"white-space:pre;overflow-x:auto;line-height:normal;font-family:Menlo,'DejaVu Sans Mono',consolas,'Courier New',monospace\"><span style=\"color: #008080; text-decoration-color: #008080; font-weight: bold\">🚀 Crew: crew</span>\n",
              "└── <span style=\"color: #808000; text-decoration-color: #808000; font-weight: bold\">📋 Task: 6a16152d-0ce4-4b1e-83d4-5f39fa526b77</span>\n",
              "    <span style=\"color: #c0c0c0; text-decoration-color: #c0c0c0\">   Status: </span><span style=\"color: #bfbf7f; text-decoration-color: #bfbf7f\">Executing Task...</span>\n",
              "    └── <span style=\"color: #008000; text-decoration-color: #008000; font-weight: bold\">🤖 Agent: </span><span style=\"color: #008000; text-decoration-color: #008000\">Retriever Agent</span>\n",
              "        <span style=\"color: #c0c0c0; text-decoration-color: #c0c0c0\">    Status: </span><span style=\"color: #008000; text-decoration-color: #008000; font-weight: bold\">In Progress</span>\n",
              "        └── <span style=\"color: #008000; text-decoration-color: #008000; font-weight: bold\">🔧 </span><span style=\"color: #008000; text-decoration-color: #008000\">Used RAG Tool (8)</span>\n",
              "</pre>\n"
            ],
            "text/plain": [
              "\u001b[1;36m🚀 Crew: \u001b[0m\u001b[1;36mcrew\u001b[0m\n",
              "└── \u001b[1;33m📋 Task: 6a16152d-0ce4-4b1e-83d4-5f39fa526b77\u001b[0m\n",
              "    \u001b[37m   Status: \u001b[0m\u001b[2;33mExecuting Task...\u001b[0m\n",
              "    └── \u001b[1;32m🤖 Agent: \u001b[0m\u001b[32mRetriever Agent\u001b[0m\n",
              "        \u001b[37m    Status: \u001b[0m\u001b[1;32mIn Progress\u001b[0m\n",
              "        └── \u001b[1;32m🔧 \u001b[0m\u001b[32mUsed RAG Tool (8)\u001b[0m\n"
            ]
          },
          "metadata": {},
          "output_type": "display_data"
        },
        {
          "data": {
            "text/html": [
              "<pre style=\"white-space:pre;overflow-x:auto;line-height:normal;font-family:Menlo,'DejaVu Sans Mono',consolas,'Courier New',monospace\">\n",
              "</pre>\n"
            ],
            "text/plain": [
              "\n"
            ]
          },
          "metadata": {},
          "output_type": "display_data"
        },
        {
          "name": "stdout",
          "output_type": "stream",
          "text": [
            "\n",
            "\n",
            "\u001b[1m\u001b[95m# Agent:\u001b[00m \u001b[1m\u001b[92mRetriever Agent\u001b[00m\n",
            "\u001b[95m## Final Answer:\u001b[00m \u001b[92m\n",
            "The name of the flagship project of Quantum Horizons Inc. is the 'StarLeap'.\u001b[00m\n",
            "\n",
            "\n"
          ]
        },
        {
          "data": {
            "text/html": [
              "<pre style=\"white-space:pre;overflow-x:auto;line-height:normal;font-family:Menlo,'DejaVu Sans Mono',consolas,'Courier New',monospace\"><span style=\"color: #008080; text-decoration-color: #008080; font-weight: bold\">🚀 Crew: crew</span>\n",
              "└── <span style=\"color: #808000; text-decoration-color: #808000; font-weight: bold\">📋 Task: 6a16152d-0ce4-4b1e-83d4-5f39fa526b77</span>\n",
              "    <span style=\"color: #c0c0c0; text-decoration-color: #c0c0c0\">   Status: </span><span style=\"color: #bfbf7f; text-decoration-color: #bfbf7f\">Executing Task...</span>\n",
              "    └── <span style=\"color: #008000; text-decoration-color: #008000; font-weight: bold\">🤖 Agent: </span><span style=\"color: #008000; text-decoration-color: #008000\">Retriever Agent</span>\n",
              "        <span style=\"color: #c0c0c0; text-decoration-color: #c0c0c0\">    Status: </span><span style=\"color: #008000; text-decoration-color: #008000; font-weight: bold\">✅ Completed</span>\n",
              "        └── <span style=\"color: #008000; text-decoration-color: #008000; font-weight: bold\">🔧 </span><span style=\"color: #008000; text-decoration-color: #008000\">Used RAG Tool (8)</span>\n",
              "</pre>\n"
            ],
            "text/plain": [
              "\u001b[1;36m🚀 Crew: \u001b[0m\u001b[1;36mcrew\u001b[0m\n",
              "└── \u001b[1;33m📋 Task: 6a16152d-0ce4-4b1e-83d4-5f39fa526b77\u001b[0m\n",
              "    \u001b[37m   Status: \u001b[0m\u001b[2;33mExecuting Task...\u001b[0m\n",
              "    └── \u001b[1;32m🤖 Agent: \u001b[0m\u001b[32mRetriever Agent\u001b[0m\n",
              "        \u001b[37m    Status: \u001b[0m\u001b[1;32m✅ Completed\u001b[0m\n",
              "        └── \u001b[1;32m🔧 \u001b[0m\u001b[32mUsed RAG Tool (8)\u001b[0m\n"
            ]
          },
          "metadata": {},
          "output_type": "display_data"
        },
        {
          "data": {
            "text/html": [
              "<pre style=\"white-space:pre;overflow-x:auto;line-height:normal;font-family:Menlo,'DejaVu Sans Mono',consolas,'Courier New',monospace\">\n",
              "</pre>\n"
            ],
            "text/plain": [
              "\n"
            ]
          },
          "metadata": {},
          "output_type": "display_data"
        },
        {
          "data": {
            "text/html": [
              "<pre style=\"white-space:pre;overflow-x:auto;line-height:normal;font-family:Menlo,'DejaVu Sans Mono',consolas,'Courier New',monospace\"><span style=\"color: #008080; text-decoration-color: #008080; font-weight: bold\">🚀 Crew: crew</span>\n",
              "└── <span style=\"color: #008000; text-decoration-color: #008000; font-weight: bold\">📋 Task: 6a16152d-0ce4-4b1e-83d4-5f39fa526b77</span>\n",
              "    <span style=\"color: #c0c0c0; text-decoration-color: #c0c0c0\">   Assigned to: </span><span style=\"color: #008000; text-decoration-color: #008000\">Retriever Agent</span>\n",
              "    <span style=\"color: #c0c0c0; text-decoration-color: #c0c0c0\">   Status: </span><span style=\"color: #008000; text-decoration-color: #008000; font-weight: bold\">✅ Completed</span>\n",
              "    └── <span style=\"color: #008000; text-decoration-color: #008000; font-weight: bold\">🤖 Agent: </span><span style=\"color: #008000; text-decoration-color: #008000\">Retriever Agent</span>\n",
              "        <span style=\"color: #c0c0c0; text-decoration-color: #c0c0c0\">    Status: </span><span style=\"color: #008000; text-decoration-color: #008000; font-weight: bold\">✅ Completed</span>\n",
              "        └── <span style=\"color: #008000; text-decoration-color: #008000; font-weight: bold\">🔧 </span><span style=\"color: #008000; text-decoration-color: #008000\">Used RAG Tool (8)</span>\n",
              "</pre>\n"
            ],
            "text/plain": [
              "\u001b[1;36m🚀 Crew: \u001b[0m\u001b[1;36mcrew\u001b[0m\n",
              "└── \u001b[1;32m📋 Task: 6a16152d-0ce4-4b1e-83d4-5f39fa526b77\u001b[0m\n",
              "    \u001b[37m   Assigned to: \u001b[0m\u001b[32mRetriever Agent\u001b[0m\n",
              "    \u001b[37m   Status: \u001b[0m\u001b[1;32m✅ Completed\u001b[0m\n",
              "    └── \u001b[1;32m🤖 Agent: \u001b[0m\u001b[32mRetriever Agent\u001b[0m\n",
              "        \u001b[37m    Status: \u001b[0m\u001b[1;32m✅ Completed\u001b[0m\n",
              "        └── \u001b[1;32m🔧 \u001b[0m\u001b[32mUsed RAG Tool (8)\u001b[0m\n"
            ]
          },
          "metadata": {},
          "output_type": "display_data"
        },
        {
          "data": {
            "text/html": [
              "<pre style=\"white-space:pre;overflow-x:auto;line-height:normal;font-family:Menlo,'DejaVu Sans Mono',consolas,'Courier New',monospace\"><span style=\"color: #008000; text-decoration-color: #008000\">╭──────────────────────────────────────────────── Task Completion ────────────────────────────────────────────────╮</span>\n",
              "<span style=\"color: #008000; text-decoration-color: #008000\">│</span>                                                                                                                 <span style=\"color: #008000; text-decoration-color: #008000\">│</span>\n",
              "<span style=\"color: #008000; text-decoration-color: #008000\">│</span>  <span style=\"color: #008000; text-decoration-color: #008000; font-weight: bold\">Task Completed</span>                                                                                                 <span style=\"color: #008000; text-decoration-color: #008000\">│</span>\n",
              "<span style=\"color: #008000; text-decoration-color: #008000\">│</span>  <span style=\"color: #c0c0c0; text-decoration-color: #c0c0c0\">Name: </span><span style=\"color: #008000; text-decoration-color: #008000\">6a16152d-0ce4-4b1e-83d4-5f39fa526b77</span>                                                                     <span style=\"color: #008000; text-decoration-color: #008000\">│</span>\n",
              "<span style=\"color: #008000; text-decoration-color: #008000\">│</span>  <span style=\"color: #c0c0c0; text-decoration-color: #c0c0c0\">Agent: </span><span style=\"color: #008000; text-decoration-color: #008000\">Retriever Agent</span>                                                                                         <span style=\"color: #008000; text-decoration-color: #008000\">│</span>\n",
              "<span style=\"color: #008000; text-decoration-color: #008000\">│</span>                                                                                                                 <span style=\"color: #008000; text-decoration-color: #008000\">│</span>\n",
              "<span style=\"color: #008000; text-decoration-color: #008000\">│</span>                                                                                                                 <span style=\"color: #008000; text-decoration-color: #008000\">│</span>\n",
              "<span style=\"color: #008000; text-decoration-color: #008000\">╰─────────────────────────────────────────────────────────────────────────────────────────────────────────────────╯</span>\n",
              "</pre>\n"
            ],
            "text/plain": [
              "\u001b[32m╭─\u001b[0m\u001b[32m───────────────────────────────────────────────\u001b[0m\u001b[32m Task Completion \u001b[0m\u001b[32m───────────────────────────────────────────────\u001b[0m\u001b[32m─╮\u001b[0m\n",
              "\u001b[32m│\u001b[0m                                                                                                                 \u001b[32m│\u001b[0m\n",
              "\u001b[32m│\u001b[0m  \u001b[1;32mTask Completed\u001b[0m                                                                                                 \u001b[32m│\u001b[0m\n",
              "\u001b[32m│\u001b[0m  \u001b[37mName: \u001b[0m\u001b[32m6a16152d-0ce4-4b1e-83d4-5f39fa526b77\u001b[0m                                                                     \u001b[32m│\u001b[0m\n",
              "\u001b[32m│\u001b[0m  \u001b[37mAgent: \u001b[0m\u001b[32mRetriever Agent\u001b[0m                                                                                         \u001b[32m│\u001b[0m\n",
              "\u001b[32m│\u001b[0m                                                                                                                 \u001b[32m│\u001b[0m\n",
              "\u001b[32m│\u001b[0m                                                                                                                 \u001b[32m│\u001b[0m\n",
              "\u001b[32m╰─────────────────────────────────────────────────────────────────────────────────────────────────────────────────╯\u001b[0m\n"
            ]
          },
          "metadata": {},
          "output_type": "display_data"
        },
        {
          "data": {
            "text/html": [
              "<pre style=\"white-space:pre;overflow-x:auto;line-height:normal;font-family:Menlo,'DejaVu Sans Mono',consolas,'Courier New',monospace\">\n",
              "</pre>\n"
            ],
            "text/plain": [
              "\n"
            ]
          },
          "metadata": {},
          "output_type": "display_data"
        },
        {
          "data": {
            "text/html": [
              "<pre style=\"white-space:pre;overflow-x:auto;line-height:normal;font-family:Menlo,'DejaVu Sans Mono',consolas,'Courier New',monospace\"><span style=\"color: #008080; text-decoration-color: #008080; font-weight: bold\">🚀 Crew: crew</span>\n",
              "├── <span style=\"color: #008000; text-decoration-color: #008000; font-weight: bold\">📋 Task: 6a16152d-0ce4-4b1e-83d4-5f39fa526b77</span>\n",
              "│   <span style=\"color: #c0c0c0; text-decoration-color: #c0c0c0\">   Assigned to: </span><span style=\"color: #008000; text-decoration-color: #008000\">Retriever Agent</span>\n",
              "│   <span style=\"color: #c0c0c0; text-decoration-color: #c0c0c0\">   Status: </span><span style=\"color: #008000; text-decoration-color: #008000; font-weight: bold\">✅ Completed</span>\n",
              "│   └── <span style=\"color: #008000; text-decoration-color: #008000; font-weight: bold\">🤖 Agent: </span><span style=\"color: #008000; text-decoration-color: #008000\">Retriever Agent</span>\n",
              "│       <span style=\"color: #c0c0c0; text-decoration-color: #c0c0c0\">    Status: </span><span style=\"color: #008000; text-decoration-color: #008000; font-weight: bold\">✅ Completed</span>\n",
              "│       └── <span style=\"color: #008000; text-decoration-color: #008000; font-weight: bold\">🔧 </span><span style=\"color: #008000; text-decoration-color: #008000\">Used RAG Tool (8)</span>\n",
              "└── <span style=\"color: #808000; text-decoration-color: #808000; font-weight: bold\">📋 Task: cde4d9db-8cf0-49ec-a96c-a48cff42649f</span>\n",
              "    <span style=\"color: #c0c0c0; text-decoration-color: #c0c0c0\">   Status: </span><span style=\"color: #bfbf7f; text-decoration-color: #bfbf7f\">Executing Task...</span>\n",
              "</pre>\n"
            ],
            "text/plain": [
              "\u001b[1;36m🚀 Crew: \u001b[0m\u001b[1;36mcrew\u001b[0m\n",
              "├── \u001b[1;32m📋 Task: 6a16152d-0ce4-4b1e-83d4-5f39fa526b77\u001b[0m\n",
              "│   \u001b[37m   Assigned to: \u001b[0m\u001b[32mRetriever Agent\u001b[0m\n",
              "│   \u001b[37m   Status: \u001b[0m\u001b[1;32m✅ Completed\u001b[0m\n",
              "│   └── \u001b[1;32m🤖 Agent: \u001b[0m\u001b[32mRetriever Agent\u001b[0m\n",
              "│       \u001b[37m    Status: \u001b[0m\u001b[1;32m✅ Completed\u001b[0m\n",
              "│       └── \u001b[1;32m🔧 \u001b[0m\u001b[32mUsed RAG Tool (8)\u001b[0m\n",
              "└── \u001b[1;33m📋 Task: cde4d9db-8cf0-49ec-a96c-a48cff42649f\u001b[0m\n",
              "    \u001b[37m   Status: \u001b[0m\u001b[2;33mExecuting Task...\u001b[0m\n"
            ]
          },
          "metadata": {},
          "output_type": "display_data"
        },
        {
          "data": {
            "text/html": [
              "<pre style=\"white-space:pre;overflow-x:auto;line-height:normal;font-family:Menlo,'DejaVu Sans Mono',consolas,'Courier New',monospace\">\n",
              "</pre>\n"
            ],
            "text/plain": [
              "\n"
            ]
          },
          "metadata": {},
          "output_type": "display_data"
        },
        {
          "data": {
            "text/html": [
              "<pre style=\"white-space:pre;overflow-x:auto;line-height:normal;font-family:Menlo,'DejaVu Sans Mono',consolas,'Courier New',monospace\"><span style=\"color: #008080; text-decoration-color: #008080; font-weight: bold\">🚀 Crew: crew</span>\n",
              "├── <span style=\"color: #008000; text-decoration-color: #008000; font-weight: bold\">📋 Task: 6a16152d-0ce4-4b1e-83d4-5f39fa526b77</span>\n",
              "│   <span style=\"color: #c0c0c0; text-decoration-color: #c0c0c0\">   Assigned to: </span><span style=\"color: #008000; text-decoration-color: #008000\">Retriever Agent</span>\n",
              "│   <span style=\"color: #c0c0c0; text-decoration-color: #c0c0c0\">   Status: </span><span style=\"color: #008000; text-decoration-color: #008000; font-weight: bold\">✅ Completed</span>\n",
              "│   └── <span style=\"color: #008000; text-decoration-color: #008000; font-weight: bold\">🤖 Agent: </span><span style=\"color: #008000; text-decoration-color: #008000\">Retriever Agent</span>\n",
              "│       <span style=\"color: #c0c0c0; text-decoration-color: #c0c0c0\">    Status: </span><span style=\"color: #008000; text-decoration-color: #008000; font-weight: bold\">✅ Completed</span>\n",
              "│       └── <span style=\"color: #008000; text-decoration-color: #008000; font-weight: bold\">🔧 </span><span style=\"color: #008000; text-decoration-color: #008000\">Used RAG Tool (8)</span>\n",
              "└── <span style=\"color: #808000; text-decoration-color: #808000; font-weight: bold\">📋 Task: cde4d9db-8cf0-49ec-a96c-a48cff42649f</span>\n",
              "    <span style=\"color: #c0c0c0; text-decoration-color: #c0c0c0\">   Status: </span><span style=\"color: #bfbf7f; text-decoration-color: #bfbf7f\">Executing Task...</span>\n",
              "    └── <span style=\"color: #008000; text-decoration-color: #008000; font-weight: bold\">🤖 Agent: </span><span style=\"color: #008000; text-decoration-color: #008000\">Senior Customer Support Agent</span>\n",
              "        <span style=\"color: #c0c0c0; text-decoration-color: #c0c0c0\">    Status: </span><span style=\"color: #008000; text-decoration-color: #008000; font-weight: bold\">In Progress</span>\n",
              "</pre>\n"
            ],
            "text/plain": [
              "\u001b[1;36m🚀 Crew: \u001b[0m\u001b[1;36mcrew\u001b[0m\n",
              "├── \u001b[1;32m📋 Task: 6a16152d-0ce4-4b1e-83d4-5f39fa526b77\u001b[0m\n",
              "│   \u001b[37m   Assigned to: \u001b[0m\u001b[32mRetriever Agent\u001b[0m\n",
              "│   \u001b[37m   Status: \u001b[0m\u001b[1;32m✅ Completed\u001b[0m\n",
              "│   └── \u001b[1;32m🤖 Agent: \u001b[0m\u001b[32mRetriever Agent\u001b[0m\n",
              "│       \u001b[37m    Status: \u001b[0m\u001b[1;32m✅ Completed\u001b[0m\n",
              "│       └── \u001b[1;32m🔧 \u001b[0m\u001b[32mUsed RAG Tool (8)\u001b[0m\n",
              "└── \u001b[1;33m📋 Task: cde4d9db-8cf0-49ec-a96c-a48cff42649f\u001b[0m\n",
              "    \u001b[37m   Status: \u001b[0m\u001b[2;33mExecuting Task...\u001b[0m\n",
              "    └── \u001b[1;32m🤖 Agent: \u001b[0m\u001b[32mSenior Customer Support Agent\u001b[0m\n",
              "        \u001b[37m    Status: \u001b[0m\u001b[1;32mIn Progress\u001b[0m\n"
            ]
          },
          "metadata": {},
          "output_type": "display_data"
        },
        {
          "data": {
            "text/html": [
              "<pre style=\"white-space:pre;overflow-x:auto;line-height:normal;font-family:Menlo,'DejaVu Sans Mono',consolas,'Courier New',monospace\">\n",
              "</pre>\n"
            ],
            "text/plain": [
              "\n"
            ]
          },
          "metadata": {},
          "output_type": "display_data"
        },
        {
          "name": "stdout",
          "output_type": "stream",
          "text": [
            "\u001b[1m\u001b[95m# Agent:\u001b[00m \u001b[1m\u001b[92mSenior Customer Support Agent\u001b[00m\n",
            "\u001b[95m## Task:\u001b[00m \u001b[92mUsing the retrieved information, accurately and concisely answer the user's query: What is the name of the flagship project of the company?.\u001b[00m\n"
          ]
        },
        {
          "data": {
            "text/html": [
              "<pre style=\"white-space:pre;overflow-x:auto;line-height:normal;font-family:Menlo,'DejaVu Sans Mono',consolas,'Courier New',monospace\"><span style=\"color: #008080; text-decoration-color: #008080; font-weight: bold\">🚀 Crew: crew</span>\n",
              "├── <span style=\"color: #008000; text-decoration-color: #008000; font-weight: bold\">📋 Task: 6a16152d-0ce4-4b1e-83d4-5f39fa526b77</span>\n",
              "│   <span style=\"color: #c0c0c0; text-decoration-color: #c0c0c0\">   Assigned to: </span><span style=\"color: #008000; text-decoration-color: #008000\">Retriever Agent</span>\n",
              "│   <span style=\"color: #c0c0c0; text-decoration-color: #c0c0c0\">   Status: </span><span style=\"color: #008000; text-decoration-color: #008000; font-weight: bold\">✅ Completed</span>\n",
              "│   └── <span style=\"color: #008000; text-decoration-color: #008000; font-weight: bold\">🤖 Agent: </span><span style=\"color: #008000; text-decoration-color: #008000\">Retriever Agent</span>\n",
              "│       <span style=\"color: #c0c0c0; text-decoration-color: #c0c0c0\">    Status: </span><span style=\"color: #008000; text-decoration-color: #008000; font-weight: bold\">✅ Completed</span>\n",
              "│       └── <span style=\"color: #008000; text-decoration-color: #008000; font-weight: bold\">🔧 </span><span style=\"color: #008000; text-decoration-color: #008000\">Used RAG Tool (8)</span>\n",
              "└── <span style=\"color: #808000; text-decoration-color: #808000; font-weight: bold\">📋 Task: cde4d9db-8cf0-49ec-a96c-a48cff42649f</span>\n",
              "    <span style=\"color: #c0c0c0; text-decoration-color: #c0c0c0\">   Status: </span><span style=\"color: #bfbf7f; text-decoration-color: #bfbf7f\">Executing Task...</span>\n",
              "    └── <span style=\"color: #008000; text-decoration-color: #008000; font-weight: bold\">🤖 Agent: </span><span style=\"color: #008000; text-decoration-color: #008000\">Senior Customer Support Agent</span>\n",
              "        <span style=\"color: #c0c0c0; text-decoration-color: #c0c0c0\">    Status: </span><span style=\"color: #008000; text-decoration-color: #008000; font-weight: bold\">In Progress</span>\n",
              "        └── <span style=\"color: #000080; text-decoration-color: #000080; font-weight: bold\">🧠 </span><span style=\"color: #000080; text-decoration-color: #000080\">Thinking...</span>\n",
              "</pre>\n"
            ],
            "text/plain": [
              "\u001b[1;36m🚀 Crew: \u001b[0m\u001b[1;36mcrew\u001b[0m\n",
              "├── \u001b[1;32m📋 Task: 6a16152d-0ce4-4b1e-83d4-5f39fa526b77\u001b[0m\n",
              "│   \u001b[37m   Assigned to: \u001b[0m\u001b[32mRetriever Agent\u001b[0m\n",
              "│   \u001b[37m   Status: \u001b[0m\u001b[1;32m✅ Completed\u001b[0m\n",
              "│   └── \u001b[1;32m🤖 Agent: \u001b[0m\u001b[32mRetriever Agent\u001b[0m\n",
              "│       \u001b[37m    Status: \u001b[0m\u001b[1;32m✅ Completed\u001b[0m\n",
              "│       └── \u001b[1;32m🔧 \u001b[0m\u001b[32mUsed RAG Tool (8)\u001b[0m\n",
              "└── \u001b[1;33m📋 Task: cde4d9db-8cf0-49ec-a96c-a48cff42649f\u001b[0m\n",
              "    \u001b[37m   Status: \u001b[0m\u001b[2;33mExecuting Task...\u001b[0m\n",
              "    └── \u001b[1;32m🤖 Agent: \u001b[0m\u001b[32mSenior Customer Support Agent\u001b[0m\n",
              "        \u001b[37m    Status: \u001b[0m\u001b[1;32mIn Progress\u001b[0m\n",
              "        └── \u001b[1;34m🧠 \u001b[0m\u001b[34mThinking...\u001b[0m\n"
            ]
          },
          "metadata": {},
          "output_type": "display_data"
        },
        {
          "data": {
            "text/html": [
              "<pre style=\"white-space:pre;overflow-x:auto;line-height:normal;font-family:Menlo,'DejaVu Sans Mono',consolas,'Courier New',monospace\">\n",
              "</pre>\n"
            ],
            "text/plain": [
              "\n"
            ]
          },
          "metadata": {},
          "output_type": "display_data"
        },
        {
          "data": {
            "text/html": [
              "<pre style=\"white-space:pre;overflow-x:auto;line-height:normal;font-family:Menlo,'DejaVu Sans Mono',consolas,'Courier New',monospace\"><span style=\"color: #008080; text-decoration-color: #008080; font-weight: bold\">🚀 Crew: crew</span>\n",
              "├── <span style=\"color: #008000; text-decoration-color: #008000; font-weight: bold\">📋 Task: 6a16152d-0ce4-4b1e-83d4-5f39fa526b77</span>\n",
              "│   <span style=\"color: #c0c0c0; text-decoration-color: #c0c0c0\">   Assigned to: </span><span style=\"color: #008000; text-decoration-color: #008000\">Retriever Agent</span>\n",
              "│   <span style=\"color: #c0c0c0; text-decoration-color: #c0c0c0\">   Status: </span><span style=\"color: #008000; text-decoration-color: #008000; font-weight: bold\">✅ Completed</span>\n",
              "│   └── <span style=\"color: #008000; text-decoration-color: #008000; font-weight: bold\">🤖 Agent: </span><span style=\"color: #008000; text-decoration-color: #008000\">Retriever Agent</span>\n",
              "│       <span style=\"color: #c0c0c0; text-decoration-color: #c0c0c0\">    Status: </span><span style=\"color: #008000; text-decoration-color: #008000; font-weight: bold\">✅ Completed</span>\n",
              "│       └── <span style=\"color: #008000; text-decoration-color: #008000; font-weight: bold\">🔧 </span><span style=\"color: #008000; text-decoration-color: #008000\">Used RAG Tool (8)</span>\n",
              "└── <span style=\"color: #808000; text-decoration-color: #808000; font-weight: bold\">📋 Task: cde4d9db-8cf0-49ec-a96c-a48cff42649f</span>\n",
              "    <span style=\"color: #c0c0c0; text-decoration-color: #c0c0c0\">   Status: </span><span style=\"color: #bfbf7f; text-decoration-color: #bfbf7f\">Executing Task...</span>\n",
              "    └── <span style=\"color: #008000; text-decoration-color: #008000; font-weight: bold\">🤖 Agent: </span><span style=\"color: #008000; text-decoration-color: #008000\">Senior Customer Support Agent</span>\n",
              "        <span style=\"color: #c0c0c0; text-decoration-color: #c0c0c0\">    Status: </span><span style=\"color: #008000; text-decoration-color: #008000; font-weight: bold\">In Progress</span>\n",
              "</pre>\n"
            ],
            "text/plain": [
              "\u001b[1;36m🚀 Crew: \u001b[0m\u001b[1;36mcrew\u001b[0m\n",
              "├── \u001b[1;32m📋 Task: 6a16152d-0ce4-4b1e-83d4-5f39fa526b77\u001b[0m\n",
              "│   \u001b[37m   Assigned to: \u001b[0m\u001b[32mRetriever Agent\u001b[0m\n",
              "│   \u001b[37m   Status: \u001b[0m\u001b[1;32m✅ Completed\u001b[0m\n",
              "│   └── \u001b[1;32m🤖 Agent: \u001b[0m\u001b[32mRetriever Agent\u001b[0m\n",
              "│       \u001b[37m    Status: \u001b[0m\u001b[1;32m✅ Completed\u001b[0m\n",
              "│       └── \u001b[1;32m🔧 \u001b[0m\u001b[32mUsed RAG Tool (8)\u001b[0m\n",
              "└── \u001b[1;33m📋 Task: cde4d9db-8cf0-49ec-a96c-a48cff42649f\u001b[0m\n",
              "    \u001b[37m   Status: \u001b[0m\u001b[2;33mExecuting Task...\u001b[0m\n",
              "    └── \u001b[1;32m🤖 Agent: \u001b[0m\u001b[32mSenior Customer Support Agent\u001b[0m\n",
              "        \u001b[37m    Status: \u001b[0m\u001b[1;32mIn Progress\u001b[0m\n"
            ]
          },
          "metadata": {},
          "output_type": "display_data"
        },
        {
          "data": {
            "text/html": [
              "<pre style=\"white-space:pre;overflow-x:auto;line-height:normal;font-family:Menlo,'DejaVu Sans Mono',consolas,'Courier New',monospace\">\n",
              "</pre>\n"
            ],
            "text/plain": [
              "\n"
            ]
          },
          "metadata": {},
          "output_type": "display_data"
        },
        {
          "name": "stdout",
          "output_type": "stream",
          "text": [
            "\n",
            "\n",
            "\u001b[1m\u001b[95m# Agent:\u001b[00m \u001b[1m\u001b[92mSenior Customer Support Agent\u001b[00m\n",
            "\u001b[95m## Final Answer:\u001b[00m \u001b[92m\n",
            "The name of the flagship project of Quantum Horizons Inc. is the 'StarLeap'.\u001b[00m\n",
            "\n",
            "\n"
          ]
        },
        {
          "data": {
            "text/html": [
              "<pre style=\"white-space:pre;overflow-x:auto;line-height:normal;font-family:Menlo,'DejaVu Sans Mono',consolas,'Courier New',monospace\"><span style=\"color: #008080; text-decoration-color: #008080; font-weight: bold\">🚀 Crew: crew</span>\n",
              "├── <span style=\"color: #008000; text-decoration-color: #008000; font-weight: bold\">📋 Task: 6a16152d-0ce4-4b1e-83d4-5f39fa526b77</span>\n",
              "│   <span style=\"color: #c0c0c0; text-decoration-color: #c0c0c0\">   Assigned to: </span><span style=\"color: #008000; text-decoration-color: #008000\">Retriever Agent</span>\n",
              "│   <span style=\"color: #c0c0c0; text-decoration-color: #c0c0c0\">   Status: </span><span style=\"color: #008000; text-decoration-color: #008000; font-weight: bold\">✅ Completed</span>\n",
              "│   └── <span style=\"color: #008000; text-decoration-color: #008000; font-weight: bold\">🤖 Agent: </span><span style=\"color: #008000; text-decoration-color: #008000\">Retriever Agent</span>\n",
              "│       <span style=\"color: #c0c0c0; text-decoration-color: #c0c0c0\">    Status: </span><span style=\"color: #008000; text-decoration-color: #008000; font-weight: bold\">✅ Completed</span>\n",
              "│       └── <span style=\"color: #008000; text-decoration-color: #008000; font-weight: bold\">🔧 </span><span style=\"color: #008000; text-decoration-color: #008000\">Used RAG Tool (8)</span>\n",
              "└── <span style=\"color: #808000; text-decoration-color: #808000; font-weight: bold\">📋 Task: cde4d9db-8cf0-49ec-a96c-a48cff42649f</span>\n",
              "    <span style=\"color: #c0c0c0; text-decoration-color: #c0c0c0\">   Status: </span><span style=\"color: #bfbf7f; text-decoration-color: #bfbf7f\">Executing Task...</span>\n",
              "    └── <span style=\"color: #008000; text-decoration-color: #008000; font-weight: bold\">🤖 Agent: </span><span style=\"color: #008000; text-decoration-color: #008000\">Senior Customer Support Agent</span>\n",
              "        <span style=\"color: #c0c0c0; text-decoration-color: #c0c0c0\">    Status: </span><span style=\"color: #008000; text-decoration-color: #008000; font-weight: bold\">✅ Completed</span>\n",
              "</pre>\n"
            ],
            "text/plain": [
              "\u001b[1;36m🚀 Crew: \u001b[0m\u001b[1;36mcrew\u001b[0m\n",
              "├── \u001b[1;32m📋 Task: 6a16152d-0ce4-4b1e-83d4-5f39fa526b77\u001b[0m\n",
              "│   \u001b[37m   Assigned to: \u001b[0m\u001b[32mRetriever Agent\u001b[0m\n",
              "│   \u001b[37m   Status: \u001b[0m\u001b[1;32m✅ Completed\u001b[0m\n",
              "│   └── \u001b[1;32m🤖 Agent: \u001b[0m\u001b[32mRetriever Agent\u001b[0m\n",
              "│       \u001b[37m    Status: \u001b[0m\u001b[1;32m✅ Completed\u001b[0m\n",
              "│       └── \u001b[1;32m🔧 \u001b[0m\u001b[32mUsed RAG Tool (8)\u001b[0m\n",
              "└── \u001b[1;33m📋 Task: cde4d9db-8cf0-49ec-a96c-a48cff42649f\u001b[0m\n",
              "    \u001b[37m   Status: \u001b[0m\u001b[2;33mExecuting Task...\u001b[0m\n",
              "    └── \u001b[1;32m🤖 Agent: \u001b[0m\u001b[32mSenior Customer Support Agent\u001b[0m\n",
              "        \u001b[37m    Status: \u001b[0m\u001b[1;32m✅ Completed\u001b[0m\n"
            ]
          },
          "metadata": {},
          "output_type": "display_data"
        },
        {
          "data": {
            "text/html": [
              "<pre style=\"white-space:pre;overflow-x:auto;line-height:normal;font-family:Menlo,'DejaVu Sans Mono',consolas,'Courier New',monospace\">\n",
              "</pre>\n"
            ],
            "text/plain": [
              "\n"
            ]
          },
          "metadata": {},
          "output_type": "display_data"
        },
        {
          "data": {
            "text/html": [
              "<pre style=\"white-space:pre;overflow-x:auto;line-height:normal;font-family:Menlo,'DejaVu Sans Mono',consolas,'Courier New',monospace\"><span style=\"color: #008080; text-decoration-color: #008080; font-weight: bold\">🚀 Crew: crew</span>\n",
              "├── <span style=\"color: #008000; text-decoration-color: #008000; font-weight: bold\">📋 Task: 6a16152d-0ce4-4b1e-83d4-5f39fa526b77</span>\n",
              "│   <span style=\"color: #c0c0c0; text-decoration-color: #c0c0c0\">   Assigned to: </span><span style=\"color: #008000; text-decoration-color: #008000\">Retriever Agent</span>\n",
              "│   <span style=\"color: #c0c0c0; text-decoration-color: #c0c0c0\">   Status: </span><span style=\"color: #008000; text-decoration-color: #008000; font-weight: bold\">✅ Completed</span>\n",
              "│   └── <span style=\"color: #008000; text-decoration-color: #008000; font-weight: bold\">🤖 Agent: </span><span style=\"color: #008000; text-decoration-color: #008000\">Retriever Agent</span>\n",
              "│       <span style=\"color: #c0c0c0; text-decoration-color: #c0c0c0\">    Status: </span><span style=\"color: #008000; text-decoration-color: #008000; font-weight: bold\">✅ Completed</span>\n",
              "│       └── <span style=\"color: #008000; text-decoration-color: #008000; font-weight: bold\">🔧 </span><span style=\"color: #008000; text-decoration-color: #008000\">Used RAG Tool (8)</span>\n",
              "└── <span style=\"color: #008000; text-decoration-color: #008000; font-weight: bold\">📋 Task: cde4d9db-8cf0-49ec-a96c-a48cff42649f</span>\n",
              "    <span style=\"color: #c0c0c0; text-decoration-color: #c0c0c0\">   Assigned to: </span><span style=\"color: #008000; text-decoration-color: #008000\">Senior Customer Support Agent</span>\n",
              "    <span style=\"color: #c0c0c0; text-decoration-color: #c0c0c0\">   Status: </span><span style=\"color: #008000; text-decoration-color: #008000; font-weight: bold\">✅ Completed</span>\n",
              "    └── <span style=\"color: #008000; text-decoration-color: #008000; font-weight: bold\">🤖 Agent: </span><span style=\"color: #008000; text-decoration-color: #008000\">Senior Customer Support Agent</span>\n",
              "        <span style=\"color: #c0c0c0; text-decoration-color: #c0c0c0\">    Status: </span><span style=\"color: #008000; text-decoration-color: #008000; font-weight: bold\">✅ Completed</span>\n",
              "</pre>\n"
            ],
            "text/plain": [
              "\u001b[1;36m🚀 Crew: \u001b[0m\u001b[1;36mcrew\u001b[0m\n",
              "├── \u001b[1;32m📋 Task: 6a16152d-0ce4-4b1e-83d4-5f39fa526b77\u001b[0m\n",
              "│   \u001b[37m   Assigned to: \u001b[0m\u001b[32mRetriever Agent\u001b[0m\n",
              "│   \u001b[37m   Status: \u001b[0m\u001b[1;32m✅ Completed\u001b[0m\n",
              "│   └── \u001b[1;32m🤖 Agent: \u001b[0m\u001b[32mRetriever Agent\u001b[0m\n",
              "│       \u001b[37m    Status: \u001b[0m\u001b[1;32m✅ Completed\u001b[0m\n",
              "│       └── \u001b[1;32m🔧 \u001b[0m\u001b[32mUsed RAG Tool (8)\u001b[0m\n",
              "└── \u001b[1;32m📋 Task: cde4d9db-8cf0-49ec-a96c-a48cff42649f\u001b[0m\n",
              "    \u001b[37m   Assigned to: \u001b[0m\u001b[32mSenior Customer Support Agent\u001b[0m\n",
              "    \u001b[37m   Status: \u001b[0m\u001b[1;32m✅ Completed\u001b[0m\n",
              "    └── \u001b[1;32m🤖 Agent: \u001b[0m\u001b[32mSenior Customer Support Agent\u001b[0m\n",
              "        \u001b[37m    Status: \u001b[0m\u001b[1;32m✅ Completed\u001b[0m\n"
            ]
          },
          "metadata": {},
          "output_type": "display_data"
        },
        {
          "data": {
            "text/html": [
              "<pre style=\"white-space:pre;overflow-x:auto;line-height:normal;font-family:Menlo,'DejaVu Sans Mono',consolas,'Courier New',monospace\"><span style=\"color: #008000; text-decoration-color: #008000\">╭──────────────────────────────────────────────── Task Completion ────────────────────────────────────────────────╮</span>\n",
              "<span style=\"color: #008000; text-decoration-color: #008000\">│</span>                                                                                                                 <span style=\"color: #008000; text-decoration-color: #008000\">│</span>\n",
              "<span style=\"color: #008000; text-decoration-color: #008000\">│</span>  <span style=\"color: #008000; text-decoration-color: #008000; font-weight: bold\">Task Completed</span>                                                                                                 <span style=\"color: #008000; text-decoration-color: #008000\">│</span>\n",
              "<span style=\"color: #008000; text-decoration-color: #008000\">│</span>  <span style=\"color: #c0c0c0; text-decoration-color: #c0c0c0\">Name: </span><span style=\"color: #008000; text-decoration-color: #008000\">cde4d9db-8cf0-49ec-a96c-a48cff42649f</span>                                                                     <span style=\"color: #008000; text-decoration-color: #008000\">│</span>\n",
              "<span style=\"color: #008000; text-decoration-color: #008000\">│</span>  <span style=\"color: #c0c0c0; text-decoration-color: #c0c0c0\">Agent: </span><span style=\"color: #008000; text-decoration-color: #008000\">Senior Customer Support Agent</span>                                                                           <span style=\"color: #008000; text-decoration-color: #008000\">│</span>\n",
              "<span style=\"color: #008000; text-decoration-color: #008000\">│</span>                                                                                                                 <span style=\"color: #008000; text-decoration-color: #008000\">│</span>\n",
              "<span style=\"color: #008000; text-decoration-color: #008000\">│</span>                                                                                                                 <span style=\"color: #008000; text-decoration-color: #008000\">│</span>\n",
              "<span style=\"color: #008000; text-decoration-color: #008000\">╰─────────────────────────────────────────────────────────────────────────────────────────────────────────────────╯</span>\n",
              "</pre>\n"
            ],
            "text/plain": [
              "\u001b[32m╭─\u001b[0m\u001b[32m───────────────────────────────────────────────\u001b[0m\u001b[32m Task Completion \u001b[0m\u001b[32m───────────────────────────────────────────────\u001b[0m\u001b[32m─╮\u001b[0m\n",
              "\u001b[32m│\u001b[0m                                                                                                                 \u001b[32m│\u001b[0m\n",
              "\u001b[32m│\u001b[0m  \u001b[1;32mTask Completed\u001b[0m                                                                                                 \u001b[32m│\u001b[0m\n",
              "\u001b[32m│\u001b[0m  \u001b[37mName: \u001b[0m\u001b[32mcde4d9db-8cf0-49ec-a96c-a48cff42649f\u001b[0m                                                                     \u001b[32m│\u001b[0m\n",
              "\u001b[32m│\u001b[0m  \u001b[37mAgent: \u001b[0m\u001b[32mSenior Customer Support Agent\u001b[0m                                                                           \u001b[32m│\u001b[0m\n",
              "\u001b[32m│\u001b[0m                                                                                                                 \u001b[32m│\u001b[0m\n",
              "\u001b[32m│\u001b[0m                                                                                                                 \u001b[32m│\u001b[0m\n",
              "\u001b[32m╰─────────────────────────────────────────────────────────────────────────────────────────────────────────────────╯\u001b[0m\n"
            ]
          },
          "metadata": {},
          "output_type": "display_data"
        },
        {
          "data": {
            "text/html": [
              "<pre style=\"white-space:pre;overflow-x:auto;line-height:normal;font-family:Menlo,'DejaVu Sans Mono',consolas,'Courier New',monospace\">\n",
              "</pre>\n"
            ],
            "text/plain": [
              "\n"
            ]
          },
          "metadata": {},
          "output_type": "display_data"
        },
        {
          "data": {
            "text/html": [
              "<pre style=\"white-space:pre;overflow-x:auto;line-height:normal;font-family:Menlo,'DejaVu Sans Mono',consolas,'Courier New',monospace\"><span style=\"color: #008000; text-decoration-color: #008000\">╭──────────────────────────────────────────────── Crew Completion ────────────────────────────────────────────────╮</span>\n",
              "<span style=\"color: #008000; text-decoration-color: #008000\">│</span>                                                                                                                 <span style=\"color: #008000; text-decoration-color: #008000\">│</span>\n",
              "<span style=\"color: #008000; text-decoration-color: #008000\">│</span>  <span style=\"color: #008000; text-decoration-color: #008000; font-weight: bold\">Crew Execution Completed</span>                                                                                       <span style=\"color: #008000; text-decoration-color: #008000\">│</span>\n",
              "<span style=\"color: #008000; text-decoration-color: #008000\">│</span>  <span style=\"color: #c0c0c0; text-decoration-color: #c0c0c0\">Name: </span><span style=\"color: #008000; text-decoration-color: #008000\">crew</span>                                                                                                     <span style=\"color: #008000; text-decoration-color: #008000\">│</span>\n",
              "<span style=\"color: #008000; text-decoration-color: #008000\">│</span>  <span style=\"color: #c0c0c0; text-decoration-color: #c0c0c0\">ID: </span><span style=\"color: #008000; text-decoration-color: #008000\">a1c9c319-ea8c-46c4-9c64-077ed0a7cbb7</span>                                                                       <span style=\"color: #008000; text-decoration-color: #008000\">│</span>\n",
              "<span style=\"color: #008000; text-decoration-color: #008000\">│</span>                                                                                                                 <span style=\"color: #008000; text-decoration-color: #008000\">│</span>\n",
              "<span style=\"color: #008000; text-decoration-color: #008000\">│</span>                                                                                                                 <span style=\"color: #008000; text-decoration-color: #008000\">│</span>\n",
              "<span style=\"color: #008000; text-decoration-color: #008000\">╰─────────────────────────────────────────────────────────────────────────────────────────────────────────────────╯</span>\n",
              "</pre>\n"
            ],
            "text/plain": [
              "\u001b[32m╭─\u001b[0m\u001b[32m───────────────────────────────────────────────\u001b[0m\u001b[32m Crew Completion \u001b[0m\u001b[32m───────────────────────────────────────────────\u001b[0m\u001b[32m─╮\u001b[0m\n",
              "\u001b[32m│\u001b[0m                                                                                                                 \u001b[32m│\u001b[0m\n",
              "\u001b[32m│\u001b[0m  \u001b[1;32mCrew Execution Completed\u001b[0m                                                                                       \u001b[32m│\u001b[0m\n",
              "\u001b[32m│\u001b[0m  \u001b[37mName: \u001b[0m\u001b[32mcrew\u001b[0m                                                                                                     \u001b[32m│\u001b[0m\n",
              "\u001b[32m│\u001b[0m  \u001b[37mID: \u001b[0m\u001b[32ma1c9c319-ea8c-46c4-9c64-077ed0a7cbb7\u001b[0m                                                                       \u001b[32m│\u001b[0m\n",
              "\u001b[32m│\u001b[0m                                                                                                                 \u001b[32m│\u001b[0m\n",
              "\u001b[32m│\u001b[0m                                                                                                                 \u001b[32m│\u001b[0m\n",
              "\u001b[32m╰─────────────────────────────────────────────────────────────────────────────────────────────────────────────────╯\u001b[0m\n"
            ]
          },
          "metadata": {},
          "output_type": "display_data"
        },
        {
          "data": {
            "text/html": [
              "<pre style=\"white-space:pre;overflow-x:auto;line-height:normal;font-family:Menlo,'DejaVu Sans Mono',consolas,'Courier New',monospace\">\n",
              "</pre>\n"
            ],
            "text/plain": [
              "\n"
            ]
          },
          "metadata": {},
          "output_type": "display_data"
        }
      ],
      "source": [
        "# Run the crew\n",
        "\n",
        "result = customer_support_crew.kickoff(inputs = crew_inputs)"
      ]
    },
    {
      "cell_type": "code",
      "execution_count": null,
      "metadata": {
        "colab": {
          "base_uri": "https://localhost:8080/"
        },
        "id": "AEUuMufEyu5i",
        "outputId": "05219314-4490-463d-9921-f898ca69ce86"
      },
      "outputs": [
        {
          "name": "stdout",
          "output_type": "stream",
          "text": [
            "The name of the flagship project of Quantum Horizons Inc. is the 'StarLeap'.\n"
          ]
        }
      ],
      "source": [
        "print(result.raw)"
      ]
    },
    {
      "cell_type": "markdown",
      "metadata": {
        "id": "5adUFm2lzy7x"
      },
      "source": [
        "### Result 2: Asking agent for information not related to the company"
      ]
    },
    {
      "cell_type": "code",
      "execution_count": null,
      "metadata": {
        "colab": {
          "base_uri": "https://localhost:8080/",
          "height": 1000
        },
        "collapsed": true,
        "id": "tmraabgYy3fU",
        "outputId": "a976ab53-707a-4e95-bf89-f84614bac05d"
      },
      "outputs": [
        {
          "data": {
            "text/html": [
              "<pre style=\"white-space:pre;overflow-x:auto;line-height:normal;font-family:Menlo,'DejaVu Sans Mono',consolas,'Courier New',monospace\"><span style=\"color: #008080; text-decoration-color: #008080\">╭──────────────────────────────────────────── Crew Execution Started ─────────────────────────────────────────────╮</span>\n",
              "<span style=\"color: #008080; text-decoration-color: #008080\">│</span>                                                                                                                 <span style=\"color: #008080; text-decoration-color: #008080\">│</span>\n",
              "<span style=\"color: #008080; text-decoration-color: #008080\">│</span>  <span style=\"color: #008080; text-decoration-color: #008080; font-weight: bold\">Crew Execution Started</span>                                                                                         <span style=\"color: #008080; text-decoration-color: #008080\">│</span>\n",
              "<span style=\"color: #008080; text-decoration-color: #008080\">│</span>  <span style=\"color: #c0c0c0; text-decoration-color: #c0c0c0\">Name: </span><span style=\"color: #008080; text-decoration-color: #008080\">crew</span>                                                                                                     <span style=\"color: #008080; text-decoration-color: #008080\">│</span>\n",
              "<span style=\"color: #008080; text-decoration-color: #008080\">│</span>  <span style=\"color: #c0c0c0; text-decoration-color: #c0c0c0\">ID: </span><span style=\"color: #008080; text-decoration-color: #008080\">27c31765-1616-457b-82e7-a05a785dd68e</span>                                                                       <span style=\"color: #008080; text-decoration-color: #008080\">│</span>\n",
              "<span style=\"color: #008080; text-decoration-color: #008080\">│</span>                                                                                                                 <span style=\"color: #008080; text-decoration-color: #008080\">│</span>\n",
              "<span style=\"color: #008080; text-decoration-color: #008080\">│</span>                                                                                                                 <span style=\"color: #008080; text-decoration-color: #008080\">│</span>\n",
              "<span style=\"color: #008080; text-decoration-color: #008080\">╰─────────────────────────────────────────────────────────────────────────────────────────────────────────────────╯</span>\n",
              "</pre>\n"
            ],
            "text/plain": [
              "\u001b[36m╭─\u001b[0m\u001b[36m───────────────────────────────────────────\u001b[0m\u001b[36m Crew Execution Started \u001b[0m\u001b[36m────────────────────────────────────────────\u001b[0m\u001b[36m─╮\u001b[0m\n",
              "\u001b[36m│\u001b[0m                                                                                                                 \u001b[36m│\u001b[0m\n",
              "\u001b[36m│\u001b[0m  \u001b[1;36mCrew Execution Started\u001b[0m                                                                                         \u001b[36m│\u001b[0m\n",
              "\u001b[36m│\u001b[0m  \u001b[37mName: \u001b[0m\u001b[36mcrew\u001b[0m                                                                                                     \u001b[36m│\u001b[0m\n",
              "\u001b[36m│\u001b[0m  \u001b[37mID: \u001b[0m\u001b[36m27c31765-1616-457b-82e7-a05a785dd68e\u001b[0m                                                                       \u001b[36m│\u001b[0m\n",
              "\u001b[36m│\u001b[0m                                                                                                                 \u001b[36m│\u001b[0m\n",
              "\u001b[36m│\u001b[0m                                                                                                                 \u001b[36m│\u001b[0m\n",
              "\u001b[36m╰─────────────────────────────────────────────────────────────────────────────────────────────────────────────────╯\u001b[0m\n"
            ]
          },
          "metadata": {},
          "output_type": "display_data"
        },
        {
          "data": {
            "text/html": [
              "<pre style=\"white-space:pre;overflow-x:auto;line-height:normal;font-family:Menlo,'DejaVu Sans Mono',consolas,'Courier New',monospace\">\n",
              "</pre>\n"
            ],
            "text/plain": [
              "\n"
            ]
          },
          "metadata": {},
          "output_type": "display_data"
        },
        {
          "data": {
            "text/html": [
              "<pre style=\"white-space:pre;overflow-x:auto;line-height:normal;font-family:Menlo,'DejaVu Sans Mono',consolas,'Courier New',monospace\"><span style=\"color: #008080; text-decoration-color: #008080; font-weight: bold\">🚀 Crew: crew</span>\n",
              "└── <span style=\"color: #808000; text-decoration-color: #808000; font-weight: bold\">📋 Task: 6a16152d-0ce4-4b1e-83d4-5f39fa526b77</span>\n",
              "    <span style=\"color: #c0c0c0; text-decoration-color: #c0c0c0\">   Status: </span><span style=\"color: #bfbf7f; text-decoration-color: #bfbf7f\">Executing Task...</span>\n",
              "</pre>\n"
            ],
            "text/plain": [
              "\u001b[1;36m🚀 Crew: \u001b[0m\u001b[1;36mcrew\u001b[0m\n",
              "└── \u001b[1;33m📋 Task: 6a16152d-0ce4-4b1e-83d4-5f39fa526b77\u001b[0m\n",
              "    \u001b[37m   Status: \u001b[0m\u001b[2;33mExecuting Task...\u001b[0m\n"
            ]
          },
          "metadata": {},
          "output_type": "display_data"
        },
        {
          "data": {
            "text/html": [
              "<pre style=\"white-space:pre;overflow-x:auto;line-height:normal;font-family:Menlo,'DejaVu Sans Mono',consolas,'Courier New',monospace\">\n",
              "</pre>\n"
            ],
            "text/plain": [
              "\n"
            ]
          },
          "metadata": {},
          "output_type": "display_data"
        },
        {
          "data": {
            "text/html": [
              "<pre style=\"white-space:pre;overflow-x:auto;line-height:normal;font-family:Menlo,'DejaVu Sans Mono',consolas,'Courier New',monospace\"><span style=\"color: #008080; text-decoration-color: #008080; font-weight: bold\">🚀 Crew: crew</span>\n",
              "└── <span style=\"color: #808000; text-decoration-color: #808000; font-weight: bold\">📋 Task: 6a16152d-0ce4-4b1e-83d4-5f39fa526b77</span>\n",
              "    <span style=\"color: #c0c0c0; text-decoration-color: #c0c0c0\">   Status: </span><span style=\"color: #bfbf7f; text-decoration-color: #bfbf7f\">Executing Task...</span>\n",
              "    └── <span style=\"color: #008000; text-decoration-color: #008000; font-weight: bold\">🤖 Agent: </span><span style=\"color: #008000; text-decoration-color: #008000\">Retriever Agent</span>\n",
              "        <span style=\"color: #c0c0c0; text-decoration-color: #c0c0c0\">    Status: </span><span style=\"color: #008000; text-decoration-color: #008000; font-weight: bold\">In Progress</span>\n",
              "</pre>\n"
            ],
            "text/plain": [
              "\u001b[1;36m🚀 Crew: \u001b[0m\u001b[1;36mcrew\u001b[0m\n",
              "└── \u001b[1;33m📋 Task: 6a16152d-0ce4-4b1e-83d4-5f39fa526b77\u001b[0m\n",
              "    \u001b[37m   Status: \u001b[0m\u001b[2;33mExecuting Task...\u001b[0m\n",
              "    └── \u001b[1;32m🤖 Agent: \u001b[0m\u001b[32mRetriever Agent\u001b[0m\n",
              "        \u001b[37m    Status: \u001b[0m\u001b[1;32mIn Progress\u001b[0m\n"
            ]
          },
          "metadata": {},
          "output_type": "display_data"
        },
        {
          "data": {
            "text/html": [
              "<pre style=\"white-space:pre;overflow-x:auto;line-height:normal;font-family:Menlo,'DejaVu Sans Mono',consolas,'Courier New',monospace\">\n",
              "</pre>\n"
            ],
            "text/plain": [
              "\n"
            ]
          },
          "metadata": {},
          "output_type": "display_data"
        },
        {
          "name": "stdout",
          "output_type": "stream",
          "text": [
            "\u001b[1m\u001b[95m# Agent:\u001b[00m \u001b[1m\u001b[92mRetriever Agent\u001b[00m\n",
            "\u001b[95m## Task:\u001b[00m \u001b[92mRetrieve the most relevant information from the given sources to answer the user's query: Who won the Nobel prize in 2024 in Physics?. ALWAYS use the RAG Tool first. If you cannot find the required information, ONLY THEN use the Web Search Tool. DO NOT USE the Web Search Tool if you have sufficient information to accurately answer the user's query.\u001b[00m\n"
          ]
        },
        {
          "data": {
            "text/html": [
              "<pre style=\"white-space:pre;overflow-x:auto;line-height:normal;font-family:Menlo,'DejaVu Sans Mono',consolas,'Courier New',monospace\"><span style=\"color: #008080; text-decoration-color: #008080; font-weight: bold\">🚀 Crew: crew</span>\n",
              "└── <span style=\"color: #808000; text-decoration-color: #808000; font-weight: bold\">📋 Task: 6a16152d-0ce4-4b1e-83d4-5f39fa526b77</span>\n",
              "    <span style=\"color: #c0c0c0; text-decoration-color: #c0c0c0\">   Status: </span><span style=\"color: #bfbf7f; text-decoration-color: #bfbf7f\">Executing Task...</span>\n",
              "    └── <span style=\"color: #008000; text-decoration-color: #008000; font-weight: bold\">🤖 Agent: </span><span style=\"color: #008000; text-decoration-color: #008000\">Retriever Agent</span>\n",
              "        <span style=\"color: #c0c0c0; text-decoration-color: #c0c0c0\">    Status: </span><span style=\"color: #008000; text-decoration-color: #008000; font-weight: bold\">In Progress</span>\n",
              "        └── <span style=\"color: #000080; text-decoration-color: #000080; font-weight: bold\">🧠 </span><span style=\"color: #000080; text-decoration-color: #000080\">Thinking...</span>\n",
              "</pre>\n"
            ],
            "text/plain": [
              "\u001b[1;36m🚀 Crew: \u001b[0m\u001b[1;36mcrew\u001b[0m\n",
              "└── \u001b[1;33m📋 Task: 6a16152d-0ce4-4b1e-83d4-5f39fa526b77\u001b[0m\n",
              "    \u001b[37m   Status: \u001b[0m\u001b[2;33mExecuting Task...\u001b[0m\n",
              "    └── \u001b[1;32m🤖 Agent: \u001b[0m\u001b[32mRetriever Agent\u001b[0m\n",
              "        \u001b[37m    Status: \u001b[0m\u001b[1;32mIn Progress\u001b[0m\n",
              "        └── \u001b[1;34m🧠 \u001b[0m\u001b[34mThinking...\u001b[0m\n"
            ]
          },
          "metadata": {},
          "output_type": "display_data"
        },
        {
          "data": {
            "text/html": [
              "<pre style=\"white-space:pre;overflow-x:auto;line-height:normal;font-family:Menlo,'DejaVu Sans Mono',consolas,'Courier New',monospace\">\n",
              "</pre>\n"
            ],
            "text/plain": [
              "\n"
            ]
          },
          "metadata": {},
          "output_type": "display_data"
        },
        {
          "data": {
            "text/html": [
              "<pre style=\"white-space:pre;overflow-x:auto;line-height:normal;font-family:Menlo,'DejaVu Sans Mono',consolas,'Courier New',monospace\"><span style=\"color: #008080; text-decoration-color: #008080; font-weight: bold\">🚀 Crew: crew</span>\n",
              "└── <span style=\"color: #808000; text-decoration-color: #808000; font-weight: bold\">📋 Task: 6a16152d-0ce4-4b1e-83d4-5f39fa526b77</span>\n",
              "    <span style=\"color: #c0c0c0; text-decoration-color: #c0c0c0\">   Status: </span><span style=\"color: #bfbf7f; text-decoration-color: #bfbf7f\">Executing Task...</span>\n",
              "    └── <span style=\"color: #008000; text-decoration-color: #008000; font-weight: bold\">🤖 Agent: </span><span style=\"color: #008000; text-decoration-color: #008000\">Retriever Agent</span>\n",
              "        <span style=\"color: #c0c0c0; text-decoration-color: #c0c0c0\">    Status: </span><span style=\"color: #008000; text-decoration-color: #008000; font-weight: bold\">In Progress</span>\n",
              "</pre>\n"
            ],
            "text/plain": [
              "\u001b[1;36m🚀 Crew: \u001b[0m\u001b[1;36mcrew\u001b[0m\n",
              "└── \u001b[1;33m📋 Task: 6a16152d-0ce4-4b1e-83d4-5f39fa526b77\u001b[0m\n",
              "    \u001b[37m   Status: \u001b[0m\u001b[2;33mExecuting Task...\u001b[0m\n",
              "    └── \u001b[1;32m🤖 Agent: \u001b[0m\u001b[32mRetriever Agent\u001b[0m\n",
              "        \u001b[37m    Status: \u001b[0m\u001b[1;32mIn Progress\u001b[0m\n"
            ]
          },
          "metadata": {},
          "output_type": "display_data"
        },
        {
          "data": {
            "text/html": [
              "<pre style=\"white-space:pre;overflow-x:auto;line-height:normal;font-family:Menlo,'DejaVu Sans Mono',consolas,'Courier New',monospace\">\n",
              "</pre>\n"
            ],
            "text/plain": [
              "\n"
            ]
          },
          "metadata": {},
          "output_type": "display_data"
        },
        {
          "data": {
            "text/html": [
              "<pre style=\"white-space:pre;overflow-x:auto;line-height:normal;font-family:Menlo,'DejaVu Sans Mono',consolas,'Courier New',monospace\"><span style=\"color: #008080; text-decoration-color: #008080; font-weight: bold\">🚀 Crew: crew</span>\n",
              "└── <span style=\"color: #808000; text-decoration-color: #808000; font-weight: bold\">📋 Task: 6a16152d-0ce4-4b1e-83d4-5f39fa526b77</span>\n",
              "    <span style=\"color: #c0c0c0; text-decoration-color: #c0c0c0\">   Status: </span><span style=\"color: #bfbf7f; text-decoration-color: #bfbf7f\">Executing Task...</span>\n",
              "    └── <span style=\"color: #008000; text-decoration-color: #008000; font-weight: bold\">🤖 Agent: </span><span style=\"color: #008000; text-decoration-color: #008000\">Retriever Agent</span>\n",
              "        <span style=\"color: #c0c0c0; text-decoration-color: #c0c0c0\">    Status: </span><span style=\"color: #008000; text-decoration-color: #008000; font-weight: bold\">In Progress</span>\n",
              "        └── <span style=\"color: #808000; text-decoration-color: #808000; font-weight: bold\">🔧 </span><span style=\"color: #808000; text-decoration-color: #808000\">Using RAG Tool (5)</span>\n",
              "</pre>\n"
            ],
            "text/plain": [
              "\u001b[1;36m🚀 Crew: \u001b[0m\u001b[1;36mcrew\u001b[0m\n",
              "└── \u001b[1;33m📋 Task: 6a16152d-0ce4-4b1e-83d4-5f39fa526b77\u001b[0m\n",
              "    \u001b[37m   Status: \u001b[0m\u001b[2;33mExecuting Task...\u001b[0m\n",
              "    └── \u001b[1;32m🤖 Agent: \u001b[0m\u001b[32mRetriever Agent\u001b[0m\n",
              "        \u001b[37m    Status: \u001b[0m\u001b[1;32mIn Progress\u001b[0m\n",
              "        └── \u001b[1;33m🔧 \u001b[0m\u001b[33mUsing RAG Tool (5)\u001b[0m\n"
            ]
          },
          "metadata": {},
          "output_type": "display_data"
        },
        {
          "data": {
            "text/html": [
              "<pre style=\"white-space:pre;overflow-x:auto;line-height:normal;font-family:Menlo,'DejaVu Sans Mono',consolas,'Courier New',monospace\">\n",
              "</pre>\n"
            ],
            "text/plain": [
              "\n"
            ]
          },
          "metadata": {},
          "output_type": "display_data"
        },
        {
          "data": {
            "text/html": [
              "<pre style=\"white-space:pre;overflow-x:auto;line-height:normal;font-family:Menlo,'DejaVu Sans Mono',consolas,'Courier New',monospace\"><span style=\"color: #008080; text-decoration-color: #008080; font-weight: bold\">🚀 Crew: crew</span>\n",
              "└── <span style=\"color: #808000; text-decoration-color: #808000; font-weight: bold\">📋 Task: 6a16152d-0ce4-4b1e-83d4-5f39fa526b77</span>\n",
              "    <span style=\"color: #c0c0c0; text-decoration-color: #c0c0c0\">   Status: </span><span style=\"color: #bfbf7f; text-decoration-color: #bfbf7f\">Executing Task...</span>\n",
              "    └── <span style=\"color: #008000; text-decoration-color: #008000; font-weight: bold\">🤖 Agent: </span><span style=\"color: #008000; text-decoration-color: #008000\">Retriever Agent</span>\n",
              "        <span style=\"color: #c0c0c0; text-decoration-color: #c0c0c0\">    Status: </span><span style=\"color: #008000; text-decoration-color: #008000; font-weight: bold\">In Progress</span>\n",
              "        └── <span style=\"color: #008000; text-decoration-color: #008000; font-weight: bold\">🔧 </span><span style=\"color: #008000; text-decoration-color: #008000\">Used RAG Tool (5)</span>\n",
              "</pre>\n"
            ],
            "text/plain": [
              "\u001b[1;36m🚀 Crew: \u001b[0m\u001b[1;36mcrew\u001b[0m\n",
              "└── \u001b[1;33m📋 Task: 6a16152d-0ce4-4b1e-83d4-5f39fa526b77\u001b[0m\n",
              "    \u001b[37m   Status: \u001b[0m\u001b[2;33mExecuting Task...\u001b[0m\n",
              "    └── \u001b[1;32m🤖 Agent: \u001b[0m\u001b[32mRetriever Agent\u001b[0m\n",
              "        \u001b[37m    Status: \u001b[0m\u001b[1;32mIn Progress\u001b[0m\n",
              "        └── \u001b[1;32m🔧 \u001b[0m\u001b[32mUsed RAG Tool (5)\u001b[0m\n"
            ]
          },
          "metadata": {},
          "output_type": "display_data"
        },
        {
          "data": {
            "text/html": [
              "<pre style=\"white-space:pre;overflow-x:auto;line-height:normal;font-family:Menlo,'DejaVu Sans Mono',consolas,'Courier New',monospace\">\n",
              "</pre>\n"
            ],
            "text/plain": [
              "\n"
            ]
          },
          "metadata": {},
          "output_type": "display_data"
        },
        {
          "name": "stdout",
          "output_type": "stream",
          "text": [
            "\n",
            "\n",
            "\u001b[1m\u001b[95m# Agent:\u001b[00m \u001b[1m\u001b[92mRetriever Agent\u001b[00m\n",
            "\u001b[95m## Thought:\u001b[00m \u001b[92mI need to find out who won the Nobel prize in 2024 in Physics. I'll start by using the RAG Tool to see if I can retrieve this information from the database.\u001b[00m\n",
            "\u001b[95m## Using tool:\u001b[00m \u001b[92mRAG Tool\u001b[00m\n",
            "\u001b[95m## Tool Input:\u001b[00m \u001b[92m\n",
            "\"{\\\"question\\\": \\\"Who won the Nobel prize in 2024 in Physics?\\\"}\"\u001b[00m\n",
            "\u001b[95m## Tool Output:\u001b[00m \u001b[92m\n",
            "I'm sorry, but I don't have the information on the Nobel Prize in Physics for 2024. My knowledge only extends up until 2023. You may want to check the latest updates or reliable sources for that information.\u001b[00m\n"
          ]
        },
        {
          "data": {
            "text/html": [
              "<pre style=\"white-space:pre;overflow-x:auto;line-height:normal;font-family:Menlo,'DejaVu Sans Mono',consolas,'Courier New',monospace\"><span style=\"color: #008080; text-decoration-color: #008080; font-weight: bold\">🚀 Crew: crew</span>\n",
              "└── <span style=\"color: #808000; text-decoration-color: #808000; font-weight: bold\">📋 Task: 6a16152d-0ce4-4b1e-83d4-5f39fa526b77</span>\n",
              "    <span style=\"color: #c0c0c0; text-decoration-color: #c0c0c0\">   Status: </span><span style=\"color: #bfbf7f; text-decoration-color: #bfbf7f\">Executing Task...</span>\n",
              "    └── <span style=\"color: #008000; text-decoration-color: #008000; font-weight: bold\">🤖 Agent: </span><span style=\"color: #008000; text-decoration-color: #008000\">Retriever Agent</span>\n",
              "        <span style=\"color: #c0c0c0; text-decoration-color: #c0c0c0\">    Status: </span><span style=\"color: #008000; text-decoration-color: #008000; font-weight: bold\">In Progress</span>\n",
              "        ├── <span style=\"color: #008000; text-decoration-color: #008000; font-weight: bold\">🔧 </span><span style=\"color: #008000; text-decoration-color: #008000\">Used RAG Tool (5)</span>\n",
              "        └── <span style=\"color: #000080; text-decoration-color: #000080; font-weight: bold\">🧠 </span><span style=\"color: #000080; text-decoration-color: #000080\">Thinking...</span>\n",
              "</pre>\n"
            ],
            "text/plain": [
              "\u001b[1;36m🚀 Crew: \u001b[0m\u001b[1;36mcrew\u001b[0m\n",
              "└── \u001b[1;33m📋 Task: 6a16152d-0ce4-4b1e-83d4-5f39fa526b77\u001b[0m\n",
              "    \u001b[37m   Status: \u001b[0m\u001b[2;33mExecuting Task...\u001b[0m\n",
              "    └── \u001b[1;32m🤖 Agent: \u001b[0m\u001b[32mRetriever Agent\u001b[0m\n",
              "        \u001b[37m    Status: \u001b[0m\u001b[1;32mIn Progress\u001b[0m\n",
              "        ├── \u001b[1;32m🔧 \u001b[0m\u001b[32mUsed RAG Tool (5)\u001b[0m\n",
              "        └── \u001b[1;34m🧠 \u001b[0m\u001b[34mThinking...\u001b[0m\n"
            ]
          },
          "metadata": {},
          "output_type": "display_data"
        },
        {
          "data": {
            "text/html": [
              "<pre style=\"white-space:pre;overflow-x:auto;line-height:normal;font-family:Menlo,'DejaVu Sans Mono',consolas,'Courier New',monospace\">\n",
              "</pre>\n"
            ],
            "text/plain": [
              "\n"
            ]
          },
          "metadata": {},
          "output_type": "display_data"
        },
        {
          "data": {
            "text/html": [
              "<pre style=\"white-space:pre;overflow-x:auto;line-height:normal;font-family:Menlo,'DejaVu Sans Mono',consolas,'Courier New',monospace\"><span style=\"color: #008080; text-decoration-color: #008080; font-weight: bold\">🚀 Crew: crew</span>\n",
              "└── <span style=\"color: #808000; text-decoration-color: #808000; font-weight: bold\">📋 Task: 6a16152d-0ce4-4b1e-83d4-5f39fa526b77</span>\n",
              "    <span style=\"color: #c0c0c0; text-decoration-color: #c0c0c0\">   Status: </span><span style=\"color: #bfbf7f; text-decoration-color: #bfbf7f\">Executing Task...</span>\n",
              "    └── <span style=\"color: #008000; text-decoration-color: #008000; font-weight: bold\">🤖 Agent: </span><span style=\"color: #008000; text-decoration-color: #008000\">Retriever Agent</span>\n",
              "        <span style=\"color: #c0c0c0; text-decoration-color: #c0c0c0\">    Status: </span><span style=\"color: #008000; text-decoration-color: #008000; font-weight: bold\">In Progress</span>\n",
              "        └── <span style=\"color: #008000; text-decoration-color: #008000; font-weight: bold\">🔧 </span><span style=\"color: #008000; text-decoration-color: #008000\">Used RAG Tool (5)</span>\n",
              "</pre>\n"
            ],
            "text/plain": [
              "\u001b[1;36m🚀 Crew: \u001b[0m\u001b[1;36mcrew\u001b[0m\n",
              "└── \u001b[1;33m📋 Task: 6a16152d-0ce4-4b1e-83d4-5f39fa526b77\u001b[0m\n",
              "    \u001b[37m   Status: \u001b[0m\u001b[2;33mExecuting Task...\u001b[0m\n",
              "    └── \u001b[1;32m🤖 Agent: \u001b[0m\u001b[32mRetriever Agent\u001b[0m\n",
              "        \u001b[37m    Status: \u001b[0m\u001b[1;32mIn Progress\u001b[0m\n",
              "        └── \u001b[1;32m🔧 \u001b[0m\u001b[32mUsed RAG Tool (5)\u001b[0m\n"
            ]
          },
          "metadata": {},
          "output_type": "display_data"
        },
        {
          "data": {
            "text/html": [
              "<pre style=\"white-space:pre;overflow-x:auto;line-height:normal;font-family:Menlo,'DejaVu Sans Mono',consolas,'Courier New',monospace\">\n",
              "</pre>\n"
            ],
            "text/plain": [
              "\n"
            ]
          },
          "metadata": {},
          "output_type": "display_data"
        },
        {
          "data": {
            "text/html": [
              "<pre style=\"white-space:pre;overflow-x:auto;line-height:normal;font-family:Menlo,'DejaVu Sans Mono',consolas,'Courier New',monospace\"><span style=\"color: #008080; text-decoration-color: #008080; font-weight: bold\">🚀 Crew: crew</span>\n",
              "└── <span style=\"color: #808000; text-decoration-color: #808000; font-weight: bold\">📋 Task: 6a16152d-0ce4-4b1e-83d4-5f39fa526b77</span>\n",
              "    <span style=\"color: #c0c0c0; text-decoration-color: #c0c0c0\">   Status: </span><span style=\"color: #bfbf7f; text-decoration-color: #bfbf7f\">Executing Task...</span>\n",
              "    └── <span style=\"color: #008000; text-decoration-color: #008000; font-weight: bold\">🤖 Agent: </span><span style=\"color: #008000; text-decoration-color: #008000\">Retriever Agent</span>\n",
              "        <span style=\"color: #c0c0c0; text-decoration-color: #c0c0c0\">    Status: </span><span style=\"color: #008000; text-decoration-color: #008000; font-weight: bold\">In Progress</span>\n",
              "        ├── <span style=\"color: #008000; text-decoration-color: #008000; font-weight: bold\">🔧 </span><span style=\"color: #008000; text-decoration-color: #008000\">Used RAG Tool (5)</span>\n",
              "        └── <span style=\"color: #808000; text-decoration-color: #808000; font-weight: bold\">🔧 </span><span style=\"color: #808000; text-decoration-color: #808000\">Using Web Search Tool (3)</span>\n",
              "</pre>\n"
            ],
            "text/plain": [
              "\u001b[1;36m🚀 Crew: \u001b[0m\u001b[1;36mcrew\u001b[0m\n",
              "└── \u001b[1;33m📋 Task: 6a16152d-0ce4-4b1e-83d4-5f39fa526b77\u001b[0m\n",
              "    \u001b[37m   Status: \u001b[0m\u001b[2;33mExecuting Task...\u001b[0m\n",
              "    └── \u001b[1;32m🤖 Agent: \u001b[0m\u001b[32mRetriever Agent\u001b[0m\n",
              "        \u001b[37m    Status: \u001b[0m\u001b[1;32mIn Progress\u001b[0m\n",
              "        ├── \u001b[1;32m🔧 \u001b[0m\u001b[32mUsed RAG Tool (5)\u001b[0m\n",
              "        └── \u001b[1;33m🔧 \u001b[0m\u001b[33mUsing Web Search Tool (3)\u001b[0m\n"
            ]
          },
          "metadata": {},
          "output_type": "display_data"
        },
        {
          "data": {
            "text/html": [
              "<pre style=\"white-space:pre;overflow-x:auto;line-height:normal;font-family:Menlo,'DejaVu Sans Mono',consolas,'Courier New',monospace\">\n",
              "</pre>\n"
            ],
            "text/plain": [
              "\n"
            ]
          },
          "metadata": {},
          "output_type": "display_data"
        },
        {
          "data": {
            "text/html": [
              "<pre style=\"white-space:pre;overflow-x:auto;line-height:normal;font-family:Menlo,'DejaVu Sans Mono',consolas,'Courier New',monospace\"><span style=\"color: #008080; text-decoration-color: #008080; font-weight: bold\">🚀 Crew: crew</span>\n",
              "└── <span style=\"color: #808000; text-decoration-color: #808000; font-weight: bold\">📋 Task: 6a16152d-0ce4-4b1e-83d4-5f39fa526b77</span>\n",
              "    <span style=\"color: #c0c0c0; text-decoration-color: #c0c0c0\">   Status: </span><span style=\"color: #bfbf7f; text-decoration-color: #bfbf7f\">Executing Task...</span>\n",
              "    └── <span style=\"color: #008000; text-decoration-color: #008000; font-weight: bold\">🤖 Agent: </span><span style=\"color: #008000; text-decoration-color: #008000\">Retriever Agent</span>\n",
              "        <span style=\"color: #c0c0c0; text-decoration-color: #c0c0c0\">    Status: </span><span style=\"color: #008000; text-decoration-color: #008000; font-weight: bold\">In Progress</span>\n",
              "        ├── <span style=\"color: #008000; text-decoration-color: #008000; font-weight: bold\">🔧 </span><span style=\"color: #008000; text-decoration-color: #008000\">Used RAG Tool (5)</span>\n",
              "        └── <span style=\"color: #008000; text-decoration-color: #008000; font-weight: bold\">🔧 </span><span style=\"color: #008000; text-decoration-color: #008000\">Used Web Search Tool (3)</span>\n",
              "</pre>\n"
            ],
            "text/plain": [
              "\u001b[1;36m🚀 Crew: \u001b[0m\u001b[1;36mcrew\u001b[0m\n",
              "└── \u001b[1;33m📋 Task: 6a16152d-0ce4-4b1e-83d4-5f39fa526b77\u001b[0m\n",
              "    \u001b[37m   Status: \u001b[0m\u001b[2;33mExecuting Task...\u001b[0m\n",
              "    └── \u001b[1;32m🤖 Agent: \u001b[0m\u001b[32mRetriever Agent\u001b[0m\n",
              "        \u001b[37m    Status: \u001b[0m\u001b[1;32mIn Progress\u001b[0m\n",
              "        ├── \u001b[1;32m🔧 \u001b[0m\u001b[32mUsed RAG Tool (5)\u001b[0m\n",
              "        └── \u001b[1;32m🔧 \u001b[0m\u001b[32mUsed Web Search Tool (3)\u001b[0m\n"
            ]
          },
          "metadata": {},
          "output_type": "display_data"
        },
        {
          "data": {
            "text/html": [
              "<pre style=\"white-space:pre;overflow-x:auto;line-height:normal;font-family:Menlo,'DejaVu Sans Mono',consolas,'Courier New',monospace\">\n",
              "</pre>\n"
            ],
            "text/plain": [
              "\n"
            ]
          },
          "metadata": {},
          "output_type": "display_data"
        },
        {
          "name": "stdout",
          "output_type": "stream",
          "text": [
            "\n",
            "\n",
            "\u001b[1m\u001b[95m# Agent:\u001b[00m \u001b[1m\u001b[92mRetriever Agent\u001b[00m\n",
            "\u001b[95m## Thought:\u001b[00m \u001b[92mSince the RAG Tool did not provide the necessary information regarding the 2024 Nobel Prize in Physics, I will now use the Web Search Tool to find the relevant details.\u001b[00m\n",
            "\u001b[95m## Using tool:\u001b[00m \u001b[92mWeb Search Tool\u001b[00m\n",
            "\u001b[95m## Tool Input:\u001b[00m \u001b[92m\n",
            "\"{\\\"query\\\": \\\"Nobel prize 2024 Physics winner\\\"}\"\u001b[00m\n",
            "\u001b[95m## Tool Output:\u001b[00m \u001b[92m\n",
            "Web Search Results:\n",
            "Title: The Nobel Prize in Physics 2024 - NobelPrize.org\n",
            "Link: https://www.nobelprize.org/prizes/physics/2024/summary/\n",
            "Snippet: The Nobel Prize in Physics 2024 was awarded jointly to John J. Hopfield and Geoffrey Hinton \"for foundational discoveries and inventions that enable machine ...\n",
            "\n",
            "Title: Press release: The Nobel Prize in Physics 2024 - NobelPrize.org\n",
            "Link: https://www.nobelprize.org/prizes/physics/2024/press-release/\n",
            "Snippet: 8 October 2024. The Royal Swedish Academy of Sciences has decided to award the Nobel Prize in Physics 2024 to. John J. Hopfield\n",
            "\n",
            "Title: NSF congratulates laureates of the 2024 Nobel Prize in physics\n",
            "Link: https://www.nsf.gov/news/nsf-congratulates-laureates-2024-nobel-prize-physics\n",
            "Snippet: The U.S. National Science Foundation congratulates John J. Hopfield and Geoffrey E. Hinton for their Nobel Prize in physics.\n",
            "\n",
            "Title: The 2024 Physics Nobel Prize\n",
            "Link: https://physics.olemiss.edu/the-2024-physics-nobel-prize/\n",
            "Snippet: The Nobel Prize in Physics 2024 was awarded to John J. Hopfield and Geoffrey E. Hinton for foundational discoveries and inventions that enable machine learning.\n",
            "\n",
            "Title: All Nobel Prizes 2024 - NobelPrize.org\n",
            "Link: https://www.nobelprize.org/all-nobel-prizes-2024/\n",
            "Snippet: The Nobel Prize in Physics 2024: John J. Hopfield “for foundational discoveries and inventions that enable machine learning with artificial neural networks”\n",
            "\n",
            "Title: Geoffrey Hinton wins 2024 Nobel Prize in Physics\n",
            "Link: https://www.artsci.utoronto.ca/news/geoffrey-hinton-wins-2024-nobel-prize-physics\n",
            "Snippet: Geoffrey Hinton, a University Professor Emeritus of the Department of Computer Science at the University of Toronto, has been awarded the ...\n",
            "\n",
            "Title: These are the Nobel Prize winners of 2024 | World Economic Forum\n",
            "Link: https://www.weforum.org/stories/2024/10/nobel-prize-winners-2024/\n",
            "Snippet: The Nobel Prize in Physics 2024​​ AI pioneers John Hopfield and Geoffrey Hinton were both awarded the Physics prize, for using tools to develop ...\n",
            "\n",
            "Title: All Nobel Prizes in Physics - NobelPrize.org\n",
            "Link: https://www.nobelprize.org/prizes/lists/all-nobel-prizes-in-physics/\n",
            "Snippet: Nobel Prize in Physics 2024 · John J. Hopfield and Geoffrey Hinton ; Nobel Prize in Physics 2023 · Pierre Agostini, Ferenc Krausz and Anne L'Huillier ; Nobel ...\n",
            "\n",
            "Title: The Nobel Prize in Physics 2024 was awarded to John J. Hopfield ...\n",
            "Link: https://www.reddit.com/r/math/comments/1fyzz6t/the_nobel_prize_in_physics_2024_was_awarded_to/\n",
            "Snippet: The Nobel Prize in Physics 2024 was awarded to John J. Hopfield and Geoffrey E. Hinton \"for foundational discoveries and inventions that enable ...\n",
            "\n",
            "Title: Nobel Prize in Physics - Wikipedia\n",
            "Link: https://en.wikipedia.org/wiki/Nobel_Prize_in_Physics\n",
            "Snippet: Nobel Prize in Physics ; 2024 · John Hopfield and Geoffrey Hinton · John Bardeen (2) · nobelprize.org/physics ...\n",
            "\n",
            "\n",
            "\n",
            "\n",
            "You ONLY have access to the following tools, and should NEVER make up tools that are not listed here:\n",
            "\n",
            "Tool Name: RAG Tool\n",
            "Tool Arguments: {'question': {'description': None, 'type': 'str'}}\n",
            "Tool Description: Tool to search for relevant information from a vector database.\n",
            "Tool Name: Web Search Tool\n",
            "Tool Arguments: {'query': {'description': None, 'type': 'str'}}\n",
            "Tool Description: Tool to search the web for relevant information.\n",
            "\n",
            "IMPORTANT: Use the following format in your response:\n",
            "\n",
            "```\n",
            "Thought: you should always think about what to do\n",
            "Action: the action to take, only one name of [RAG Tool, Web Search Tool], just the name, exactly as it's written.\n",
            "Action Input: the input to the action, just a simple JSON object, enclosed in curly braces, using \" to wrap keys and values.\n",
            "Observation: the result of the action\n",
            "```\n",
            "\n",
            "Once all necessary information is gathered, return the following format:\n",
            "\n",
            "```\n",
            "Thought: I now know the final answer\n",
            "Final Answer: the final answer to the original input question\n",
            "```\u001b[00m\n"
          ]
        },
        {
          "data": {
            "text/html": [
              "<pre style=\"white-space:pre;overflow-x:auto;line-height:normal;font-family:Menlo,'DejaVu Sans Mono',consolas,'Courier New',monospace\"><span style=\"color: #008080; text-decoration-color: #008080; font-weight: bold\">🚀 Crew: crew</span>\n",
              "└── <span style=\"color: #808000; text-decoration-color: #808000; font-weight: bold\">📋 Task: 6a16152d-0ce4-4b1e-83d4-5f39fa526b77</span>\n",
              "    <span style=\"color: #c0c0c0; text-decoration-color: #c0c0c0\">   Status: </span><span style=\"color: #bfbf7f; text-decoration-color: #bfbf7f\">Executing Task...</span>\n",
              "    └── <span style=\"color: #008000; text-decoration-color: #008000; font-weight: bold\">🤖 Agent: </span><span style=\"color: #008000; text-decoration-color: #008000\">Retriever Agent</span>\n",
              "        <span style=\"color: #c0c0c0; text-decoration-color: #c0c0c0\">    Status: </span><span style=\"color: #008000; text-decoration-color: #008000; font-weight: bold\">In Progress</span>\n",
              "        ├── <span style=\"color: #008000; text-decoration-color: #008000; font-weight: bold\">🔧 </span><span style=\"color: #008000; text-decoration-color: #008000\">Used RAG Tool (5)</span>\n",
              "        ├── <span style=\"color: #008000; text-decoration-color: #008000; font-weight: bold\">🔧 </span><span style=\"color: #008000; text-decoration-color: #008000\">Used Web Search Tool (3)</span>\n",
              "        └── <span style=\"color: #000080; text-decoration-color: #000080; font-weight: bold\">🧠 </span><span style=\"color: #000080; text-decoration-color: #000080\">Thinking...</span>\n",
              "</pre>\n"
            ],
            "text/plain": [
              "\u001b[1;36m🚀 Crew: \u001b[0m\u001b[1;36mcrew\u001b[0m\n",
              "└── \u001b[1;33m📋 Task: 6a16152d-0ce4-4b1e-83d4-5f39fa526b77\u001b[0m\n",
              "    \u001b[37m   Status: \u001b[0m\u001b[2;33mExecuting Task...\u001b[0m\n",
              "    └── \u001b[1;32m🤖 Agent: \u001b[0m\u001b[32mRetriever Agent\u001b[0m\n",
              "        \u001b[37m    Status: \u001b[0m\u001b[1;32mIn Progress\u001b[0m\n",
              "        ├── \u001b[1;32m🔧 \u001b[0m\u001b[32mUsed RAG Tool (5)\u001b[0m\n",
              "        ├── \u001b[1;32m🔧 \u001b[0m\u001b[32mUsed Web Search Tool (3)\u001b[0m\n",
              "        └── \u001b[1;34m🧠 \u001b[0m\u001b[34mThinking...\u001b[0m\n"
            ]
          },
          "metadata": {},
          "output_type": "display_data"
        },
        {
          "data": {
            "text/html": [
              "<pre style=\"white-space:pre;overflow-x:auto;line-height:normal;font-family:Menlo,'DejaVu Sans Mono',consolas,'Courier New',monospace\">\n",
              "</pre>\n"
            ],
            "text/plain": [
              "\n"
            ]
          },
          "metadata": {},
          "output_type": "display_data"
        },
        {
          "data": {
            "text/html": [
              "<pre style=\"white-space:pre;overflow-x:auto;line-height:normal;font-family:Menlo,'DejaVu Sans Mono',consolas,'Courier New',monospace\"><span style=\"color: #008080; text-decoration-color: #008080; font-weight: bold\">🚀 Crew: crew</span>\n",
              "└── <span style=\"color: #808000; text-decoration-color: #808000; font-weight: bold\">📋 Task: 6a16152d-0ce4-4b1e-83d4-5f39fa526b77</span>\n",
              "    <span style=\"color: #c0c0c0; text-decoration-color: #c0c0c0\">   Status: </span><span style=\"color: #bfbf7f; text-decoration-color: #bfbf7f\">Executing Task...</span>\n",
              "    └── <span style=\"color: #008000; text-decoration-color: #008000; font-weight: bold\">🤖 Agent: </span><span style=\"color: #008000; text-decoration-color: #008000\">Retriever Agent</span>\n",
              "        <span style=\"color: #c0c0c0; text-decoration-color: #c0c0c0\">    Status: </span><span style=\"color: #008000; text-decoration-color: #008000; font-weight: bold\">In Progress</span>\n",
              "        ├── <span style=\"color: #008000; text-decoration-color: #008000; font-weight: bold\">🔧 </span><span style=\"color: #008000; text-decoration-color: #008000\">Used RAG Tool (5)</span>\n",
              "        └── <span style=\"color: #008000; text-decoration-color: #008000; font-weight: bold\">🔧 </span><span style=\"color: #008000; text-decoration-color: #008000\">Used Web Search Tool (3)</span>\n",
              "</pre>\n"
            ],
            "text/plain": [
              "\u001b[1;36m🚀 Crew: \u001b[0m\u001b[1;36mcrew\u001b[0m\n",
              "└── \u001b[1;33m📋 Task: 6a16152d-0ce4-4b1e-83d4-5f39fa526b77\u001b[0m\n",
              "    \u001b[37m   Status: \u001b[0m\u001b[2;33mExecuting Task...\u001b[0m\n",
              "    └── \u001b[1;32m🤖 Agent: \u001b[0m\u001b[32mRetriever Agent\u001b[0m\n",
              "        \u001b[37m    Status: \u001b[0m\u001b[1;32mIn Progress\u001b[0m\n",
              "        ├── \u001b[1;32m🔧 \u001b[0m\u001b[32mUsed RAG Tool (5)\u001b[0m\n",
              "        └── \u001b[1;32m🔧 \u001b[0m\u001b[32mUsed Web Search Tool (3)\u001b[0m\n"
            ]
          },
          "metadata": {},
          "output_type": "display_data"
        },
        {
          "data": {
            "text/html": [
              "<pre style=\"white-space:pre;overflow-x:auto;line-height:normal;font-family:Menlo,'DejaVu Sans Mono',consolas,'Courier New',monospace\">\n",
              "</pre>\n"
            ],
            "text/plain": [
              "\n"
            ]
          },
          "metadata": {},
          "output_type": "display_data"
        },
        {
          "name": "stdout",
          "output_type": "stream",
          "text": [
            "\n",
            "\n",
            "\u001b[1m\u001b[95m# Agent:\u001b[00m \u001b[1m\u001b[92mRetriever Agent\u001b[00m\n",
            "\u001b[95m## Final Answer:\u001b[00m \u001b[92m\n",
            "The Nobel Prize in Physics for 2024 was awarded jointly to John J. Hopfield and Geoffrey Hinton \"for foundational discoveries and inventions that enable machine learning with artificial neural networks.\"\u001b[00m\n",
            "\n",
            "\n"
          ]
        },
        {
          "data": {
            "text/html": [
              "<pre style=\"white-space:pre;overflow-x:auto;line-height:normal;font-family:Menlo,'DejaVu Sans Mono',consolas,'Courier New',monospace\"><span style=\"color: #008080; text-decoration-color: #008080; font-weight: bold\">🚀 Crew: crew</span>\n",
              "└── <span style=\"color: #808000; text-decoration-color: #808000; font-weight: bold\">📋 Task: 6a16152d-0ce4-4b1e-83d4-5f39fa526b77</span>\n",
              "    <span style=\"color: #c0c0c0; text-decoration-color: #c0c0c0\">   Status: </span><span style=\"color: #bfbf7f; text-decoration-color: #bfbf7f\">Executing Task...</span>\n",
              "    └── <span style=\"color: #008000; text-decoration-color: #008000; font-weight: bold\">🤖 Agent: </span><span style=\"color: #008000; text-decoration-color: #008000\">Retriever Agent</span>\n",
              "        <span style=\"color: #c0c0c0; text-decoration-color: #c0c0c0\">    Status: </span><span style=\"color: #008000; text-decoration-color: #008000; font-weight: bold\">✅ Completed</span>\n",
              "        ├── <span style=\"color: #008000; text-decoration-color: #008000; font-weight: bold\">🔧 </span><span style=\"color: #008000; text-decoration-color: #008000\">Used RAG Tool (5)</span>\n",
              "        └── <span style=\"color: #008000; text-decoration-color: #008000; font-weight: bold\">🔧 </span><span style=\"color: #008000; text-decoration-color: #008000\">Used Web Search Tool (3)</span>\n",
              "</pre>\n"
            ],
            "text/plain": [
              "\u001b[1;36m🚀 Crew: \u001b[0m\u001b[1;36mcrew\u001b[0m\n",
              "└── \u001b[1;33m📋 Task: 6a16152d-0ce4-4b1e-83d4-5f39fa526b77\u001b[0m\n",
              "    \u001b[37m   Status: \u001b[0m\u001b[2;33mExecuting Task...\u001b[0m\n",
              "    └── \u001b[1;32m🤖 Agent: \u001b[0m\u001b[32mRetriever Agent\u001b[0m\n",
              "        \u001b[37m    Status: \u001b[0m\u001b[1;32m✅ Completed\u001b[0m\n",
              "        ├── \u001b[1;32m🔧 \u001b[0m\u001b[32mUsed RAG Tool (5)\u001b[0m\n",
              "        └── \u001b[1;32m🔧 \u001b[0m\u001b[32mUsed Web Search Tool (3)\u001b[0m\n"
            ]
          },
          "metadata": {},
          "output_type": "display_data"
        },
        {
          "data": {
            "text/html": [
              "<pre style=\"white-space:pre;overflow-x:auto;line-height:normal;font-family:Menlo,'DejaVu Sans Mono',consolas,'Courier New',monospace\">\n",
              "</pre>\n"
            ],
            "text/plain": [
              "\n"
            ]
          },
          "metadata": {},
          "output_type": "display_data"
        },
        {
          "data": {
            "text/html": [
              "<pre style=\"white-space:pre;overflow-x:auto;line-height:normal;font-family:Menlo,'DejaVu Sans Mono',consolas,'Courier New',monospace\"><span style=\"color: #008080; text-decoration-color: #008080; font-weight: bold\">🚀 Crew: crew</span>\n",
              "└── <span style=\"color: #008000; text-decoration-color: #008000; font-weight: bold\">📋 Task: 6a16152d-0ce4-4b1e-83d4-5f39fa526b77</span>\n",
              "    <span style=\"color: #c0c0c0; text-decoration-color: #c0c0c0\">   Assigned to: </span><span style=\"color: #008000; text-decoration-color: #008000\">Retriever Agent</span>\n",
              "    <span style=\"color: #c0c0c0; text-decoration-color: #c0c0c0\">   Status: </span><span style=\"color: #008000; text-decoration-color: #008000; font-weight: bold\">✅ Completed</span>\n",
              "    └── <span style=\"color: #008000; text-decoration-color: #008000; font-weight: bold\">🤖 Agent: </span><span style=\"color: #008000; text-decoration-color: #008000\">Retriever Agent</span>\n",
              "        <span style=\"color: #c0c0c0; text-decoration-color: #c0c0c0\">    Status: </span><span style=\"color: #008000; text-decoration-color: #008000; font-weight: bold\">✅ Completed</span>\n",
              "        ├── <span style=\"color: #008000; text-decoration-color: #008000; font-weight: bold\">🔧 </span><span style=\"color: #008000; text-decoration-color: #008000\">Used RAG Tool (5)</span>\n",
              "        └── <span style=\"color: #008000; text-decoration-color: #008000; font-weight: bold\">🔧 </span><span style=\"color: #008000; text-decoration-color: #008000\">Used Web Search Tool (3)</span>\n",
              "</pre>\n"
            ],
            "text/plain": [
              "\u001b[1;36m🚀 Crew: \u001b[0m\u001b[1;36mcrew\u001b[0m\n",
              "└── \u001b[1;32m📋 Task: 6a16152d-0ce4-4b1e-83d4-5f39fa526b77\u001b[0m\n",
              "    \u001b[37m   Assigned to: \u001b[0m\u001b[32mRetriever Agent\u001b[0m\n",
              "    \u001b[37m   Status: \u001b[0m\u001b[1;32m✅ Completed\u001b[0m\n",
              "    └── \u001b[1;32m🤖 Agent: \u001b[0m\u001b[32mRetriever Agent\u001b[0m\n",
              "        \u001b[37m    Status: \u001b[0m\u001b[1;32m✅ Completed\u001b[0m\n",
              "        ├── \u001b[1;32m🔧 \u001b[0m\u001b[32mUsed RAG Tool (5)\u001b[0m\n",
              "        └── \u001b[1;32m🔧 \u001b[0m\u001b[32mUsed Web Search Tool (3)\u001b[0m\n"
            ]
          },
          "metadata": {},
          "output_type": "display_data"
        },
        {
          "data": {
            "text/html": [
              "<pre style=\"white-space:pre;overflow-x:auto;line-height:normal;font-family:Menlo,'DejaVu Sans Mono',consolas,'Courier New',monospace\"><span style=\"color: #008000; text-decoration-color: #008000\">╭──────────────────────────────────────────────── Task Completion ────────────────────────────────────────────────╮</span>\n",
              "<span style=\"color: #008000; text-decoration-color: #008000\">│</span>                                                                                                                 <span style=\"color: #008000; text-decoration-color: #008000\">│</span>\n",
              "<span style=\"color: #008000; text-decoration-color: #008000\">│</span>  <span style=\"color: #008000; text-decoration-color: #008000; font-weight: bold\">Task Completed</span>                                                                                                 <span style=\"color: #008000; text-decoration-color: #008000\">│</span>\n",
              "<span style=\"color: #008000; text-decoration-color: #008000\">│</span>  <span style=\"color: #c0c0c0; text-decoration-color: #c0c0c0\">Name: </span><span style=\"color: #008000; text-decoration-color: #008000\">6a16152d-0ce4-4b1e-83d4-5f39fa526b77</span>                                                                     <span style=\"color: #008000; text-decoration-color: #008000\">│</span>\n",
              "<span style=\"color: #008000; text-decoration-color: #008000\">│</span>  <span style=\"color: #c0c0c0; text-decoration-color: #c0c0c0\">Agent: </span><span style=\"color: #008000; text-decoration-color: #008000\">Retriever Agent</span>                                                                                         <span style=\"color: #008000; text-decoration-color: #008000\">│</span>\n",
              "<span style=\"color: #008000; text-decoration-color: #008000\">│</span>                                                                                                                 <span style=\"color: #008000; text-decoration-color: #008000\">│</span>\n",
              "<span style=\"color: #008000; text-decoration-color: #008000\">│</span>                                                                                                                 <span style=\"color: #008000; text-decoration-color: #008000\">│</span>\n",
              "<span style=\"color: #008000; text-decoration-color: #008000\">╰─────────────────────────────────────────────────────────────────────────────────────────────────────────────────╯</span>\n",
              "</pre>\n"
            ],
            "text/plain": [
              "\u001b[32m╭─\u001b[0m\u001b[32m───────────────────────────────────────────────\u001b[0m\u001b[32m Task Completion \u001b[0m\u001b[32m───────────────────────────────────────────────\u001b[0m\u001b[32m─╮\u001b[0m\n",
              "\u001b[32m│\u001b[0m                                                                                                                 \u001b[32m│\u001b[0m\n",
              "\u001b[32m│\u001b[0m  \u001b[1;32mTask Completed\u001b[0m                                                                                                 \u001b[32m│\u001b[0m\n",
              "\u001b[32m│\u001b[0m  \u001b[37mName: \u001b[0m\u001b[32m6a16152d-0ce4-4b1e-83d4-5f39fa526b77\u001b[0m                                                                     \u001b[32m│\u001b[0m\n",
              "\u001b[32m│\u001b[0m  \u001b[37mAgent: \u001b[0m\u001b[32mRetriever Agent\u001b[0m                                                                                         \u001b[32m│\u001b[0m\n",
              "\u001b[32m│\u001b[0m                                                                                                                 \u001b[32m│\u001b[0m\n",
              "\u001b[32m│\u001b[0m                                                                                                                 \u001b[32m│\u001b[0m\n",
              "\u001b[32m╰─────────────────────────────────────────────────────────────────────────────────────────────────────────────────╯\u001b[0m\n"
            ]
          },
          "metadata": {},
          "output_type": "display_data"
        },
        {
          "data": {
            "text/html": [
              "<pre style=\"white-space:pre;overflow-x:auto;line-height:normal;font-family:Menlo,'DejaVu Sans Mono',consolas,'Courier New',monospace\">\n",
              "</pre>\n"
            ],
            "text/plain": [
              "\n"
            ]
          },
          "metadata": {},
          "output_type": "display_data"
        },
        {
          "data": {
            "text/html": [
              "<pre style=\"white-space:pre;overflow-x:auto;line-height:normal;font-family:Menlo,'DejaVu Sans Mono',consolas,'Courier New',monospace\"><span style=\"color: #008080; text-decoration-color: #008080; font-weight: bold\">🚀 Crew: crew</span>\n",
              "├── <span style=\"color: #008000; text-decoration-color: #008000; font-weight: bold\">📋 Task: 6a16152d-0ce4-4b1e-83d4-5f39fa526b77</span>\n",
              "│   <span style=\"color: #c0c0c0; text-decoration-color: #c0c0c0\">   Assigned to: </span><span style=\"color: #008000; text-decoration-color: #008000\">Retriever Agent</span>\n",
              "│   <span style=\"color: #c0c0c0; text-decoration-color: #c0c0c0\">   Status: </span><span style=\"color: #008000; text-decoration-color: #008000; font-weight: bold\">✅ Completed</span>\n",
              "│   └── <span style=\"color: #008000; text-decoration-color: #008000; font-weight: bold\">🤖 Agent: </span><span style=\"color: #008000; text-decoration-color: #008000\">Retriever Agent</span>\n",
              "│       <span style=\"color: #c0c0c0; text-decoration-color: #c0c0c0\">    Status: </span><span style=\"color: #008000; text-decoration-color: #008000; font-weight: bold\">✅ Completed</span>\n",
              "│       ├── <span style=\"color: #008000; text-decoration-color: #008000; font-weight: bold\">🔧 </span><span style=\"color: #008000; text-decoration-color: #008000\">Used RAG Tool (5)</span>\n",
              "│       └── <span style=\"color: #008000; text-decoration-color: #008000; font-weight: bold\">🔧 </span><span style=\"color: #008000; text-decoration-color: #008000\">Used Web Search Tool (3)</span>\n",
              "└── <span style=\"color: #808000; text-decoration-color: #808000; font-weight: bold\">📋 Task: cde4d9db-8cf0-49ec-a96c-a48cff42649f</span>\n",
              "    <span style=\"color: #c0c0c0; text-decoration-color: #c0c0c0\">   Status: </span><span style=\"color: #bfbf7f; text-decoration-color: #bfbf7f\">Executing Task...</span>\n",
              "</pre>\n"
            ],
            "text/plain": [
              "\u001b[1;36m🚀 Crew: \u001b[0m\u001b[1;36mcrew\u001b[0m\n",
              "├── \u001b[1;32m📋 Task: 6a16152d-0ce4-4b1e-83d4-5f39fa526b77\u001b[0m\n",
              "│   \u001b[37m   Assigned to: \u001b[0m\u001b[32mRetriever Agent\u001b[0m\n",
              "│   \u001b[37m   Status: \u001b[0m\u001b[1;32m✅ Completed\u001b[0m\n",
              "│   └── \u001b[1;32m🤖 Agent: \u001b[0m\u001b[32mRetriever Agent\u001b[0m\n",
              "│       \u001b[37m    Status: \u001b[0m\u001b[1;32m✅ Completed\u001b[0m\n",
              "│       ├── \u001b[1;32m🔧 \u001b[0m\u001b[32mUsed RAG Tool (5)\u001b[0m\n",
              "│       └── \u001b[1;32m🔧 \u001b[0m\u001b[32mUsed Web Search Tool (3)\u001b[0m\n",
              "└── \u001b[1;33m📋 Task: cde4d9db-8cf0-49ec-a96c-a48cff42649f\u001b[0m\n",
              "    \u001b[37m   Status: \u001b[0m\u001b[2;33mExecuting Task...\u001b[0m\n"
            ]
          },
          "metadata": {},
          "output_type": "display_data"
        },
        {
          "data": {
            "text/html": [
              "<pre style=\"white-space:pre;overflow-x:auto;line-height:normal;font-family:Menlo,'DejaVu Sans Mono',consolas,'Courier New',monospace\">\n",
              "</pre>\n"
            ],
            "text/plain": [
              "\n"
            ]
          },
          "metadata": {},
          "output_type": "display_data"
        },
        {
          "data": {
            "text/html": [
              "<pre style=\"white-space:pre;overflow-x:auto;line-height:normal;font-family:Menlo,'DejaVu Sans Mono',consolas,'Courier New',monospace\"><span style=\"color: #008080; text-decoration-color: #008080; font-weight: bold\">🚀 Crew: crew</span>\n",
              "├── <span style=\"color: #008000; text-decoration-color: #008000; font-weight: bold\">📋 Task: 6a16152d-0ce4-4b1e-83d4-5f39fa526b77</span>\n",
              "│   <span style=\"color: #c0c0c0; text-decoration-color: #c0c0c0\">   Assigned to: </span><span style=\"color: #008000; text-decoration-color: #008000\">Retriever Agent</span>\n",
              "│   <span style=\"color: #c0c0c0; text-decoration-color: #c0c0c0\">   Status: </span><span style=\"color: #008000; text-decoration-color: #008000; font-weight: bold\">✅ Completed</span>\n",
              "│   └── <span style=\"color: #008000; text-decoration-color: #008000; font-weight: bold\">🤖 Agent: </span><span style=\"color: #008000; text-decoration-color: #008000\">Retriever Agent</span>\n",
              "│       <span style=\"color: #c0c0c0; text-decoration-color: #c0c0c0\">    Status: </span><span style=\"color: #008000; text-decoration-color: #008000; font-weight: bold\">✅ Completed</span>\n",
              "│       ├── <span style=\"color: #008000; text-decoration-color: #008000; font-weight: bold\">🔧 </span><span style=\"color: #008000; text-decoration-color: #008000\">Used RAG Tool (5)</span>\n",
              "│       └── <span style=\"color: #008000; text-decoration-color: #008000; font-weight: bold\">🔧 </span><span style=\"color: #008000; text-decoration-color: #008000\">Used Web Search Tool (3)</span>\n",
              "└── <span style=\"color: #808000; text-decoration-color: #808000; font-weight: bold\">📋 Task: cde4d9db-8cf0-49ec-a96c-a48cff42649f</span>\n",
              "    <span style=\"color: #c0c0c0; text-decoration-color: #c0c0c0\">   Status: </span><span style=\"color: #bfbf7f; text-decoration-color: #bfbf7f\">Executing Task...</span>\n",
              "    └── <span style=\"color: #008000; text-decoration-color: #008000; font-weight: bold\">🤖 Agent: </span><span style=\"color: #008000; text-decoration-color: #008000\">Senior Customer Support Agent</span>\n",
              "        <span style=\"color: #c0c0c0; text-decoration-color: #c0c0c0\">    Status: </span><span style=\"color: #008000; text-decoration-color: #008000; font-weight: bold\">In Progress</span>\n",
              "</pre>\n"
            ],
            "text/plain": [
              "\u001b[1;36m🚀 Crew: \u001b[0m\u001b[1;36mcrew\u001b[0m\n",
              "├── \u001b[1;32m📋 Task: 6a16152d-0ce4-4b1e-83d4-5f39fa526b77\u001b[0m\n",
              "│   \u001b[37m   Assigned to: \u001b[0m\u001b[32mRetriever Agent\u001b[0m\n",
              "│   \u001b[37m   Status: \u001b[0m\u001b[1;32m✅ Completed\u001b[0m\n",
              "│   └── \u001b[1;32m🤖 Agent: \u001b[0m\u001b[32mRetriever Agent\u001b[0m\n",
              "│       \u001b[37m    Status: \u001b[0m\u001b[1;32m✅ Completed\u001b[0m\n",
              "│       ├── \u001b[1;32m🔧 \u001b[0m\u001b[32mUsed RAG Tool (5)\u001b[0m\n",
              "│       └── \u001b[1;32m🔧 \u001b[0m\u001b[32mUsed Web Search Tool (3)\u001b[0m\n",
              "└── \u001b[1;33m📋 Task: cde4d9db-8cf0-49ec-a96c-a48cff42649f\u001b[0m\n",
              "    \u001b[37m   Status: \u001b[0m\u001b[2;33mExecuting Task...\u001b[0m\n",
              "    └── \u001b[1;32m🤖 Agent: \u001b[0m\u001b[32mSenior Customer Support Agent\u001b[0m\n",
              "        \u001b[37m    Status: \u001b[0m\u001b[1;32mIn Progress\u001b[0m\n"
            ]
          },
          "metadata": {},
          "output_type": "display_data"
        },
        {
          "data": {
            "text/html": [
              "<pre style=\"white-space:pre;overflow-x:auto;line-height:normal;font-family:Menlo,'DejaVu Sans Mono',consolas,'Courier New',monospace\">\n",
              "</pre>\n"
            ],
            "text/plain": [
              "\n"
            ]
          },
          "metadata": {},
          "output_type": "display_data"
        },
        {
          "name": "stdout",
          "output_type": "stream",
          "text": [
            "\u001b[1m\u001b[95m# Agent:\u001b[00m \u001b[1m\u001b[92mSenior Customer Support Agent\u001b[00m\n",
            "\u001b[95m## Task:\u001b[00m \u001b[92mUsing the retrieved information, accurately and concisely answer the user's query: Who won the Nobel prize in 2024 in Physics?.\u001b[00m\n"
          ]
        },
        {
          "data": {
            "text/html": [
              "<pre style=\"white-space:pre;overflow-x:auto;line-height:normal;font-family:Menlo,'DejaVu Sans Mono',consolas,'Courier New',monospace\"><span style=\"color: #008080; text-decoration-color: #008080; font-weight: bold\">🚀 Crew: crew</span>\n",
              "├── <span style=\"color: #008000; text-decoration-color: #008000; font-weight: bold\">📋 Task: 6a16152d-0ce4-4b1e-83d4-5f39fa526b77</span>\n",
              "│   <span style=\"color: #c0c0c0; text-decoration-color: #c0c0c0\">   Assigned to: </span><span style=\"color: #008000; text-decoration-color: #008000\">Retriever Agent</span>\n",
              "│   <span style=\"color: #c0c0c0; text-decoration-color: #c0c0c0\">   Status: </span><span style=\"color: #008000; text-decoration-color: #008000; font-weight: bold\">✅ Completed</span>\n",
              "│   └── <span style=\"color: #008000; text-decoration-color: #008000; font-weight: bold\">🤖 Agent: </span><span style=\"color: #008000; text-decoration-color: #008000\">Retriever Agent</span>\n",
              "│       <span style=\"color: #c0c0c0; text-decoration-color: #c0c0c0\">    Status: </span><span style=\"color: #008000; text-decoration-color: #008000; font-weight: bold\">✅ Completed</span>\n",
              "│       ├── <span style=\"color: #008000; text-decoration-color: #008000; font-weight: bold\">🔧 </span><span style=\"color: #008000; text-decoration-color: #008000\">Used RAG Tool (5)</span>\n",
              "│       └── <span style=\"color: #008000; text-decoration-color: #008000; font-weight: bold\">🔧 </span><span style=\"color: #008000; text-decoration-color: #008000\">Used Web Search Tool (3)</span>\n",
              "└── <span style=\"color: #808000; text-decoration-color: #808000; font-weight: bold\">📋 Task: cde4d9db-8cf0-49ec-a96c-a48cff42649f</span>\n",
              "    <span style=\"color: #c0c0c0; text-decoration-color: #c0c0c0\">   Status: </span><span style=\"color: #bfbf7f; text-decoration-color: #bfbf7f\">Executing Task...</span>\n",
              "    └── <span style=\"color: #008000; text-decoration-color: #008000; font-weight: bold\">🤖 Agent: </span><span style=\"color: #008000; text-decoration-color: #008000\">Senior Customer Support Agent</span>\n",
              "        <span style=\"color: #c0c0c0; text-decoration-color: #c0c0c0\">    Status: </span><span style=\"color: #008000; text-decoration-color: #008000; font-weight: bold\">In Progress</span>\n",
              "        └── <span style=\"color: #000080; text-decoration-color: #000080; font-weight: bold\">🧠 </span><span style=\"color: #000080; text-decoration-color: #000080\">Thinking...</span>\n",
              "</pre>\n"
            ],
            "text/plain": [
              "\u001b[1;36m🚀 Crew: \u001b[0m\u001b[1;36mcrew\u001b[0m\n",
              "├── \u001b[1;32m📋 Task: 6a16152d-0ce4-4b1e-83d4-5f39fa526b77\u001b[0m\n",
              "│   \u001b[37m   Assigned to: \u001b[0m\u001b[32mRetriever Agent\u001b[0m\n",
              "│   \u001b[37m   Status: \u001b[0m\u001b[1;32m✅ Completed\u001b[0m\n",
              "│   └── \u001b[1;32m🤖 Agent: \u001b[0m\u001b[32mRetriever Agent\u001b[0m\n",
              "│       \u001b[37m    Status: \u001b[0m\u001b[1;32m✅ Completed\u001b[0m\n",
              "│       ├── \u001b[1;32m🔧 \u001b[0m\u001b[32mUsed RAG Tool (5)\u001b[0m\n",
              "│       └── \u001b[1;32m🔧 \u001b[0m\u001b[32mUsed Web Search Tool (3)\u001b[0m\n",
              "└── \u001b[1;33m📋 Task: cde4d9db-8cf0-49ec-a96c-a48cff42649f\u001b[0m\n",
              "    \u001b[37m   Status: \u001b[0m\u001b[2;33mExecuting Task...\u001b[0m\n",
              "    └── \u001b[1;32m🤖 Agent: \u001b[0m\u001b[32mSenior Customer Support Agent\u001b[0m\n",
              "        \u001b[37m    Status: \u001b[0m\u001b[1;32mIn Progress\u001b[0m\n",
              "        └── \u001b[1;34m🧠 \u001b[0m\u001b[34mThinking...\u001b[0m\n"
            ]
          },
          "metadata": {},
          "output_type": "display_data"
        },
        {
          "data": {
            "text/html": [
              "<pre style=\"white-space:pre;overflow-x:auto;line-height:normal;font-family:Menlo,'DejaVu Sans Mono',consolas,'Courier New',monospace\">\n",
              "</pre>\n"
            ],
            "text/plain": [
              "\n"
            ]
          },
          "metadata": {},
          "output_type": "display_data"
        },
        {
          "data": {
            "text/html": [
              "<pre style=\"white-space:pre;overflow-x:auto;line-height:normal;font-family:Menlo,'DejaVu Sans Mono',consolas,'Courier New',monospace\"><span style=\"color: #008080; text-decoration-color: #008080; font-weight: bold\">🚀 Crew: crew</span>\n",
              "├── <span style=\"color: #008000; text-decoration-color: #008000; font-weight: bold\">📋 Task: 6a16152d-0ce4-4b1e-83d4-5f39fa526b77</span>\n",
              "│   <span style=\"color: #c0c0c0; text-decoration-color: #c0c0c0\">   Assigned to: </span><span style=\"color: #008000; text-decoration-color: #008000\">Retriever Agent</span>\n",
              "│   <span style=\"color: #c0c0c0; text-decoration-color: #c0c0c0\">   Status: </span><span style=\"color: #008000; text-decoration-color: #008000; font-weight: bold\">✅ Completed</span>\n",
              "│   └── <span style=\"color: #008000; text-decoration-color: #008000; font-weight: bold\">🤖 Agent: </span><span style=\"color: #008000; text-decoration-color: #008000\">Retriever Agent</span>\n",
              "│       <span style=\"color: #c0c0c0; text-decoration-color: #c0c0c0\">    Status: </span><span style=\"color: #008000; text-decoration-color: #008000; font-weight: bold\">✅ Completed</span>\n",
              "│       ├── <span style=\"color: #008000; text-decoration-color: #008000; font-weight: bold\">🔧 </span><span style=\"color: #008000; text-decoration-color: #008000\">Used RAG Tool (5)</span>\n",
              "│       └── <span style=\"color: #008000; text-decoration-color: #008000; font-weight: bold\">🔧 </span><span style=\"color: #008000; text-decoration-color: #008000\">Used Web Search Tool (3)</span>\n",
              "└── <span style=\"color: #808000; text-decoration-color: #808000; font-weight: bold\">📋 Task: cde4d9db-8cf0-49ec-a96c-a48cff42649f</span>\n",
              "    <span style=\"color: #c0c0c0; text-decoration-color: #c0c0c0\">   Status: </span><span style=\"color: #bfbf7f; text-decoration-color: #bfbf7f\">Executing Task...</span>\n",
              "    └── <span style=\"color: #008000; text-decoration-color: #008000; font-weight: bold\">🤖 Agent: </span><span style=\"color: #008000; text-decoration-color: #008000\">Senior Customer Support Agent</span>\n",
              "        <span style=\"color: #c0c0c0; text-decoration-color: #c0c0c0\">    Status: </span><span style=\"color: #008000; text-decoration-color: #008000; font-weight: bold\">In Progress</span>\n",
              "</pre>\n"
            ],
            "text/plain": [
              "\u001b[1;36m🚀 Crew: \u001b[0m\u001b[1;36mcrew\u001b[0m\n",
              "├── \u001b[1;32m📋 Task: 6a16152d-0ce4-4b1e-83d4-5f39fa526b77\u001b[0m\n",
              "│   \u001b[37m   Assigned to: \u001b[0m\u001b[32mRetriever Agent\u001b[0m\n",
              "│   \u001b[37m   Status: \u001b[0m\u001b[1;32m✅ Completed\u001b[0m\n",
              "│   └── \u001b[1;32m🤖 Agent: \u001b[0m\u001b[32mRetriever Agent\u001b[0m\n",
              "│       \u001b[37m    Status: \u001b[0m\u001b[1;32m✅ Completed\u001b[0m\n",
              "│       ├── \u001b[1;32m🔧 \u001b[0m\u001b[32mUsed RAG Tool (5)\u001b[0m\n",
              "│       └── \u001b[1;32m🔧 \u001b[0m\u001b[32mUsed Web Search Tool (3)\u001b[0m\n",
              "└── \u001b[1;33m📋 Task: cde4d9db-8cf0-49ec-a96c-a48cff42649f\u001b[0m\n",
              "    \u001b[37m   Status: \u001b[0m\u001b[2;33mExecuting Task...\u001b[0m\n",
              "    └── \u001b[1;32m🤖 Agent: \u001b[0m\u001b[32mSenior Customer Support Agent\u001b[0m\n",
              "        \u001b[37m    Status: \u001b[0m\u001b[1;32mIn Progress\u001b[0m\n"
            ]
          },
          "metadata": {},
          "output_type": "display_data"
        },
        {
          "data": {
            "text/html": [
              "<pre style=\"white-space:pre;overflow-x:auto;line-height:normal;font-family:Menlo,'DejaVu Sans Mono',consolas,'Courier New',monospace\">\n",
              "</pre>\n"
            ],
            "text/plain": [
              "\n"
            ]
          },
          "metadata": {},
          "output_type": "display_data"
        },
        {
          "name": "stdout",
          "output_type": "stream",
          "text": [
            "\n",
            "\n",
            "\u001b[1m\u001b[95m# Agent:\u001b[00m \u001b[1m\u001b[92mSenior Customer Support Agent\u001b[00m\n",
            "\u001b[95m## Final Answer:\u001b[00m \u001b[92m\n",
            "The Nobel Prize in Physics for 2024 was awarded jointly to John J. Hopfield and Geoffrey Hinton \"for foundational discoveries and inventions that enable machine learning with artificial neural networks.\"\u001b[00m\n",
            "\n",
            "\n"
          ]
        },
        {
          "data": {
            "text/html": [
              "<pre style=\"white-space:pre;overflow-x:auto;line-height:normal;font-family:Menlo,'DejaVu Sans Mono',consolas,'Courier New',monospace\"><span style=\"color: #008080; text-decoration-color: #008080; font-weight: bold\">🚀 Crew: crew</span>\n",
              "├── <span style=\"color: #008000; text-decoration-color: #008000; font-weight: bold\">📋 Task: 6a16152d-0ce4-4b1e-83d4-5f39fa526b77</span>\n",
              "│   <span style=\"color: #c0c0c0; text-decoration-color: #c0c0c0\">   Assigned to: </span><span style=\"color: #008000; text-decoration-color: #008000\">Retriever Agent</span>\n",
              "│   <span style=\"color: #c0c0c0; text-decoration-color: #c0c0c0\">   Status: </span><span style=\"color: #008000; text-decoration-color: #008000; font-weight: bold\">✅ Completed</span>\n",
              "│   └── <span style=\"color: #008000; text-decoration-color: #008000; font-weight: bold\">🤖 Agent: </span><span style=\"color: #008000; text-decoration-color: #008000\">Retriever Agent</span>\n",
              "│       <span style=\"color: #c0c0c0; text-decoration-color: #c0c0c0\">    Status: </span><span style=\"color: #008000; text-decoration-color: #008000; font-weight: bold\">✅ Completed</span>\n",
              "│       ├── <span style=\"color: #008000; text-decoration-color: #008000; font-weight: bold\">🔧 </span><span style=\"color: #008000; text-decoration-color: #008000\">Used RAG Tool (5)</span>\n",
              "│       └── <span style=\"color: #008000; text-decoration-color: #008000; font-weight: bold\">🔧 </span><span style=\"color: #008000; text-decoration-color: #008000\">Used Web Search Tool (3)</span>\n",
              "└── <span style=\"color: #808000; text-decoration-color: #808000; font-weight: bold\">📋 Task: cde4d9db-8cf0-49ec-a96c-a48cff42649f</span>\n",
              "    <span style=\"color: #c0c0c0; text-decoration-color: #c0c0c0\">   Status: </span><span style=\"color: #bfbf7f; text-decoration-color: #bfbf7f\">Executing Task...</span>\n",
              "    └── <span style=\"color: #008000; text-decoration-color: #008000; font-weight: bold\">🤖 Agent: </span><span style=\"color: #008000; text-decoration-color: #008000\">Senior Customer Support Agent</span>\n",
              "        <span style=\"color: #c0c0c0; text-decoration-color: #c0c0c0\">    Status: </span><span style=\"color: #008000; text-decoration-color: #008000; font-weight: bold\">✅ Completed</span>\n",
              "</pre>\n"
            ],
            "text/plain": [
              "\u001b[1;36m🚀 Crew: \u001b[0m\u001b[1;36mcrew\u001b[0m\n",
              "├── \u001b[1;32m📋 Task: 6a16152d-0ce4-4b1e-83d4-5f39fa526b77\u001b[0m\n",
              "│   \u001b[37m   Assigned to: \u001b[0m\u001b[32mRetriever Agent\u001b[0m\n",
              "│   \u001b[37m   Status: \u001b[0m\u001b[1;32m✅ Completed\u001b[0m\n",
              "│   └── \u001b[1;32m🤖 Agent: \u001b[0m\u001b[32mRetriever Agent\u001b[0m\n",
              "│       \u001b[37m    Status: \u001b[0m\u001b[1;32m✅ Completed\u001b[0m\n",
              "│       ├── \u001b[1;32m🔧 \u001b[0m\u001b[32mUsed RAG Tool (5)\u001b[0m\n",
              "│       └── \u001b[1;32m🔧 \u001b[0m\u001b[32mUsed Web Search Tool (3)\u001b[0m\n",
              "└── \u001b[1;33m📋 Task: cde4d9db-8cf0-49ec-a96c-a48cff42649f\u001b[0m\n",
              "    \u001b[37m   Status: \u001b[0m\u001b[2;33mExecuting Task...\u001b[0m\n",
              "    └── \u001b[1;32m🤖 Agent: \u001b[0m\u001b[32mSenior Customer Support Agent\u001b[0m\n",
              "        \u001b[37m    Status: \u001b[0m\u001b[1;32m✅ Completed\u001b[0m\n"
            ]
          },
          "metadata": {},
          "output_type": "display_data"
        },
        {
          "data": {
            "text/html": [
              "<pre style=\"white-space:pre;overflow-x:auto;line-height:normal;font-family:Menlo,'DejaVu Sans Mono',consolas,'Courier New',monospace\">\n",
              "</pre>\n"
            ],
            "text/plain": [
              "\n"
            ]
          },
          "metadata": {},
          "output_type": "display_data"
        },
        {
          "data": {
            "text/html": [
              "<pre style=\"white-space:pre;overflow-x:auto;line-height:normal;font-family:Menlo,'DejaVu Sans Mono',consolas,'Courier New',monospace\"><span style=\"color: #008080; text-decoration-color: #008080; font-weight: bold\">🚀 Crew: crew</span>\n",
              "├── <span style=\"color: #008000; text-decoration-color: #008000; font-weight: bold\">📋 Task: 6a16152d-0ce4-4b1e-83d4-5f39fa526b77</span>\n",
              "│   <span style=\"color: #c0c0c0; text-decoration-color: #c0c0c0\">   Assigned to: </span><span style=\"color: #008000; text-decoration-color: #008000\">Retriever Agent</span>\n",
              "│   <span style=\"color: #c0c0c0; text-decoration-color: #c0c0c0\">   Status: </span><span style=\"color: #008000; text-decoration-color: #008000; font-weight: bold\">✅ Completed</span>\n",
              "│   └── <span style=\"color: #008000; text-decoration-color: #008000; font-weight: bold\">🤖 Agent: </span><span style=\"color: #008000; text-decoration-color: #008000\">Retriever Agent</span>\n",
              "│       <span style=\"color: #c0c0c0; text-decoration-color: #c0c0c0\">    Status: </span><span style=\"color: #008000; text-decoration-color: #008000; font-weight: bold\">✅ Completed</span>\n",
              "│       ├── <span style=\"color: #008000; text-decoration-color: #008000; font-weight: bold\">🔧 </span><span style=\"color: #008000; text-decoration-color: #008000\">Used RAG Tool (5)</span>\n",
              "│       └── <span style=\"color: #008000; text-decoration-color: #008000; font-weight: bold\">🔧 </span><span style=\"color: #008000; text-decoration-color: #008000\">Used Web Search Tool (3)</span>\n",
              "└── <span style=\"color: #008000; text-decoration-color: #008000; font-weight: bold\">📋 Task: cde4d9db-8cf0-49ec-a96c-a48cff42649f</span>\n",
              "    <span style=\"color: #c0c0c0; text-decoration-color: #c0c0c0\">   Assigned to: </span><span style=\"color: #008000; text-decoration-color: #008000\">Senior Customer Support Agent</span>\n",
              "    <span style=\"color: #c0c0c0; text-decoration-color: #c0c0c0\">   Status: </span><span style=\"color: #008000; text-decoration-color: #008000; font-weight: bold\">✅ Completed</span>\n",
              "    └── <span style=\"color: #008000; text-decoration-color: #008000; font-weight: bold\">🤖 Agent: </span><span style=\"color: #008000; text-decoration-color: #008000\">Senior Customer Support Agent</span>\n",
              "        <span style=\"color: #c0c0c0; text-decoration-color: #c0c0c0\">    Status: </span><span style=\"color: #008000; text-decoration-color: #008000; font-weight: bold\">✅ Completed</span>\n",
              "</pre>\n"
            ],
            "text/plain": [
              "\u001b[1;36m🚀 Crew: \u001b[0m\u001b[1;36mcrew\u001b[0m\n",
              "├── \u001b[1;32m📋 Task: 6a16152d-0ce4-4b1e-83d4-5f39fa526b77\u001b[0m\n",
              "│   \u001b[37m   Assigned to: \u001b[0m\u001b[32mRetriever Agent\u001b[0m\n",
              "│   \u001b[37m   Status: \u001b[0m\u001b[1;32m✅ Completed\u001b[0m\n",
              "│   └── \u001b[1;32m🤖 Agent: \u001b[0m\u001b[32mRetriever Agent\u001b[0m\n",
              "│       \u001b[37m    Status: \u001b[0m\u001b[1;32m✅ Completed\u001b[0m\n",
              "│       ├── \u001b[1;32m🔧 \u001b[0m\u001b[32mUsed RAG Tool (5)\u001b[0m\n",
              "│       └── \u001b[1;32m🔧 \u001b[0m\u001b[32mUsed Web Search Tool (3)\u001b[0m\n",
              "└── \u001b[1;32m📋 Task: cde4d9db-8cf0-49ec-a96c-a48cff42649f\u001b[0m\n",
              "    \u001b[37m   Assigned to: \u001b[0m\u001b[32mSenior Customer Support Agent\u001b[0m\n",
              "    \u001b[37m   Status: \u001b[0m\u001b[1;32m✅ Completed\u001b[0m\n",
              "    └── \u001b[1;32m🤖 Agent: \u001b[0m\u001b[32mSenior Customer Support Agent\u001b[0m\n",
              "        \u001b[37m    Status: \u001b[0m\u001b[1;32m✅ Completed\u001b[0m\n"
            ]
          },
          "metadata": {},
          "output_type": "display_data"
        },
        {
          "data": {
            "text/html": [
              "<pre style=\"white-space:pre;overflow-x:auto;line-height:normal;font-family:Menlo,'DejaVu Sans Mono',consolas,'Courier New',monospace\"><span style=\"color: #008000; text-decoration-color: #008000\">╭──────────────────────────────────────────────── Task Completion ────────────────────────────────────────────────╮</span>\n",
              "<span style=\"color: #008000; text-decoration-color: #008000\">│</span>                                                                                                                 <span style=\"color: #008000; text-decoration-color: #008000\">│</span>\n",
              "<span style=\"color: #008000; text-decoration-color: #008000\">│</span>  <span style=\"color: #008000; text-decoration-color: #008000; font-weight: bold\">Task Completed</span>                                                                                                 <span style=\"color: #008000; text-decoration-color: #008000\">│</span>\n",
              "<span style=\"color: #008000; text-decoration-color: #008000\">│</span>  <span style=\"color: #c0c0c0; text-decoration-color: #c0c0c0\">Name: </span><span style=\"color: #008000; text-decoration-color: #008000\">cde4d9db-8cf0-49ec-a96c-a48cff42649f</span>                                                                     <span style=\"color: #008000; text-decoration-color: #008000\">│</span>\n",
              "<span style=\"color: #008000; text-decoration-color: #008000\">│</span>  <span style=\"color: #c0c0c0; text-decoration-color: #c0c0c0\">Agent: </span><span style=\"color: #008000; text-decoration-color: #008000\">Senior Customer Support Agent</span>                                                                           <span style=\"color: #008000; text-decoration-color: #008000\">│</span>\n",
              "<span style=\"color: #008000; text-decoration-color: #008000\">│</span>                                                                                                                 <span style=\"color: #008000; text-decoration-color: #008000\">│</span>\n",
              "<span style=\"color: #008000; text-decoration-color: #008000\">│</span>                                                                                                                 <span style=\"color: #008000; text-decoration-color: #008000\">│</span>\n",
              "<span style=\"color: #008000; text-decoration-color: #008000\">╰─────────────────────────────────────────────────────────────────────────────────────────────────────────────────╯</span>\n",
              "</pre>\n"
            ],
            "text/plain": [
              "\u001b[32m╭─\u001b[0m\u001b[32m───────────────────────────────────────────────\u001b[0m\u001b[32m Task Completion \u001b[0m\u001b[32m───────────────────────────────────────────────\u001b[0m\u001b[32m─╮\u001b[0m\n",
              "\u001b[32m│\u001b[0m                                                                                                                 \u001b[32m│\u001b[0m\n",
              "\u001b[32m│\u001b[0m  \u001b[1;32mTask Completed\u001b[0m                                                                                                 \u001b[32m│\u001b[0m\n",
              "\u001b[32m│\u001b[0m  \u001b[37mName: \u001b[0m\u001b[32mcde4d9db-8cf0-49ec-a96c-a48cff42649f\u001b[0m                                                                     \u001b[32m│\u001b[0m\n",
              "\u001b[32m│\u001b[0m  \u001b[37mAgent: \u001b[0m\u001b[32mSenior Customer Support Agent\u001b[0m                                                                           \u001b[32m│\u001b[0m\n",
              "\u001b[32m│\u001b[0m                                                                                                                 \u001b[32m│\u001b[0m\n",
              "\u001b[32m│\u001b[0m                                                                                                                 \u001b[32m│\u001b[0m\n",
              "\u001b[32m╰─────────────────────────────────────────────────────────────────────────────────────────────────────────────────╯\u001b[0m\n"
            ]
          },
          "metadata": {},
          "output_type": "display_data"
        },
        {
          "data": {
            "text/html": [
              "<pre style=\"white-space:pre;overflow-x:auto;line-height:normal;font-family:Menlo,'DejaVu Sans Mono',consolas,'Courier New',monospace\">\n",
              "</pre>\n"
            ],
            "text/plain": [
              "\n"
            ]
          },
          "metadata": {},
          "output_type": "display_data"
        },
        {
          "data": {
            "text/html": [
              "<pre style=\"white-space:pre;overflow-x:auto;line-height:normal;font-family:Menlo,'DejaVu Sans Mono',consolas,'Courier New',monospace\"><span style=\"color: #008000; text-decoration-color: #008000\">╭──────────────────────────────────────────────── Crew Completion ────────────────────────────────────────────────╮</span>\n",
              "<span style=\"color: #008000; text-decoration-color: #008000\">│</span>                                                                                                                 <span style=\"color: #008000; text-decoration-color: #008000\">│</span>\n",
              "<span style=\"color: #008000; text-decoration-color: #008000\">│</span>  <span style=\"color: #008000; text-decoration-color: #008000; font-weight: bold\">Crew Execution Completed</span>                                                                                       <span style=\"color: #008000; text-decoration-color: #008000\">│</span>\n",
              "<span style=\"color: #008000; text-decoration-color: #008000\">│</span>  <span style=\"color: #c0c0c0; text-decoration-color: #c0c0c0\">Name: </span><span style=\"color: #008000; text-decoration-color: #008000\">crew</span>                                                                                                     <span style=\"color: #008000; text-decoration-color: #008000\">│</span>\n",
              "<span style=\"color: #008000; text-decoration-color: #008000\">│</span>  <span style=\"color: #c0c0c0; text-decoration-color: #c0c0c0\">ID: </span><span style=\"color: #008000; text-decoration-color: #008000\">27c31765-1616-457b-82e7-a05a785dd68e</span>                                                                       <span style=\"color: #008000; text-decoration-color: #008000\">│</span>\n",
              "<span style=\"color: #008000; text-decoration-color: #008000\">│</span>                                                                                                                 <span style=\"color: #008000; text-decoration-color: #008000\">│</span>\n",
              "<span style=\"color: #008000; text-decoration-color: #008000\">│</span>                                                                                                                 <span style=\"color: #008000; text-decoration-color: #008000\">│</span>\n",
              "<span style=\"color: #008000; text-decoration-color: #008000\">╰─────────────────────────────────────────────────────────────────────────────────────────────────────────────────╯</span>\n",
              "</pre>\n"
            ],
            "text/plain": [
              "\u001b[32m╭─\u001b[0m\u001b[32m───────────────────────────────────────────────\u001b[0m\u001b[32m Crew Completion \u001b[0m\u001b[32m───────────────────────────────────────────────\u001b[0m\u001b[32m─╮\u001b[0m\n",
              "\u001b[32m│\u001b[0m                                                                                                                 \u001b[32m│\u001b[0m\n",
              "\u001b[32m│\u001b[0m  \u001b[1;32mCrew Execution Completed\u001b[0m                                                                                       \u001b[32m│\u001b[0m\n",
              "\u001b[32m│\u001b[0m  \u001b[37mName: \u001b[0m\u001b[32mcrew\u001b[0m                                                                                                     \u001b[32m│\u001b[0m\n",
              "\u001b[32m│\u001b[0m  \u001b[37mID: \u001b[0m\u001b[32m27c31765-1616-457b-82e7-a05a785dd68e\u001b[0m                                                                       \u001b[32m│\u001b[0m\n",
              "\u001b[32m│\u001b[0m                                                                                                                 \u001b[32m│\u001b[0m\n",
              "\u001b[32m│\u001b[0m                                                                                                                 \u001b[32m│\u001b[0m\n",
              "\u001b[32m╰─────────────────────────────────────────────────────────────────────────────────────────────────────────────────╯\u001b[0m\n"
            ]
          },
          "metadata": {},
          "output_type": "display_data"
        },
        {
          "data": {
            "text/html": [
              "<pre style=\"white-space:pre;overflow-x:auto;line-height:normal;font-family:Menlo,'DejaVu Sans Mono',consolas,'Courier New',monospace\">\n",
              "</pre>\n"
            ],
            "text/plain": [
              "\n"
            ]
          },
          "metadata": {},
          "output_type": "display_data"
        }
      ],
      "source": [
        "# Crew inputs\n",
        "crew_inputs_2 = {\n",
        "    \"user_query\": \"Who won the Nobel prize in 2024 in Physics?\",\n",
        "}\n",
        "\n",
        "# Run the crew\n",
        "result_2 = customer_support_crew.kickoff(inputs = crew_inputs_2)"
      ]
    },
    {
      "cell_type": "code",
      "execution_count": null,
      "metadata": {
        "colab": {
          "base_uri": "https://localhost:8080/"
        },
        "id": "U6Brc2GM0BpB",
        "outputId": "e7c9069a-64f3-4c44-9eb2-529bdba2b8b5"
      },
      "outputs": [
        {
          "name": "stdout",
          "output_type": "stream",
          "text": [
            "The Nobel Prize in Physics for 2024 was awarded jointly to John J. Hopfield and Geoffrey Hinton \"for foundational discoveries and inventions that enable machine learning with artificial neural networks.\"\n"
          ]
        }
      ],
      "source": [
        "print(result_2.raw)"
      ]
    },
    {
      "cell_type": "markdown",
      "metadata": {
        "id": "FnN34iyeJ6ne"
      },
      "source": [
        "### Result 3: Incomprehensible query"
      ]
    },
    {
      "cell_type": "code",
      "execution_count": null,
      "metadata": {
        "id": "HbK4RwnZ0Geq"
      },
      "outputs": [],
      "source": [
        "crew_inputs_3 = {\n",
        "    \"user_query\": \"What is the name of XNNASDMN?\",\n",
        "}"
      ]
    },
    {
      "cell_type": "code",
      "execution_count": null,
      "metadata": {
        "colab": {
          "base_uri": "https://localhost:8080/",
          "height": 1000
        },
        "collapsed": true,
        "id": "LdHlqO4qKEbo",
        "outputId": "13cdadb0-6efb-4577-b9c0-81ca623b6c93"
      },
      "outputs": [
        {
          "data": {
            "text/html": [
              "<pre style=\"white-space:pre;overflow-x:auto;line-height:normal;font-family:Menlo,'DejaVu Sans Mono',consolas,'Courier New',monospace\"><span style=\"color: #008080; text-decoration-color: #008080\">╭──────────────────────────────────────────── Crew Execution Started ─────────────────────────────────────────────╮</span>\n",
              "<span style=\"color: #008080; text-decoration-color: #008080\">│</span>                                                                                                                 <span style=\"color: #008080; text-decoration-color: #008080\">│</span>\n",
              "<span style=\"color: #008080; text-decoration-color: #008080\">│</span>  <span style=\"color: #008080; text-decoration-color: #008080; font-weight: bold\">Crew Execution Started</span>                                                                                         <span style=\"color: #008080; text-decoration-color: #008080\">│</span>\n",
              "<span style=\"color: #008080; text-decoration-color: #008080\">│</span>  <span style=\"color: #c0c0c0; text-decoration-color: #c0c0c0\">Name: </span><span style=\"color: #008080; text-decoration-color: #008080\">crew</span>                                                                                                     <span style=\"color: #008080; text-decoration-color: #008080\">│</span>\n",
              "<span style=\"color: #008080; text-decoration-color: #008080\">│</span>  <span style=\"color: #c0c0c0; text-decoration-color: #c0c0c0\">ID: </span><span style=\"color: #008080; text-decoration-color: #008080\">27c31765-1616-457b-82e7-a05a785dd68e</span>                                                                       <span style=\"color: #008080; text-decoration-color: #008080\">│</span>\n",
              "<span style=\"color: #008080; text-decoration-color: #008080\">│</span>                                                                                                                 <span style=\"color: #008080; text-decoration-color: #008080\">│</span>\n",
              "<span style=\"color: #008080; text-decoration-color: #008080\">│</span>                                                                                                                 <span style=\"color: #008080; text-decoration-color: #008080\">│</span>\n",
              "<span style=\"color: #008080; text-decoration-color: #008080\">╰─────────────────────────────────────────────────────────────────────────────────────────────────────────────────╯</span>\n",
              "</pre>\n"
            ],
            "text/plain": [
              "\u001b[36m╭─\u001b[0m\u001b[36m───────────────────────────────────────────\u001b[0m\u001b[36m Crew Execution Started \u001b[0m\u001b[36m────────────────────────────────────────────\u001b[0m\u001b[36m─╮\u001b[0m\n",
              "\u001b[36m│\u001b[0m                                                                                                                 \u001b[36m│\u001b[0m\n",
              "\u001b[36m│\u001b[0m  \u001b[1;36mCrew Execution Started\u001b[0m                                                                                         \u001b[36m│\u001b[0m\n",
              "\u001b[36m│\u001b[0m  \u001b[37mName: \u001b[0m\u001b[36mcrew\u001b[0m                                                                                                     \u001b[36m│\u001b[0m\n",
              "\u001b[36m│\u001b[0m  \u001b[37mID: \u001b[0m\u001b[36m27c31765-1616-457b-82e7-a05a785dd68e\u001b[0m                                                                       \u001b[36m│\u001b[0m\n",
              "\u001b[36m│\u001b[0m                                                                                                                 \u001b[36m│\u001b[0m\n",
              "\u001b[36m│\u001b[0m                                                                                                                 \u001b[36m│\u001b[0m\n",
              "\u001b[36m╰─────────────────────────────────────────────────────────────────────────────────────────────────────────────────╯\u001b[0m\n"
            ]
          },
          "metadata": {},
          "output_type": "display_data"
        },
        {
          "data": {
            "text/html": [
              "<pre style=\"white-space:pre;overflow-x:auto;line-height:normal;font-family:Menlo,'DejaVu Sans Mono',consolas,'Courier New',monospace\">\n",
              "</pre>\n"
            ],
            "text/plain": [
              "\n"
            ]
          },
          "metadata": {},
          "output_type": "display_data"
        },
        {
          "data": {
            "text/html": [
              "<pre style=\"white-space:pre;overflow-x:auto;line-height:normal;font-family:Menlo,'DejaVu Sans Mono',consolas,'Courier New',monospace\"><span style=\"color: #008080; text-decoration-color: #008080; font-weight: bold\">🚀 Crew: crew</span>\n",
              "└── <span style=\"color: #808000; text-decoration-color: #808000; font-weight: bold\">📋 Task: 6a16152d-0ce4-4b1e-83d4-5f39fa526b77</span>\n",
              "    <span style=\"color: #c0c0c0; text-decoration-color: #c0c0c0\">   Status: </span><span style=\"color: #bfbf7f; text-decoration-color: #bfbf7f\">Executing Task...</span>\n",
              "</pre>\n"
            ],
            "text/plain": [
              "\u001b[1;36m🚀 Crew: \u001b[0m\u001b[1;36mcrew\u001b[0m\n",
              "└── \u001b[1;33m📋 Task: 6a16152d-0ce4-4b1e-83d4-5f39fa526b77\u001b[0m\n",
              "    \u001b[37m   Status: \u001b[0m\u001b[2;33mExecuting Task...\u001b[0m\n"
            ]
          },
          "metadata": {},
          "output_type": "display_data"
        },
        {
          "data": {
            "text/html": [
              "<pre style=\"white-space:pre;overflow-x:auto;line-height:normal;font-family:Menlo,'DejaVu Sans Mono',consolas,'Courier New',monospace\">\n",
              "</pre>\n"
            ],
            "text/plain": [
              "\n"
            ]
          },
          "metadata": {},
          "output_type": "display_data"
        },
        {
          "data": {
            "text/html": [
              "<pre style=\"white-space:pre;overflow-x:auto;line-height:normal;font-family:Menlo,'DejaVu Sans Mono',consolas,'Courier New',monospace\"><span style=\"color: #008080; text-decoration-color: #008080; font-weight: bold\">🚀 Crew: crew</span>\n",
              "└── <span style=\"color: #808000; text-decoration-color: #808000; font-weight: bold\">📋 Task: 6a16152d-0ce4-4b1e-83d4-5f39fa526b77</span>\n",
              "    <span style=\"color: #c0c0c0; text-decoration-color: #c0c0c0\">   Status: </span><span style=\"color: #bfbf7f; text-decoration-color: #bfbf7f\">Executing Task...</span>\n",
              "    └── <span style=\"color: #008000; text-decoration-color: #008000; font-weight: bold\">🤖 Agent: </span><span style=\"color: #008000; text-decoration-color: #008000\">Retriever Agent</span>\n",
              "        <span style=\"color: #c0c0c0; text-decoration-color: #c0c0c0\">    Status: </span><span style=\"color: #008000; text-decoration-color: #008000; font-weight: bold\">In Progress</span>\n",
              "</pre>\n"
            ],
            "text/plain": [
              "\u001b[1;36m🚀 Crew: \u001b[0m\u001b[1;36mcrew\u001b[0m\n",
              "└── \u001b[1;33m📋 Task: 6a16152d-0ce4-4b1e-83d4-5f39fa526b77\u001b[0m\n",
              "    \u001b[37m   Status: \u001b[0m\u001b[2;33mExecuting Task...\u001b[0m\n",
              "    └── \u001b[1;32m🤖 Agent: \u001b[0m\u001b[32mRetriever Agent\u001b[0m\n",
              "        \u001b[37m    Status: \u001b[0m\u001b[1;32mIn Progress\u001b[0m\n"
            ]
          },
          "metadata": {},
          "output_type": "display_data"
        },
        {
          "data": {
            "text/html": [
              "<pre style=\"white-space:pre;overflow-x:auto;line-height:normal;font-family:Menlo,'DejaVu Sans Mono',consolas,'Courier New',monospace\">\n",
              "</pre>\n"
            ],
            "text/plain": [
              "\n"
            ]
          },
          "metadata": {},
          "output_type": "display_data"
        },
        {
          "name": "stdout",
          "output_type": "stream",
          "text": [
            "\u001b[1m\u001b[95m# Agent:\u001b[00m \u001b[1m\u001b[92mRetriever Agent\u001b[00m\n",
            "\u001b[95m## Task:\u001b[00m \u001b[92mRetrieve the most relevant information from the given sources to answer the user's query: What is the name of XNNASDMN?. ALWAYS use the RAG Tool first. If you cannot find the required information, ONLY THEN use the Web Search Tool. DO NOT USE the Web Search Tool if you have sufficient information to accurately answer the user's query.\u001b[00m\n"
          ]
        },
        {
          "data": {
            "text/html": [
              "<pre style=\"white-space:pre;overflow-x:auto;line-height:normal;font-family:Menlo,'DejaVu Sans Mono',consolas,'Courier New',monospace\"><span style=\"color: #008080; text-decoration-color: #008080; font-weight: bold\">🚀 Crew: crew</span>\n",
              "└── <span style=\"color: #808000; text-decoration-color: #808000; font-weight: bold\">📋 Task: 6a16152d-0ce4-4b1e-83d4-5f39fa526b77</span>\n",
              "    <span style=\"color: #c0c0c0; text-decoration-color: #c0c0c0\">   Status: </span><span style=\"color: #bfbf7f; text-decoration-color: #bfbf7f\">Executing Task...</span>\n",
              "    └── <span style=\"color: #008000; text-decoration-color: #008000; font-weight: bold\">🤖 Agent: </span><span style=\"color: #008000; text-decoration-color: #008000\">Retriever Agent</span>\n",
              "        <span style=\"color: #c0c0c0; text-decoration-color: #c0c0c0\">    Status: </span><span style=\"color: #008000; text-decoration-color: #008000; font-weight: bold\">In Progress</span>\n",
              "        └── <span style=\"color: #000080; text-decoration-color: #000080; font-weight: bold\">🧠 </span><span style=\"color: #000080; text-decoration-color: #000080\">Thinking...</span>\n",
              "</pre>\n"
            ],
            "text/plain": [
              "\u001b[1;36m🚀 Crew: \u001b[0m\u001b[1;36mcrew\u001b[0m\n",
              "└── \u001b[1;33m📋 Task: 6a16152d-0ce4-4b1e-83d4-5f39fa526b77\u001b[0m\n",
              "    \u001b[37m   Status: \u001b[0m\u001b[2;33mExecuting Task...\u001b[0m\n",
              "    └── \u001b[1;32m🤖 Agent: \u001b[0m\u001b[32mRetriever Agent\u001b[0m\n",
              "        \u001b[37m    Status: \u001b[0m\u001b[1;32mIn Progress\u001b[0m\n",
              "        └── \u001b[1;34m🧠 \u001b[0m\u001b[34mThinking...\u001b[0m\n"
            ]
          },
          "metadata": {},
          "output_type": "display_data"
        },
        {
          "data": {
            "text/html": [
              "<pre style=\"white-space:pre;overflow-x:auto;line-height:normal;font-family:Menlo,'DejaVu Sans Mono',consolas,'Courier New',monospace\">\n",
              "</pre>\n"
            ],
            "text/plain": [
              "\n"
            ]
          },
          "metadata": {},
          "output_type": "display_data"
        },
        {
          "data": {
            "text/html": [
              "<pre style=\"white-space:pre;overflow-x:auto;line-height:normal;font-family:Menlo,'DejaVu Sans Mono',consolas,'Courier New',monospace\"><span style=\"color: #008080; text-decoration-color: #008080; font-weight: bold\">🚀 Crew: crew</span>\n",
              "└── <span style=\"color: #808000; text-decoration-color: #808000; font-weight: bold\">📋 Task: 6a16152d-0ce4-4b1e-83d4-5f39fa526b77</span>\n",
              "    <span style=\"color: #c0c0c0; text-decoration-color: #c0c0c0\">   Status: </span><span style=\"color: #bfbf7f; text-decoration-color: #bfbf7f\">Executing Task...</span>\n",
              "    └── <span style=\"color: #008000; text-decoration-color: #008000; font-weight: bold\">🤖 Agent: </span><span style=\"color: #008000; text-decoration-color: #008000\">Retriever Agent</span>\n",
              "        <span style=\"color: #c0c0c0; text-decoration-color: #c0c0c0\">    Status: </span><span style=\"color: #008000; text-decoration-color: #008000; font-weight: bold\">In Progress</span>\n",
              "</pre>\n"
            ],
            "text/plain": [
              "\u001b[1;36m🚀 Crew: \u001b[0m\u001b[1;36mcrew\u001b[0m\n",
              "└── \u001b[1;33m📋 Task: 6a16152d-0ce4-4b1e-83d4-5f39fa526b77\u001b[0m\n",
              "    \u001b[37m   Status: \u001b[0m\u001b[2;33mExecuting Task...\u001b[0m\n",
              "    └── \u001b[1;32m🤖 Agent: \u001b[0m\u001b[32mRetriever Agent\u001b[0m\n",
              "        \u001b[37m    Status: \u001b[0m\u001b[1;32mIn Progress\u001b[0m\n"
            ]
          },
          "metadata": {},
          "output_type": "display_data"
        },
        {
          "data": {
            "text/html": [
              "<pre style=\"white-space:pre;overflow-x:auto;line-height:normal;font-family:Menlo,'DejaVu Sans Mono',consolas,'Courier New',monospace\">\n",
              "</pre>\n"
            ],
            "text/plain": [
              "\n"
            ]
          },
          "metadata": {},
          "output_type": "display_data"
        },
        {
          "data": {
            "text/html": [
              "<pre style=\"white-space:pre;overflow-x:auto;line-height:normal;font-family:Menlo,'DejaVu Sans Mono',consolas,'Courier New',monospace\"><span style=\"color: #008080; text-decoration-color: #008080; font-weight: bold\">🚀 Crew: crew</span>\n",
              "└── <span style=\"color: #808000; text-decoration-color: #808000; font-weight: bold\">📋 Task: 6a16152d-0ce4-4b1e-83d4-5f39fa526b77</span>\n",
              "    <span style=\"color: #c0c0c0; text-decoration-color: #c0c0c0\">   Status: </span><span style=\"color: #bfbf7f; text-decoration-color: #bfbf7f\">Executing Task...</span>\n",
              "    └── <span style=\"color: #008000; text-decoration-color: #008000; font-weight: bold\">🤖 Agent: </span><span style=\"color: #008000; text-decoration-color: #008000\">Retriever Agent</span>\n",
              "        <span style=\"color: #c0c0c0; text-decoration-color: #c0c0c0\">    Status: </span><span style=\"color: #008000; text-decoration-color: #008000; font-weight: bold\">In Progress</span>\n",
              "        └── <span style=\"color: #808000; text-decoration-color: #808000; font-weight: bold\">🔧 </span><span style=\"color: #808000; text-decoration-color: #808000\">Using RAG Tool (6)</span>\n",
              "</pre>\n"
            ],
            "text/plain": [
              "\u001b[1;36m🚀 Crew: \u001b[0m\u001b[1;36mcrew\u001b[0m\n",
              "└── \u001b[1;33m📋 Task: 6a16152d-0ce4-4b1e-83d4-5f39fa526b77\u001b[0m\n",
              "    \u001b[37m   Status: \u001b[0m\u001b[2;33mExecuting Task...\u001b[0m\n",
              "    └── \u001b[1;32m🤖 Agent: \u001b[0m\u001b[32mRetriever Agent\u001b[0m\n",
              "        \u001b[37m    Status: \u001b[0m\u001b[1;32mIn Progress\u001b[0m\n",
              "        └── \u001b[1;33m🔧 \u001b[0m\u001b[33mUsing RAG Tool (6)\u001b[0m\n"
            ]
          },
          "metadata": {},
          "output_type": "display_data"
        },
        {
          "data": {
            "text/html": [
              "<pre style=\"white-space:pre;overflow-x:auto;line-height:normal;font-family:Menlo,'DejaVu Sans Mono',consolas,'Courier New',monospace\">\n",
              "</pre>\n"
            ],
            "text/plain": [
              "\n"
            ]
          },
          "metadata": {},
          "output_type": "display_data"
        },
        {
          "data": {
            "text/html": [
              "<pre style=\"white-space:pre;overflow-x:auto;line-height:normal;font-family:Menlo,'DejaVu Sans Mono',consolas,'Courier New',monospace\"><span style=\"color: #008080; text-decoration-color: #008080; font-weight: bold\">🚀 Crew: crew</span>\n",
              "└── <span style=\"color: #808000; text-decoration-color: #808000; font-weight: bold\">📋 Task: 6a16152d-0ce4-4b1e-83d4-5f39fa526b77</span>\n",
              "    <span style=\"color: #c0c0c0; text-decoration-color: #c0c0c0\">   Status: </span><span style=\"color: #bfbf7f; text-decoration-color: #bfbf7f\">Executing Task...</span>\n",
              "    └── <span style=\"color: #008000; text-decoration-color: #008000; font-weight: bold\">🤖 Agent: </span><span style=\"color: #008000; text-decoration-color: #008000\">Retriever Agent</span>\n",
              "        <span style=\"color: #c0c0c0; text-decoration-color: #c0c0c0\">    Status: </span><span style=\"color: #008000; text-decoration-color: #008000; font-weight: bold\">In Progress</span>\n",
              "        └── <span style=\"color: #008000; text-decoration-color: #008000; font-weight: bold\">🔧 </span><span style=\"color: #008000; text-decoration-color: #008000\">Used RAG Tool (6)</span>\n",
              "</pre>\n"
            ],
            "text/plain": [
              "\u001b[1;36m🚀 Crew: \u001b[0m\u001b[1;36mcrew\u001b[0m\n",
              "└── \u001b[1;33m📋 Task: 6a16152d-0ce4-4b1e-83d4-5f39fa526b77\u001b[0m\n",
              "    \u001b[37m   Status: \u001b[0m\u001b[2;33mExecuting Task...\u001b[0m\n",
              "    └── \u001b[1;32m🤖 Agent: \u001b[0m\u001b[32mRetriever Agent\u001b[0m\n",
              "        \u001b[37m    Status: \u001b[0m\u001b[1;32mIn Progress\u001b[0m\n",
              "        └── \u001b[1;32m🔧 \u001b[0m\u001b[32mUsed RAG Tool (6)\u001b[0m\n"
            ]
          },
          "metadata": {},
          "output_type": "display_data"
        },
        {
          "data": {
            "text/html": [
              "<pre style=\"white-space:pre;overflow-x:auto;line-height:normal;font-family:Menlo,'DejaVu Sans Mono',consolas,'Courier New',monospace\">\n",
              "</pre>\n"
            ],
            "text/plain": [
              "\n"
            ]
          },
          "metadata": {},
          "output_type": "display_data"
        },
        {
          "name": "stdout",
          "output_type": "stream",
          "text": [
            "\n",
            "\n",
            "\u001b[1m\u001b[95m# Agent:\u001b[00m \u001b[1m\u001b[92mRetriever Agent\u001b[00m\n",
            "\u001b[95m## Using tool:\u001b[00m \u001b[92mRAG Tool\u001b[00m\n",
            "\u001b[95m## Tool Input:\u001b[00m \u001b[92m\n",
            "\"{\\\"question\\\": \\\"What is the name of XNNASDMN?\\\"}\"\u001b[00m\n",
            "\u001b[95m## Tool Output:\u001b[00m \u001b[92m\n",
            "The information provided does not specify the name of XNNASDMN. If you have any further details or context regarding XNNASDMN, I would be happy to assist you!\u001b[00m\n"
          ]
        },
        {
          "data": {
            "text/html": [
              "<pre style=\"white-space:pre;overflow-x:auto;line-height:normal;font-family:Menlo,'DejaVu Sans Mono',consolas,'Courier New',monospace\"><span style=\"color: #008080; text-decoration-color: #008080; font-weight: bold\">🚀 Crew: crew</span>\n",
              "└── <span style=\"color: #808000; text-decoration-color: #808000; font-weight: bold\">📋 Task: 6a16152d-0ce4-4b1e-83d4-5f39fa526b77</span>\n",
              "    <span style=\"color: #c0c0c0; text-decoration-color: #c0c0c0\">   Status: </span><span style=\"color: #bfbf7f; text-decoration-color: #bfbf7f\">Executing Task...</span>\n",
              "    └── <span style=\"color: #008000; text-decoration-color: #008000; font-weight: bold\">🤖 Agent: </span><span style=\"color: #008000; text-decoration-color: #008000\">Retriever Agent</span>\n",
              "        <span style=\"color: #c0c0c0; text-decoration-color: #c0c0c0\">    Status: </span><span style=\"color: #008000; text-decoration-color: #008000; font-weight: bold\">In Progress</span>\n",
              "        ├── <span style=\"color: #008000; text-decoration-color: #008000; font-weight: bold\">🔧 </span><span style=\"color: #008000; text-decoration-color: #008000\">Used RAG Tool (6)</span>\n",
              "        └── <span style=\"color: #000080; text-decoration-color: #000080; font-weight: bold\">🧠 </span><span style=\"color: #000080; text-decoration-color: #000080\">Thinking...</span>\n",
              "</pre>\n"
            ],
            "text/plain": [
              "\u001b[1;36m🚀 Crew: \u001b[0m\u001b[1;36mcrew\u001b[0m\n",
              "└── \u001b[1;33m📋 Task: 6a16152d-0ce4-4b1e-83d4-5f39fa526b77\u001b[0m\n",
              "    \u001b[37m   Status: \u001b[0m\u001b[2;33mExecuting Task...\u001b[0m\n",
              "    └── \u001b[1;32m🤖 Agent: \u001b[0m\u001b[32mRetriever Agent\u001b[0m\n",
              "        \u001b[37m    Status: \u001b[0m\u001b[1;32mIn Progress\u001b[0m\n",
              "        ├── \u001b[1;32m🔧 \u001b[0m\u001b[32mUsed RAG Tool (6)\u001b[0m\n",
              "        └── \u001b[1;34m🧠 \u001b[0m\u001b[34mThinking...\u001b[0m\n"
            ]
          },
          "metadata": {},
          "output_type": "display_data"
        },
        {
          "data": {
            "text/html": [
              "<pre style=\"white-space:pre;overflow-x:auto;line-height:normal;font-family:Menlo,'DejaVu Sans Mono',consolas,'Courier New',monospace\">\n",
              "</pre>\n"
            ],
            "text/plain": [
              "\n"
            ]
          },
          "metadata": {},
          "output_type": "display_data"
        },
        {
          "data": {
            "text/html": [
              "<pre style=\"white-space:pre;overflow-x:auto;line-height:normal;font-family:Menlo,'DejaVu Sans Mono',consolas,'Courier New',monospace\"><span style=\"color: #008080; text-decoration-color: #008080; font-weight: bold\">🚀 Crew: crew</span>\n",
              "└── <span style=\"color: #808000; text-decoration-color: #808000; font-weight: bold\">📋 Task: 6a16152d-0ce4-4b1e-83d4-5f39fa526b77</span>\n",
              "    <span style=\"color: #c0c0c0; text-decoration-color: #c0c0c0\">   Status: </span><span style=\"color: #bfbf7f; text-decoration-color: #bfbf7f\">Executing Task...</span>\n",
              "    └── <span style=\"color: #008000; text-decoration-color: #008000; font-weight: bold\">🤖 Agent: </span><span style=\"color: #008000; text-decoration-color: #008000\">Retriever Agent</span>\n",
              "        <span style=\"color: #c0c0c0; text-decoration-color: #c0c0c0\">    Status: </span><span style=\"color: #008000; text-decoration-color: #008000; font-weight: bold\">In Progress</span>\n",
              "        └── <span style=\"color: #008000; text-decoration-color: #008000; font-weight: bold\">🔧 </span><span style=\"color: #008000; text-decoration-color: #008000\">Used RAG Tool (6)</span>\n",
              "</pre>\n"
            ],
            "text/plain": [
              "\u001b[1;36m🚀 Crew: \u001b[0m\u001b[1;36mcrew\u001b[0m\n",
              "└── \u001b[1;33m📋 Task: 6a16152d-0ce4-4b1e-83d4-5f39fa526b77\u001b[0m\n",
              "    \u001b[37m   Status: \u001b[0m\u001b[2;33mExecuting Task...\u001b[0m\n",
              "    └── \u001b[1;32m🤖 Agent: \u001b[0m\u001b[32mRetriever Agent\u001b[0m\n",
              "        \u001b[37m    Status: \u001b[0m\u001b[1;32mIn Progress\u001b[0m\n",
              "        └── \u001b[1;32m🔧 \u001b[0m\u001b[32mUsed RAG Tool (6)\u001b[0m\n"
            ]
          },
          "metadata": {},
          "output_type": "display_data"
        },
        {
          "data": {
            "text/html": [
              "<pre style=\"white-space:pre;overflow-x:auto;line-height:normal;font-family:Menlo,'DejaVu Sans Mono',consolas,'Courier New',monospace\">\n",
              "</pre>\n"
            ],
            "text/plain": [
              "\n"
            ]
          },
          "metadata": {},
          "output_type": "display_data"
        },
        {
          "data": {
            "text/html": [
              "<pre style=\"white-space:pre;overflow-x:auto;line-height:normal;font-family:Menlo,'DejaVu Sans Mono',consolas,'Courier New',monospace\"><span style=\"color: #008080; text-decoration-color: #008080; font-weight: bold\">🚀 Crew: crew</span>\n",
              "└── <span style=\"color: #808000; text-decoration-color: #808000; font-weight: bold\">📋 Task: 6a16152d-0ce4-4b1e-83d4-5f39fa526b77</span>\n",
              "    <span style=\"color: #c0c0c0; text-decoration-color: #c0c0c0\">   Status: </span><span style=\"color: #bfbf7f; text-decoration-color: #bfbf7f\">Executing Task...</span>\n",
              "    └── <span style=\"color: #008000; text-decoration-color: #008000; font-weight: bold\">🤖 Agent: </span><span style=\"color: #008000; text-decoration-color: #008000\">Retriever Agent</span>\n",
              "        <span style=\"color: #c0c0c0; text-decoration-color: #c0c0c0\">    Status: </span><span style=\"color: #008000; text-decoration-color: #008000; font-weight: bold\">In Progress</span>\n",
              "        ├── <span style=\"color: #008000; text-decoration-color: #008000; font-weight: bold\">🔧 </span><span style=\"color: #008000; text-decoration-color: #008000\">Used RAG Tool (6)</span>\n",
              "        └── <span style=\"color: #808000; text-decoration-color: #808000; font-weight: bold\">🔧 </span><span style=\"color: #808000; text-decoration-color: #808000\">Using Web Search Tool (4)</span>\n",
              "</pre>\n"
            ],
            "text/plain": [
              "\u001b[1;36m🚀 Crew: \u001b[0m\u001b[1;36mcrew\u001b[0m\n",
              "└── \u001b[1;33m📋 Task: 6a16152d-0ce4-4b1e-83d4-5f39fa526b77\u001b[0m\n",
              "    \u001b[37m   Status: \u001b[0m\u001b[2;33mExecuting Task...\u001b[0m\n",
              "    └── \u001b[1;32m🤖 Agent: \u001b[0m\u001b[32mRetriever Agent\u001b[0m\n",
              "        \u001b[37m    Status: \u001b[0m\u001b[1;32mIn Progress\u001b[0m\n",
              "        ├── \u001b[1;32m🔧 \u001b[0m\u001b[32mUsed RAG Tool (6)\u001b[0m\n",
              "        └── \u001b[1;33m🔧 \u001b[0m\u001b[33mUsing Web Search Tool (4)\u001b[0m\n"
            ]
          },
          "metadata": {},
          "output_type": "display_data"
        },
        {
          "data": {
            "text/html": [
              "<pre style=\"white-space:pre;overflow-x:auto;line-height:normal;font-family:Menlo,'DejaVu Sans Mono',consolas,'Courier New',monospace\">\n",
              "</pre>\n"
            ],
            "text/plain": [
              "\n"
            ]
          },
          "metadata": {},
          "output_type": "display_data"
        },
        {
          "data": {
            "text/html": [
              "<pre style=\"white-space:pre;overflow-x:auto;line-height:normal;font-family:Menlo,'DejaVu Sans Mono',consolas,'Courier New',monospace\"><span style=\"color: #008080; text-decoration-color: #008080; font-weight: bold\">🚀 Crew: crew</span>\n",
              "└── <span style=\"color: #808000; text-decoration-color: #808000; font-weight: bold\">📋 Task: 6a16152d-0ce4-4b1e-83d4-5f39fa526b77</span>\n",
              "    <span style=\"color: #c0c0c0; text-decoration-color: #c0c0c0\">   Status: </span><span style=\"color: #bfbf7f; text-decoration-color: #bfbf7f\">Executing Task...</span>\n",
              "    └── <span style=\"color: #008000; text-decoration-color: #008000; font-weight: bold\">🤖 Agent: </span><span style=\"color: #008000; text-decoration-color: #008000\">Retriever Agent</span>\n",
              "        <span style=\"color: #c0c0c0; text-decoration-color: #c0c0c0\">    Status: </span><span style=\"color: #008000; text-decoration-color: #008000; font-weight: bold\">In Progress</span>\n",
              "        ├── <span style=\"color: #008000; text-decoration-color: #008000; font-weight: bold\">🔧 </span><span style=\"color: #008000; text-decoration-color: #008000\">Used RAG Tool (6)</span>\n",
              "        └── <span style=\"color: #008000; text-decoration-color: #008000; font-weight: bold\">🔧 </span><span style=\"color: #008000; text-decoration-color: #008000\">Used Web Search Tool (4)</span>\n",
              "</pre>\n"
            ],
            "text/plain": [
              "\u001b[1;36m🚀 Crew: \u001b[0m\u001b[1;36mcrew\u001b[0m\n",
              "└── \u001b[1;33m📋 Task: 6a16152d-0ce4-4b1e-83d4-5f39fa526b77\u001b[0m\n",
              "    \u001b[37m   Status: \u001b[0m\u001b[2;33mExecuting Task...\u001b[0m\n",
              "    └── \u001b[1;32m🤖 Agent: \u001b[0m\u001b[32mRetriever Agent\u001b[0m\n",
              "        \u001b[37m    Status: \u001b[0m\u001b[1;32mIn Progress\u001b[0m\n",
              "        ├── \u001b[1;32m🔧 \u001b[0m\u001b[32mUsed RAG Tool (6)\u001b[0m\n",
              "        └── \u001b[1;32m🔧 \u001b[0m\u001b[32mUsed Web Search Tool (4)\u001b[0m\n"
            ]
          },
          "metadata": {},
          "output_type": "display_data"
        },
        {
          "data": {
            "text/html": [
              "<pre style=\"white-space:pre;overflow-x:auto;line-height:normal;font-family:Menlo,'DejaVu Sans Mono',consolas,'Courier New',monospace\">\n",
              "</pre>\n"
            ],
            "text/plain": [
              "\n"
            ]
          },
          "metadata": {},
          "output_type": "display_data"
        },
        {
          "name": "stdout",
          "output_type": "stream",
          "text": [
            "\n",
            "\n",
            "\u001b[1m\u001b[95m# Agent:\u001b[00m \u001b[1m\u001b[92mRetriever Agent\u001b[00m\n",
            "\u001b[95m## Using tool:\u001b[00m \u001b[92mWeb Search Tool\u001b[00m\n",
            "\u001b[95m## Tool Input:\u001b[00m \u001b[92m\n",
            "\"{\\\"query\\\": \\\"What is the name of XNNASDMN?\\\"}\"\u001b[00m\n",
            "\u001b[95m## Tool Output:\u001b[00m \u001b[92m\n",
            "Web Search Results:\n",
            "Title: Why is Xehanort's nobody named Xemnas? - Kingdom Hearts Insider\n",
            "Link: https://www.khinsider.com/forums/index.php?threads/why-is-xehanorts-nobody-named-xemnas.163509/\n",
            "Snippet: The anagrams of his name, 'no heart' and 'another', are meant to signify his heartless and nobody (Ansem and Xemnas).\n",
            "\n",
            "Title: XNAME - The Omnichain Name Service for Proof of Humanity\n",
            "Link: https://xname.app/\n",
            "Snippet: XStar is a proof of humanity and omnichain naming service, securing digital identities across Layer 1 & Layer 2 using LayerZero & Axelar.\n",
            "\n",
            "Title: XNAME - The Omnichain Name Service for Proof of Humanity\n",
            "Link: https://monad.xname.app/\n",
            "Snippet: XStar is a proof of humanity and omnichain naming service, securing digital identities across Layer 1 & Layer 2 using LayerZero & Axelar.\n",
            "\n",
            "\u001b[00m\n"
          ]
        },
        {
          "data": {
            "text/html": [
              "<pre style=\"white-space:pre;overflow-x:auto;line-height:normal;font-family:Menlo,'DejaVu Sans Mono',consolas,'Courier New',monospace\"><span style=\"color: #008080; text-decoration-color: #008080; font-weight: bold\">🚀 Crew: crew</span>\n",
              "└── <span style=\"color: #808000; text-decoration-color: #808000; font-weight: bold\">📋 Task: 6a16152d-0ce4-4b1e-83d4-5f39fa526b77</span>\n",
              "    <span style=\"color: #c0c0c0; text-decoration-color: #c0c0c0\">   Status: </span><span style=\"color: #bfbf7f; text-decoration-color: #bfbf7f\">Executing Task...</span>\n",
              "    └── <span style=\"color: #008000; text-decoration-color: #008000; font-weight: bold\">🤖 Agent: </span><span style=\"color: #008000; text-decoration-color: #008000\">Retriever Agent</span>\n",
              "        <span style=\"color: #c0c0c0; text-decoration-color: #c0c0c0\">    Status: </span><span style=\"color: #008000; text-decoration-color: #008000; font-weight: bold\">In Progress</span>\n",
              "        ├── <span style=\"color: #008000; text-decoration-color: #008000; font-weight: bold\">🔧 </span><span style=\"color: #008000; text-decoration-color: #008000\">Used RAG Tool (6)</span>\n",
              "        ├── <span style=\"color: #008000; text-decoration-color: #008000; font-weight: bold\">🔧 </span><span style=\"color: #008000; text-decoration-color: #008000\">Used Web Search Tool (4)</span>\n",
              "        └── <span style=\"color: #000080; text-decoration-color: #000080; font-weight: bold\">🧠 </span><span style=\"color: #000080; text-decoration-color: #000080\">Thinking...</span>\n",
              "</pre>\n"
            ],
            "text/plain": [
              "\u001b[1;36m🚀 Crew: \u001b[0m\u001b[1;36mcrew\u001b[0m\n",
              "└── \u001b[1;33m📋 Task: 6a16152d-0ce4-4b1e-83d4-5f39fa526b77\u001b[0m\n",
              "    \u001b[37m   Status: \u001b[0m\u001b[2;33mExecuting Task...\u001b[0m\n",
              "    └── \u001b[1;32m🤖 Agent: \u001b[0m\u001b[32mRetriever Agent\u001b[0m\n",
              "        \u001b[37m    Status: \u001b[0m\u001b[1;32mIn Progress\u001b[0m\n",
              "        ├── \u001b[1;32m🔧 \u001b[0m\u001b[32mUsed RAG Tool (6)\u001b[0m\n",
              "        ├── \u001b[1;32m🔧 \u001b[0m\u001b[32mUsed Web Search Tool (4)\u001b[0m\n",
              "        └── \u001b[1;34m🧠 \u001b[0m\u001b[34mThinking...\u001b[0m\n"
            ]
          },
          "metadata": {},
          "output_type": "display_data"
        },
        {
          "data": {
            "text/html": [
              "<pre style=\"white-space:pre;overflow-x:auto;line-height:normal;font-family:Menlo,'DejaVu Sans Mono',consolas,'Courier New',monospace\">\n",
              "</pre>\n"
            ],
            "text/plain": [
              "\n"
            ]
          },
          "metadata": {},
          "output_type": "display_data"
        },
        {
          "data": {
            "text/html": [
              "<pre style=\"white-space:pre;overflow-x:auto;line-height:normal;font-family:Menlo,'DejaVu Sans Mono',consolas,'Courier New',monospace\"><span style=\"color: #008080; text-decoration-color: #008080; font-weight: bold\">🚀 Crew: crew</span>\n",
              "└── <span style=\"color: #808000; text-decoration-color: #808000; font-weight: bold\">📋 Task: 6a16152d-0ce4-4b1e-83d4-5f39fa526b77</span>\n",
              "    <span style=\"color: #c0c0c0; text-decoration-color: #c0c0c0\">   Status: </span><span style=\"color: #bfbf7f; text-decoration-color: #bfbf7f\">Executing Task...</span>\n",
              "    └── <span style=\"color: #008000; text-decoration-color: #008000; font-weight: bold\">🤖 Agent: </span><span style=\"color: #008000; text-decoration-color: #008000\">Retriever Agent</span>\n",
              "        <span style=\"color: #c0c0c0; text-decoration-color: #c0c0c0\">    Status: </span><span style=\"color: #008000; text-decoration-color: #008000; font-weight: bold\">In Progress</span>\n",
              "        ├── <span style=\"color: #008000; text-decoration-color: #008000; font-weight: bold\">🔧 </span><span style=\"color: #008000; text-decoration-color: #008000\">Used RAG Tool (6)</span>\n",
              "        └── <span style=\"color: #008000; text-decoration-color: #008000; font-weight: bold\">🔧 </span><span style=\"color: #008000; text-decoration-color: #008000\">Used Web Search Tool (4)</span>\n",
              "</pre>\n"
            ],
            "text/plain": [
              "\u001b[1;36m🚀 Crew: \u001b[0m\u001b[1;36mcrew\u001b[0m\n",
              "└── \u001b[1;33m📋 Task: 6a16152d-0ce4-4b1e-83d4-5f39fa526b77\u001b[0m\n",
              "    \u001b[37m   Status: \u001b[0m\u001b[2;33mExecuting Task...\u001b[0m\n",
              "    └── \u001b[1;32m🤖 Agent: \u001b[0m\u001b[32mRetriever Agent\u001b[0m\n",
              "        \u001b[37m    Status: \u001b[0m\u001b[1;32mIn Progress\u001b[0m\n",
              "        ├── \u001b[1;32m🔧 \u001b[0m\u001b[32mUsed RAG Tool (6)\u001b[0m\n",
              "        └── \u001b[1;32m🔧 \u001b[0m\u001b[32mUsed Web Search Tool (4)\u001b[0m\n"
            ]
          },
          "metadata": {},
          "output_type": "display_data"
        },
        {
          "data": {
            "text/html": [
              "<pre style=\"white-space:pre;overflow-x:auto;line-height:normal;font-family:Menlo,'DejaVu Sans Mono',consolas,'Courier New',monospace\">\n",
              "</pre>\n"
            ],
            "text/plain": [
              "\n"
            ]
          },
          "metadata": {},
          "output_type": "display_data"
        },
        {
          "data": {
            "text/html": [
              "<pre style=\"white-space:pre;overflow-x:auto;line-height:normal;font-family:Menlo,'DejaVu Sans Mono',consolas,'Courier New',monospace\"><span style=\"color: #008080; text-decoration-color: #008080; font-weight: bold\">🚀 Crew: crew</span>\n",
              "└── <span style=\"color: #808000; text-decoration-color: #808000; font-weight: bold\">📋 Task: 6a16152d-0ce4-4b1e-83d4-5f39fa526b77</span>\n",
              "    <span style=\"color: #c0c0c0; text-decoration-color: #c0c0c0\">   Status: </span><span style=\"color: #bfbf7f; text-decoration-color: #bfbf7f\">Executing Task...</span>\n",
              "    └── <span style=\"color: #008000; text-decoration-color: #008000; font-weight: bold\">🤖 Agent: </span><span style=\"color: #008000; text-decoration-color: #008000\">Retriever Agent</span>\n",
              "        <span style=\"color: #c0c0c0; text-decoration-color: #c0c0c0\">    Status: </span><span style=\"color: #008000; text-decoration-color: #008000; font-weight: bold\">In Progress</span>\n",
              "        ├── <span style=\"color: #008000; text-decoration-color: #008000; font-weight: bold\">🔧 </span><span style=\"color: #008000; text-decoration-color: #008000\">Used RAG Tool (6)</span>\n",
              "        └── <span style=\"color: #808000; text-decoration-color: #808000; font-weight: bold\">🔧 </span><span style=\"color: #808000; text-decoration-color: #808000\">Using Web Search Tool (5)</span>\n",
              "</pre>\n"
            ],
            "text/plain": [
              "\u001b[1;36m🚀 Crew: \u001b[0m\u001b[1;36mcrew\u001b[0m\n",
              "└── \u001b[1;33m📋 Task: 6a16152d-0ce4-4b1e-83d4-5f39fa526b77\u001b[0m\n",
              "    \u001b[37m   Status: \u001b[0m\u001b[2;33mExecuting Task...\u001b[0m\n",
              "    └── \u001b[1;32m🤖 Agent: \u001b[0m\u001b[32mRetriever Agent\u001b[0m\n",
              "        \u001b[37m    Status: \u001b[0m\u001b[1;32mIn Progress\u001b[0m\n",
              "        ├── \u001b[1;32m🔧 \u001b[0m\u001b[32mUsed RAG Tool (6)\u001b[0m\n",
              "        └── \u001b[1;33m🔧 \u001b[0m\u001b[33mUsing Web Search Tool (5)\u001b[0m\n"
            ]
          },
          "metadata": {},
          "output_type": "display_data"
        },
        {
          "data": {
            "text/html": [
              "<pre style=\"white-space:pre;overflow-x:auto;line-height:normal;font-family:Menlo,'DejaVu Sans Mono',consolas,'Courier New',monospace\">\n",
              "</pre>\n"
            ],
            "text/plain": [
              "\n"
            ]
          },
          "metadata": {},
          "output_type": "display_data"
        },
        {
          "data": {
            "text/html": [
              "<pre style=\"white-space:pre;overflow-x:auto;line-height:normal;font-family:Menlo,'DejaVu Sans Mono',consolas,'Courier New',monospace\"><span style=\"color: #008080; text-decoration-color: #008080; font-weight: bold\">🚀 Crew: crew</span>\n",
              "└── <span style=\"color: #808000; text-decoration-color: #808000; font-weight: bold\">📋 Task: 6a16152d-0ce4-4b1e-83d4-5f39fa526b77</span>\n",
              "    <span style=\"color: #c0c0c0; text-decoration-color: #c0c0c0\">   Status: </span><span style=\"color: #bfbf7f; text-decoration-color: #bfbf7f\">Executing Task...</span>\n",
              "    └── <span style=\"color: #008000; text-decoration-color: #008000; font-weight: bold\">🤖 Agent: </span><span style=\"color: #008000; text-decoration-color: #008000\">Retriever Agent</span>\n",
              "        <span style=\"color: #c0c0c0; text-decoration-color: #c0c0c0\">    Status: </span><span style=\"color: #008000; text-decoration-color: #008000; font-weight: bold\">In Progress</span>\n",
              "        ├── <span style=\"color: #008000; text-decoration-color: #008000; font-weight: bold\">🔧 </span><span style=\"color: #008000; text-decoration-color: #008000\">Used RAG Tool (6)</span>\n",
              "        └── <span style=\"color: #008000; text-decoration-color: #008000; font-weight: bold\">🔧 </span><span style=\"color: #008000; text-decoration-color: #008000\">Used Web Search Tool (5)</span>\n",
              "</pre>\n"
            ],
            "text/plain": [
              "\u001b[1;36m🚀 Crew: \u001b[0m\u001b[1;36mcrew\u001b[0m\n",
              "└── \u001b[1;33m📋 Task: 6a16152d-0ce4-4b1e-83d4-5f39fa526b77\u001b[0m\n",
              "    \u001b[37m   Status: \u001b[0m\u001b[2;33mExecuting Task...\u001b[0m\n",
              "    └── \u001b[1;32m🤖 Agent: \u001b[0m\u001b[32mRetriever Agent\u001b[0m\n",
              "        \u001b[37m    Status: \u001b[0m\u001b[1;32mIn Progress\u001b[0m\n",
              "        ├── \u001b[1;32m🔧 \u001b[0m\u001b[32mUsed RAG Tool (6)\u001b[0m\n",
              "        └── \u001b[1;32m🔧 \u001b[0m\u001b[32mUsed Web Search Tool (5)\u001b[0m\n"
            ]
          },
          "metadata": {},
          "output_type": "display_data"
        },
        {
          "data": {
            "text/html": [
              "<pre style=\"white-space:pre;overflow-x:auto;line-height:normal;font-family:Menlo,'DejaVu Sans Mono',consolas,'Courier New',monospace\">\n",
              "</pre>\n"
            ],
            "text/plain": [
              "\n"
            ]
          },
          "metadata": {},
          "output_type": "display_data"
        },
        {
          "name": "stdout",
          "output_type": "stream",
          "text": [
            "\n",
            "\n",
            "\u001b[1m\u001b[95m# Agent:\u001b[00m \u001b[1m\u001b[92mRetriever Agent\u001b[00m\n",
            "\u001b[95m## Using tool:\u001b[00m \u001b[92mWeb Search Tool\u001b[00m\n",
            "\u001b[95m## Tool Input:\u001b[00m \u001b[92m\n",
            "\"{\\\"query\\\": \\\"XNNASDMN\\\"}\"\u001b[00m\n",
            "\u001b[95m## Tool Output:\u001b[00m \u001b[92m\n",
            "Web Search Results:\n",
            "Title: Nuveen Dynamic Municipal Opportunities Fund (XNDMX)\n",
            "Link: https://finance.yahoo.com/quote/XNDMX/\n",
            "Snippet: Find the latest Nuveen Dynamic Municipal Opportunities Fund (XNDMX) stock quote, history, news and other vital information to help you with your stock ...\n",
            "\n",
            "Title: Overview for XND - Nasdaq Global Indexes\n",
            "Link: https://indexes.nasdaqomx.com/Index/Overview/xnd\n",
            "Snippet: The Nasdaq-100 Micro Index (XND) is designed to reflect 1/100th the value of the Nasdaq-100 Index (NDX). The Index began on January 21, 2021. Summary Details ...\n",
            "\n",
            "Title: XNDMX Quote - Nuveen Dynamic Municipal Opportunities Fund\n",
            "Link: https://www.bloomberg.com/quote/XNDMX:US\n",
            "Snippet: Nuveen Dynamic Municipal Opportunities Fund is a diversified, closed-end management investment company. The Fund seeks total return through income exempt from ...\n",
            "\n",
            "Title: XNDMX: Dividend Date & History for Nuveen Dynamic Municipal ...\n",
            "Link: https://www.dividend.com/funds/xndmx-nuveen-dynamic-municipal-opportunities-fund-of-beneficial-interest/\n",
            "Snippet: XNDMX's dividend yield, history, payout ratio & much more! Dividend.com: The #1 Source For Dividend Investing.\n",
            "\n",
            "Title: XNNYX Quote - Nuveen New York Municipal Value Fund - Bloomberg\n",
            "Link: https://www.bloomberg.com/quote/XNNYX:US\n",
            "Snippet: The Fund seeks current income exempt from both regular federal and New York state income taxes. The Fund invests in a diversified portfolio of municipal ...\n",
            "\n",
            "Title: XNND (now Wombatmail) is still here for all your DNS needs\n",
            "Link: https://www.spamresource.com/2023/07/xnnd-is-still-here-for-all-your-dns.html\n",
            "Snippet: A simple set of tools to help you troubleshoot DNS issues. You can do things like look up DMARC settings for a domain, try to find the DKIM selector(s) and ...\n",
            "\n",
            "Title: XNMS:QQQS ETF Stock Price | Invesco NASDAQ Future Gen 200 ETF\n",
            "Link: https://www.etfcentral.com/fund/XNMS:QQQS\n",
            "Snippet: The Invesco NASDAQ Future Gen 200 ETF is built to track the Nasdaq Innovators Completion Cap Index - USD. This ETF provides physical exposure - by owning ...\n",
            "\n",
            "Title: https://www.xnnd.com/\n",
            "Link: https://www.xnnd.com/\n",
            "Snippet: No information is available for this page. · Learn why\n",
            "\n",
            "\n",
            "\n",
            "\n",
            "You ONLY have access to the following tools, and should NEVER make up tools that are not listed here:\n",
            "\n",
            "Tool Name: RAG Tool\n",
            "Tool Arguments: {'question': {'description': None, 'type': 'str'}}\n",
            "Tool Description: Tool to search for relevant information from a vector database.\n",
            "Tool Name: Web Search Tool\n",
            "Tool Arguments: {'query': {'description': None, 'type': 'str'}}\n",
            "Tool Description: Tool to search the web for relevant information.\n",
            "\n",
            "IMPORTANT: Use the following format in your response:\n",
            "\n",
            "```\n",
            "Thought: you should always think about what to do\n",
            "Action: the action to take, only one name of [RAG Tool, Web Search Tool], just the name, exactly as it's written.\n",
            "Action Input: the input to the action, just a simple JSON object, enclosed in curly braces, using \" to wrap keys and values.\n",
            "Observation: the result of the action\n",
            "```\n",
            "\n",
            "Once all necessary information is gathered, return the following format:\n",
            "\n",
            "```\n",
            "Thought: I now know the final answer\n",
            "Final Answer: the final answer to the original input question\n",
            "```\u001b[00m\n"
          ]
        },
        {
          "data": {
            "text/html": [
              "<pre style=\"white-space:pre;overflow-x:auto;line-height:normal;font-family:Menlo,'DejaVu Sans Mono',consolas,'Courier New',monospace\"><span style=\"color: #008080; text-decoration-color: #008080; font-weight: bold\">🚀 Crew: crew</span>\n",
              "└── <span style=\"color: #808000; text-decoration-color: #808000; font-weight: bold\">📋 Task: 6a16152d-0ce4-4b1e-83d4-5f39fa526b77</span>\n",
              "    <span style=\"color: #c0c0c0; text-decoration-color: #c0c0c0\">   Status: </span><span style=\"color: #bfbf7f; text-decoration-color: #bfbf7f\">Executing Task...</span>\n",
              "    └── <span style=\"color: #008000; text-decoration-color: #008000; font-weight: bold\">🤖 Agent: </span><span style=\"color: #008000; text-decoration-color: #008000\">Retriever Agent</span>\n",
              "        <span style=\"color: #c0c0c0; text-decoration-color: #c0c0c0\">    Status: </span><span style=\"color: #008000; text-decoration-color: #008000; font-weight: bold\">In Progress</span>\n",
              "        ├── <span style=\"color: #008000; text-decoration-color: #008000; font-weight: bold\">🔧 </span><span style=\"color: #008000; text-decoration-color: #008000\">Used RAG Tool (6)</span>\n",
              "        ├── <span style=\"color: #008000; text-decoration-color: #008000; font-weight: bold\">🔧 </span><span style=\"color: #008000; text-decoration-color: #008000\">Used Web Search Tool (5)</span>\n",
              "        └── <span style=\"color: #000080; text-decoration-color: #000080; font-weight: bold\">🧠 </span><span style=\"color: #000080; text-decoration-color: #000080\">Thinking...</span>\n",
              "</pre>\n"
            ],
            "text/plain": [
              "\u001b[1;36m🚀 Crew: \u001b[0m\u001b[1;36mcrew\u001b[0m\n",
              "└── \u001b[1;33m📋 Task: 6a16152d-0ce4-4b1e-83d4-5f39fa526b77\u001b[0m\n",
              "    \u001b[37m   Status: \u001b[0m\u001b[2;33mExecuting Task...\u001b[0m\n",
              "    └── \u001b[1;32m🤖 Agent: \u001b[0m\u001b[32mRetriever Agent\u001b[0m\n",
              "        \u001b[37m    Status: \u001b[0m\u001b[1;32mIn Progress\u001b[0m\n",
              "        ├── \u001b[1;32m🔧 \u001b[0m\u001b[32mUsed RAG Tool (6)\u001b[0m\n",
              "        ├── \u001b[1;32m🔧 \u001b[0m\u001b[32mUsed Web Search Tool (5)\u001b[0m\n",
              "        └── \u001b[1;34m🧠 \u001b[0m\u001b[34mThinking...\u001b[0m\n"
            ]
          },
          "metadata": {},
          "output_type": "display_data"
        },
        {
          "data": {
            "text/html": [
              "<pre style=\"white-space:pre;overflow-x:auto;line-height:normal;font-family:Menlo,'DejaVu Sans Mono',consolas,'Courier New',monospace\">\n",
              "</pre>\n"
            ],
            "text/plain": [
              "\n"
            ]
          },
          "metadata": {},
          "output_type": "display_data"
        },
        {
          "data": {
            "text/html": [
              "<pre style=\"white-space:pre;overflow-x:auto;line-height:normal;font-family:Menlo,'DejaVu Sans Mono',consolas,'Courier New',monospace\"><span style=\"color: #008080; text-decoration-color: #008080; font-weight: bold\">🚀 Crew: crew</span>\n",
              "└── <span style=\"color: #808000; text-decoration-color: #808000; font-weight: bold\">📋 Task: 6a16152d-0ce4-4b1e-83d4-5f39fa526b77</span>\n",
              "    <span style=\"color: #c0c0c0; text-decoration-color: #c0c0c0\">   Status: </span><span style=\"color: #bfbf7f; text-decoration-color: #bfbf7f\">Executing Task...</span>\n",
              "    └── <span style=\"color: #008000; text-decoration-color: #008000; font-weight: bold\">🤖 Agent: </span><span style=\"color: #008000; text-decoration-color: #008000\">Retriever Agent</span>\n",
              "        <span style=\"color: #c0c0c0; text-decoration-color: #c0c0c0\">    Status: </span><span style=\"color: #008000; text-decoration-color: #008000; font-weight: bold\">In Progress</span>\n",
              "        ├── <span style=\"color: #008000; text-decoration-color: #008000; font-weight: bold\">🔧 </span><span style=\"color: #008000; text-decoration-color: #008000\">Used RAG Tool (6)</span>\n",
              "        └── <span style=\"color: #008000; text-decoration-color: #008000; font-weight: bold\">🔧 </span><span style=\"color: #008000; text-decoration-color: #008000\">Used Web Search Tool (5)</span>\n",
              "</pre>\n"
            ],
            "text/plain": [
              "\u001b[1;36m🚀 Crew: \u001b[0m\u001b[1;36mcrew\u001b[0m\n",
              "└── \u001b[1;33m📋 Task: 6a16152d-0ce4-4b1e-83d4-5f39fa526b77\u001b[0m\n",
              "    \u001b[37m   Status: \u001b[0m\u001b[2;33mExecuting Task...\u001b[0m\n",
              "    └── \u001b[1;32m🤖 Agent: \u001b[0m\u001b[32mRetriever Agent\u001b[0m\n",
              "        \u001b[37m    Status: \u001b[0m\u001b[1;32mIn Progress\u001b[0m\n",
              "        ├── \u001b[1;32m🔧 \u001b[0m\u001b[32mUsed RAG Tool (6)\u001b[0m\n",
              "        └── \u001b[1;32m🔧 \u001b[0m\u001b[32mUsed Web Search Tool (5)\u001b[0m\n"
            ]
          },
          "metadata": {},
          "output_type": "display_data"
        },
        {
          "data": {
            "text/html": [
              "<pre style=\"white-space:pre;overflow-x:auto;line-height:normal;font-family:Menlo,'DejaVu Sans Mono',consolas,'Courier New',monospace\">\n",
              "</pre>\n"
            ],
            "text/plain": [
              "\n"
            ]
          },
          "metadata": {},
          "output_type": "display_data"
        },
        {
          "data": {
            "text/html": [
              "<pre style=\"white-space:pre;overflow-x:auto;line-height:normal;font-family:Menlo,'DejaVu Sans Mono',consolas,'Courier New',monospace\"><span style=\"color: #008080; text-decoration-color: #008080; font-weight: bold\">🚀 Crew: crew</span>\n",
              "└── <span style=\"color: #808000; text-decoration-color: #808000; font-weight: bold\">📋 Task: 6a16152d-0ce4-4b1e-83d4-5f39fa526b77</span>\n",
              "    <span style=\"color: #c0c0c0; text-decoration-color: #c0c0c0\">   Status: </span><span style=\"color: #bfbf7f; text-decoration-color: #bfbf7f\">Executing Task...</span>\n",
              "    └── <span style=\"color: #008000; text-decoration-color: #008000; font-weight: bold\">🤖 Agent: </span><span style=\"color: #008000; text-decoration-color: #008000\">Retriever Agent</span>\n",
              "        <span style=\"color: #c0c0c0; text-decoration-color: #c0c0c0\">    Status: </span><span style=\"color: #008000; text-decoration-color: #008000; font-weight: bold\">In Progress</span>\n",
              "        ├── <span style=\"color: #808000; text-decoration-color: #808000; font-weight: bold\">🔧 </span><span style=\"color: #808000; text-decoration-color: #808000\">Using RAG Tool (7)</span>\n",
              "        └── <span style=\"color: #008000; text-decoration-color: #008000; font-weight: bold\">🔧 </span><span style=\"color: #008000; text-decoration-color: #008000\">Used Web Search Tool (5)</span>\n",
              "</pre>\n"
            ],
            "text/plain": [
              "\u001b[1;36m🚀 Crew: \u001b[0m\u001b[1;36mcrew\u001b[0m\n",
              "└── \u001b[1;33m📋 Task: 6a16152d-0ce4-4b1e-83d4-5f39fa526b77\u001b[0m\n",
              "    \u001b[37m   Status: \u001b[0m\u001b[2;33mExecuting Task...\u001b[0m\n",
              "    └── \u001b[1;32m🤖 Agent: \u001b[0m\u001b[32mRetriever Agent\u001b[0m\n",
              "        \u001b[37m    Status: \u001b[0m\u001b[1;32mIn Progress\u001b[0m\n",
              "        ├── \u001b[1;33m🔧 \u001b[0m\u001b[33mUsing RAG Tool (7)\u001b[0m\n",
              "        └── \u001b[1;32m🔧 \u001b[0m\u001b[32mUsed Web Search Tool (5)\u001b[0m\n"
            ]
          },
          "metadata": {},
          "output_type": "display_data"
        },
        {
          "data": {
            "text/html": [
              "<pre style=\"white-space:pre;overflow-x:auto;line-height:normal;font-family:Menlo,'DejaVu Sans Mono',consolas,'Courier New',monospace\">\n",
              "</pre>\n"
            ],
            "text/plain": [
              "\n"
            ]
          },
          "metadata": {},
          "output_type": "display_data"
        },
        {
          "data": {
            "text/html": [
              "<pre style=\"white-space:pre;overflow-x:auto;line-height:normal;font-family:Menlo,'DejaVu Sans Mono',consolas,'Courier New',monospace\"><span style=\"color: #008080; text-decoration-color: #008080; font-weight: bold\">🚀 Crew: crew</span>\n",
              "└── <span style=\"color: #808000; text-decoration-color: #808000; font-weight: bold\">📋 Task: 6a16152d-0ce4-4b1e-83d4-5f39fa526b77</span>\n",
              "    <span style=\"color: #c0c0c0; text-decoration-color: #c0c0c0\">   Status: </span><span style=\"color: #bfbf7f; text-decoration-color: #bfbf7f\">Executing Task...</span>\n",
              "    └── <span style=\"color: #008000; text-decoration-color: #008000; font-weight: bold\">🤖 Agent: </span><span style=\"color: #008000; text-decoration-color: #008000\">Retriever Agent</span>\n",
              "        <span style=\"color: #c0c0c0; text-decoration-color: #c0c0c0\">    Status: </span><span style=\"color: #008000; text-decoration-color: #008000; font-weight: bold\">In Progress</span>\n",
              "        ├── <span style=\"color: #008000; text-decoration-color: #008000; font-weight: bold\">🔧 </span><span style=\"color: #008000; text-decoration-color: #008000\">Used RAG Tool (7)</span>\n",
              "        └── <span style=\"color: #008000; text-decoration-color: #008000; font-weight: bold\">🔧 </span><span style=\"color: #008000; text-decoration-color: #008000\">Used Web Search Tool (5)</span>\n",
              "</pre>\n"
            ],
            "text/plain": [
              "\u001b[1;36m🚀 Crew: \u001b[0m\u001b[1;36mcrew\u001b[0m\n",
              "└── \u001b[1;33m📋 Task: 6a16152d-0ce4-4b1e-83d4-5f39fa526b77\u001b[0m\n",
              "    \u001b[37m   Status: \u001b[0m\u001b[2;33mExecuting Task...\u001b[0m\n",
              "    └── \u001b[1;32m🤖 Agent: \u001b[0m\u001b[32mRetriever Agent\u001b[0m\n",
              "        \u001b[37m    Status: \u001b[0m\u001b[1;32mIn Progress\u001b[0m\n",
              "        ├── \u001b[1;32m🔧 \u001b[0m\u001b[32mUsed RAG Tool (7)\u001b[0m\n",
              "        └── \u001b[1;32m🔧 \u001b[0m\u001b[32mUsed Web Search Tool (5)\u001b[0m\n"
            ]
          },
          "metadata": {},
          "output_type": "display_data"
        },
        {
          "data": {
            "text/html": [
              "<pre style=\"white-space:pre;overflow-x:auto;line-height:normal;font-family:Menlo,'DejaVu Sans Mono',consolas,'Courier New',monospace\">\n",
              "</pre>\n"
            ],
            "text/plain": [
              "\n"
            ]
          },
          "metadata": {},
          "output_type": "display_data"
        },
        {
          "name": "stdout",
          "output_type": "stream",
          "text": [
            "\n",
            "\n",
            "\u001b[1m\u001b[95m# Agent:\u001b[00m \u001b[1m\u001b[92mRetriever Agent\u001b[00m\n",
            "\u001b[95m## Using tool:\u001b[00m \u001b[92mRAG Tool\u001b[00m\n",
            "\u001b[95m## Tool Input:\u001b[00m \u001b[92m\n",
            "\"{\\\"question\\\": \\\"XNNASDMN details or relevance\\\"}\"\u001b[00m\n",
            "\u001b[95m## Tool Output:\u001b[00m \u001b[92m\n",
            "It seems that \"XNNASDMN\" is not mentioned in the context provided. Therefore, I cannot specify its details or relevance based on the available information about Quantum Horizons and its activities regarding space exploration and lunar research. If you can provide more context or clarify what \"XNNASDMN\" refers to, I would be happy to assist you further!\u001b[00m\n"
          ]
        },
        {
          "data": {
            "text/html": [
              "<pre style=\"white-space:pre;overflow-x:auto;line-height:normal;font-family:Menlo,'DejaVu Sans Mono',consolas,'Courier New',monospace\"><span style=\"color: #008080; text-decoration-color: #008080; font-weight: bold\">🚀 Crew: crew</span>\n",
              "└── <span style=\"color: #808000; text-decoration-color: #808000; font-weight: bold\">📋 Task: 6a16152d-0ce4-4b1e-83d4-5f39fa526b77</span>\n",
              "    <span style=\"color: #c0c0c0; text-decoration-color: #c0c0c0\">   Status: </span><span style=\"color: #bfbf7f; text-decoration-color: #bfbf7f\">Executing Task...</span>\n",
              "    └── <span style=\"color: #008000; text-decoration-color: #008000; font-weight: bold\">🤖 Agent: </span><span style=\"color: #008000; text-decoration-color: #008000\">Retriever Agent</span>\n",
              "        <span style=\"color: #c0c0c0; text-decoration-color: #c0c0c0\">    Status: </span><span style=\"color: #008000; text-decoration-color: #008000; font-weight: bold\">In Progress</span>\n",
              "        ├── <span style=\"color: #008000; text-decoration-color: #008000; font-weight: bold\">🔧 </span><span style=\"color: #008000; text-decoration-color: #008000\">Used RAG Tool (7)</span>\n",
              "        ├── <span style=\"color: #008000; text-decoration-color: #008000; font-weight: bold\">🔧 </span><span style=\"color: #008000; text-decoration-color: #008000\">Used Web Search Tool (5)</span>\n",
              "        └── <span style=\"color: #000080; text-decoration-color: #000080; font-weight: bold\">🧠 </span><span style=\"color: #000080; text-decoration-color: #000080\">Thinking...</span>\n",
              "</pre>\n"
            ],
            "text/plain": [
              "\u001b[1;36m🚀 Crew: \u001b[0m\u001b[1;36mcrew\u001b[0m\n",
              "└── \u001b[1;33m📋 Task: 6a16152d-0ce4-4b1e-83d4-5f39fa526b77\u001b[0m\n",
              "    \u001b[37m   Status: \u001b[0m\u001b[2;33mExecuting Task...\u001b[0m\n",
              "    └── \u001b[1;32m🤖 Agent: \u001b[0m\u001b[32mRetriever Agent\u001b[0m\n",
              "        \u001b[37m    Status: \u001b[0m\u001b[1;32mIn Progress\u001b[0m\n",
              "        ├── \u001b[1;32m🔧 \u001b[0m\u001b[32mUsed RAG Tool (7)\u001b[0m\n",
              "        ├── \u001b[1;32m🔧 \u001b[0m\u001b[32mUsed Web Search Tool (5)\u001b[0m\n",
              "        └── \u001b[1;34m🧠 \u001b[0m\u001b[34mThinking...\u001b[0m\n"
            ]
          },
          "metadata": {},
          "output_type": "display_data"
        },
        {
          "data": {
            "text/html": [
              "<pre style=\"white-space:pre;overflow-x:auto;line-height:normal;font-family:Menlo,'DejaVu Sans Mono',consolas,'Courier New',monospace\">\n",
              "</pre>\n"
            ],
            "text/plain": [
              "\n"
            ]
          },
          "metadata": {},
          "output_type": "display_data"
        },
        {
          "data": {
            "text/html": [
              "<pre style=\"white-space:pre;overflow-x:auto;line-height:normal;font-family:Menlo,'DejaVu Sans Mono',consolas,'Courier New',monospace\"><span style=\"color: #008080; text-decoration-color: #008080; font-weight: bold\">🚀 Crew: crew</span>\n",
              "└── <span style=\"color: #808000; text-decoration-color: #808000; font-weight: bold\">📋 Task: 6a16152d-0ce4-4b1e-83d4-5f39fa526b77</span>\n",
              "    <span style=\"color: #c0c0c0; text-decoration-color: #c0c0c0\">   Status: </span><span style=\"color: #bfbf7f; text-decoration-color: #bfbf7f\">Executing Task...</span>\n",
              "    └── <span style=\"color: #008000; text-decoration-color: #008000; font-weight: bold\">🤖 Agent: </span><span style=\"color: #008000; text-decoration-color: #008000\">Retriever Agent</span>\n",
              "        <span style=\"color: #c0c0c0; text-decoration-color: #c0c0c0\">    Status: </span><span style=\"color: #008000; text-decoration-color: #008000; font-weight: bold\">In Progress</span>\n",
              "        ├── <span style=\"color: #008000; text-decoration-color: #008000; font-weight: bold\">🔧 </span><span style=\"color: #008000; text-decoration-color: #008000\">Used RAG Tool (7)</span>\n",
              "        └── <span style=\"color: #008000; text-decoration-color: #008000; font-weight: bold\">🔧 </span><span style=\"color: #008000; text-decoration-color: #008000\">Used Web Search Tool (5)</span>\n",
              "</pre>\n"
            ],
            "text/plain": [
              "\u001b[1;36m🚀 Crew: \u001b[0m\u001b[1;36mcrew\u001b[0m\n",
              "└── \u001b[1;33m📋 Task: 6a16152d-0ce4-4b1e-83d4-5f39fa526b77\u001b[0m\n",
              "    \u001b[37m   Status: \u001b[0m\u001b[2;33mExecuting Task...\u001b[0m\n",
              "    └── \u001b[1;32m🤖 Agent: \u001b[0m\u001b[32mRetriever Agent\u001b[0m\n",
              "        \u001b[37m    Status: \u001b[0m\u001b[1;32mIn Progress\u001b[0m\n",
              "        ├── \u001b[1;32m🔧 \u001b[0m\u001b[32mUsed RAG Tool (7)\u001b[0m\n",
              "        └── \u001b[1;32m🔧 \u001b[0m\u001b[32mUsed Web Search Tool (5)\u001b[0m\n"
            ]
          },
          "metadata": {},
          "output_type": "display_data"
        },
        {
          "data": {
            "text/html": [
              "<pre style=\"white-space:pre;overflow-x:auto;line-height:normal;font-family:Menlo,'DejaVu Sans Mono',consolas,'Courier New',monospace\">\n",
              "</pre>\n"
            ],
            "text/plain": [
              "\n"
            ]
          },
          "metadata": {},
          "output_type": "display_data"
        },
        {
          "name": "stdout",
          "output_type": "stream",
          "text": [
            "\n",
            "\n",
            "\u001b[1m\u001b[95m# Agent:\u001b[00m \u001b[1m\u001b[92mRetriever Agent\u001b[00m\n",
            "\u001b[95m## Final Answer:\u001b[00m \u001b[92m\n",
            "There is no relevant information available about \"XNNASDMN\" based on the searches conducted. If there is a specific context or additional details you can provide, I would be happy to assist you further.\u001b[00m\n",
            "\n",
            "\n"
          ]
        },
        {
          "data": {
            "text/html": [
              "<pre style=\"white-space:pre;overflow-x:auto;line-height:normal;font-family:Menlo,'DejaVu Sans Mono',consolas,'Courier New',monospace\"><span style=\"color: #008080; text-decoration-color: #008080; font-weight: bold\">🚀 Crew: crew</span>\n",
              "└── <span style=\"color: #808000; text-decoration-color: #808000; font-weight: bold\">📋 Task: 6a16152d-0ce4-4b1e-83d4-5f39fa526b77</span>\n",
              "    <span style=\"color: #c0c0c0; text-decoration-color: #c0c0c0\">   Status: </span><span style=\"color: #bfbf7f; text-decoration-color: #bfbf7f\">Executing Task...</span>\n",
              "    └── <span style=\"color: #008000; text-decoration-color: #008000; font-weight: bold\">🤖 Agent: </span><span style=\"color: #008000; text-decoration-color: #008000\">Retriever Agent</span>\n",
              "        <span style=\"color: #c0c0c0; text-decoration-color: #c0c0c0\">    Status: </span><span style=\"color: #008000; text-decoration-color: #008000; font-weight: bold\">✅ Completed</span>\n",
              "        ├── <span style=\"color: #008000; text-decoration-color: #008000; font-weight: bold\">🔧 </span><span style=\"color: #008000; text-decoration-color: #008000\">Used RAG Tool (7)</span>\n",
              "        └── <span style=\"color: #008000; text-decoration-color: #008000; font-weight: bold\">🔧 </span><span style=\"color: #008000; text-decoration-color: #008000\">Used Web Search Tool (5)</span>\n",
              "</pre>\n"
            ],
            "text/plain": [
              "\u001b[1;36m🚀 Crew: \u001b[0m\u001b[1;36mcrew\u001b[0m\n",
              "└── \u001b[1;33m📋 Task: 6a16152d-0ce4-4b1e-83d4-5f39fa526b77\u001b[0m\n",
              "    \u001b[37m   Status: \u001b[0m\u001b[2;33mExecuting Task...\u001b[0m\n",
              "    └── \u001b[1;32m🤖 Agent: \u001b[0m\u001b[32mRetriever Agent\u001b[0m\n",
              "        \u001b[37m    Status: \u001b[0m\u001b[1;32m✅ Completed\u001b[0m\n",
              "        ├── \u001b[1;32m🔧 \u001b[0m\u001b[32mUsed RAG Tool (7)\u001b[0m\n",
              "        └── \u001b[1;32m🔧 \u001b[0m\u001b[32mUsed Web Search Tool (5)\u001b[0m\n"
            ]
          },
          "metadata": {},
          "output_type": "display_data"
        },
        {
          "data": {
            "text/html": [
              "<pre style=\"white-space:pre;overflow-x:auto;line-height:normal;font-family:Menlo,'DejaVu Sans Mono',consolas,'Courier New',monospace\">\n",
              "</pre>\n"
            ],
            "text/plain": [
              "\n"
            ]
          },
          "metadata": {},
          "output_type": "display_data"
        },
        {
          "data": {
            "text/html": [
              "<pre style=\"white-space:pre;overflow-x:auto;line-height:normal;font-family:Menlo,'DejaVu Sans Mono',consolas,'Courier New',monospace\"><span style=\"color: #008080; text-decoration-color: #008080; font-weight: bold\">🚀 Crew: crew</span>\n",
              "└── <span style=\"color: #008000; text-decoration-color: #008000; font-weight: bold\">📋 Task: 6a16152d-0ce4-4b1e-83d4-5f39fa526b77</span>\n",
              "    <span style=\"color: #c0c0c0; text-decoration-color: #c0c0c0\">   Assigned to: </span><span style=\"color: #008000; text-decoration-color: #008000\">Retriever Agent</span>\n",
              "    <span style=\"color: #c0c0c0; text-decoration-color: #c0c0c0\">   Status: </span><span style=\"color: #008000; text-decoration-color: #008000; font-weight: bold\">✅ Completed</span>\n",
              "    └── <span style=\"color: #008000; text-decoration-color: #008000; font-weight: bold\">🤖 Agent: </span><span style=\"color: #008000; text-decoration-color: #008000\">Retriever Agent</span>\n",
              "        <span style=\"color: #c0c0c0; text-decoration-color: #c0c0c0\">    Status: </span><span style=\"color: #008000; text-decoration-color: #008000; font-weight: bold\">✅ Completed</span>\n",
              "        ├── <span style=\"color: #008000; text-decoration-color: #008000; font-weight: bold\">🔧 </span><span style=\"color: #008000; text-decoration-color: #008000\">Used RAG Tool (7)</span>\n",
              "        └── <span style=\"color: #008000; text-decoration-color: #008000; font-weight: bold\">🔧 </span><span style=\"color: #008000; text-decoration-color: #008000\">Used Web Search Tool (5)</span>\n",
              "</pre>\n"
            ],
            "text/plain": [
              "\u001b[1;36m🚀 Crew: \u001b[0m\u001b[1;36mcrew\u001b[0m\n",
              "└── \u001b[1;32m📋 Task: 6a16152d-0ce4-4b1e-83d4-5f39fa526b77\u001b[0m\n",
              "    \u001b[37m   Assigned to: \u001b[0m\u001b[32mRetriever Agent\u001b[0m\n",
              "    \u001b[37m   Status: \u001b[0m\u001b[1;32m✅ Completed\u001b[0m\n",
              "    └── \u001b[1;32m🤖 Agent: \u001b[0m\u001b[32mRetriever Agent\u001b[0m\n",
              "        \u001b[37m    Status: \u001b[0m\u001b[1;32m✅ Completed\u001b[0m\n",
              "        ├── \u001b[1;32m🔧 \u001b[0m\u001b[32mUsed RAG Tool (7)\u001b[0m\n",
              "        └── \u001b[1;32m🔧 \u001b[0m\u001b[32mUsed Web Search Tool (5)\u001b[0m\n"
            ]
          },
          "metadata": {},
          "output_type": "display_data"
        },
        {
          "data": {
            "text/html": [
              "<pre style=\"white-space:pre;overflow-x:auto;line-height:normal;font-family:Menlo,'DejaVu Sans Mono',consolas,'Courier New',monospace\"><span style=\"color: #008000; text-decoration-color: #008000\">╭──────────────────────────────────────────────── Task Completion ────────────────────────────────────────────────╮</span>\n",
              "<span style=\"color: #008000; text-decoration-color: #008000\">│</span>                                                                                                                 <span style=\"color: #008000; text-decoration-color: #008000\">│</span>\n",
              "<span style=\"color: #008000; text-decoration-color: #008000\">│</span>  <span style=\"color: #008000; text-decoration-color: #008000; font-weight: bold\">Task Completed</span>                                                                                                 <span style=\"color: #008000; text-decoration-color: #008000\">│</span>\n",
              "<span style=\"color: #008000; text-decoration-color: #008000\">│</span>  <span style=\"color: #c0c0c0; text-decoration-color: #c0c0c0\">Name: </span><span style=\"color: #008000; text-decoration-color: #008000\">6a16152d-0ce4-4b1e-83d4-5f39fa526b77</span>                                                                     <span style=\"color: #008000; text-decoration-color: #008000\">│</span>\n",
              "<span style=\"color: #008000; text-decoration-color: #008000\">│</span>  <span style=\"color: #c0c0c0; text-decoration-color: #c0c0c0\">Agent: </span><span style=\"color: #008000; text-decoration-color: #008000\">Retriever Agent</span>                                                                                         <span style=\"color: #008000; text-decoration-color: #008000\">│</span>\n",
              "<span style=\"color: #008000; text-decoration-color: #008000\">│</span>                                                                                                                 <span style=\"color: #008000; text-decoration-color: #008000\">│</span>\n",
              "<span style=\"color: #008000; text-decoration-color: #008000\">│</span>                                                                                                                 <span style=\"color: #008000; text-decoration-color: #008000\">│</span>\n",
              "<span style=\"color: #008000; text-decoration-color: #008000\">╰─────────────────────────────────────────────────────────────────────────────────────────────────────────────────╯</span>\n",
              "</pre>\n"
            ],
            "text/plain": [
              "\u001b[32m╭─\u001b[0m\u001b[32m───────────────────────────────────────────────\u001b[0m\u001b[32m Task Completion \u001b[0m\u001b[32m───────────────────────────────────────────────\u001b[0m\u001b[32m─╮\u001b[0m\n",
              "\u001b[32m│\u001b[0m                                                                                                                 \u001b[32m│\u001b[0m\n",
              "\u001b[32m│\u001b[0m  \u001b[1;32mTask Completed\u001b[0m                                                                                                 \u001b[32m│\u001b[0m\n",
              "\u001b[32m│\u001b[0m  \u001b[37mName: \u001b[0m\u001b[32m6a16152d-0ce4-4b1e-83d4-5f39fa526b77\u001b[0m                                                                     \u001b[32m│\u001b[0m\n",
              "\u001b[32m│\u001b[0m  \u001b[37mAgent: \u001b[0m\u001b[32mRetriever Agent\u001b[0m                                                                                         \u001b[32m│\u001b[0m\n",
              "\u001b[32m│\u001b[0m                                                                                                                 \u001b[32m│\u001b[0m\n",
              "\u001b[32m│\u001b[0m                                                                                                                 \u001b[32m│\u001b[0m\n",
              "\u001b[32m╰─────────────────────────────────────────────────────────────────────────────────────────────────────────────────╯\u001b[0m\n"
            ]
          },
          "metadata": {},
          "output_type": "display_data"
        },
        {
          "data": {
            "text/html": [
              "<pre style=\"white-space:pre;overflow-x:auto;line-height:normal;font-family:Menlo,'DejaVu Sans Mono',consolas,'Courier New',monospace\">\n",
              "</pre>\n"
            ],
            "text/plain": [
              "\n"
            ]
          },
          "metadata": {},
          "output_type": "display_data"
        },
        {
          "data": {
            "text/html": [
              "<pre style=\"white-space:pre;overflow-x:auto;line-height:normal;font-family:Menlo,'DejaVu Sans Mono',consolas,'Courier New',monospace\"><span style=\"color: #008080; text-decoration-color: #008080; font-weight: bold\">🚀 Crew: crew</span>\n",
              "├── <span style=\"color: #008000; text-decoration-color: #008000; font-weight: bold\">📋 Task: 6a16152d-0ce4-4b1e-83d4-5f39fa526b77</span>\n",
              "│   <span style=\"color: #c0c0c0; text-decoration-color: #c0c0c0\">   Assigned to: </span><span style=\"color: #008000; text-decoration-color: #008000\">Retriever Agent</span>\n",
              "│   <span style=\"color: #c0c0c0; text-decoration-color: #c0c0c0\">   Status: </span><span style=\"color: #008000; text-decoration-color: #008000; font-weight: bold\">✅ Completed</span>\n",
              "│   └── <span style=\"color: #008000; text-decoration-color: #008000; font-weight: bold\">🤖 Agent: </span><span style=\"color: #008000; text-decoration-color: #008000\">Retriever Agent</span>\n",
              "│       <span style=\"color: #c0c0c0; text-decoration-color: #c0c0c0\">    Status: </span><span style=\"color: #008000; text-decoration-color: #008000; font-weight: bold\">✅ Completed</span>\n",
              "│       ├── <span style=\"color: #008000; text-decoration-color: #008000; font-weight: bold\">🔧 </span><span style=\"color: #008000; text-decoration-color: #008000\">Used RAG Tool (7)</span>\n",
              "│       └── <span style=\"color: #008000; text-decoration-color: #008000; font-weight: bold\">🔧 </span><span style=\"color: #008000; text-decoration-color: #008000\">Used Web Search Tool (5)</span>\n",
              "└── <span style=\"color: #808000; text-decoration-color: #808000; font-weight: bold\">📋 Task: cde4d9db-8cf0-49ec-a96c-a48cff42649f</span>\n",
              "    <span style=\"color: #c0c0c0; text-decoration-color: #c0c0c0\">   Status: </span><span style=\"color: #bfbf7f; text-decoration-color: #bfbf7f\">Executing Task...</span>\n",
              "</pre>\n"
            ],
            "text/plain": [
              "\u001b[1;36m🚀 Crew: \u001b[0m\u001b[1;36mcrew\u001b[0m\n",
              "├── \u001b[1;32m📋 Task: 6a16152d-0ce4-4b1e-83d4-5f39fa526b77\u001b[0m\n",
              "│   \u001b[37m   Assigned to: \u001b[0m\u001b[32mRetriever Agent\u001b[0m\n",
              "│   \u001b[37m   Status: \u001b[0m\u001b[1;32m✅ Completed\u001b[0m\n",
              "│   └── \u001b[1;32m🤖 Agent: \u001b[0m\u001b[32mRetriever Agent\u001b[0m\n",
              "│       \u001b[37m    Status: \u001b[0m\u001b[1;32m✅ Completed\u001b[0m\n",
              "│       ├── \u001b[1;32m🔧 \u001b[0m\u001b[32mUsed RAG Tool (7)\u001b[0m\n",
              "│       └── \u001b[1;32m🔧 \u001b[0m\u001b[32mUsed Web Search Tool (5)\u001b[0m\n",
              "└── \u001b[1;33m📋 Task: cde4d9db-8cf0-49ec-a96c-a48cff42649f\u001b[0m\n",
              "    \u001b[37m   Status: \u001b[0m\u001b[2;33mExecuting Task...\u001b[0m\n"
            ]
          },
          "metadata": {},
          "output_type": "display_data"
        },
        {
          "data": {
            "text/html": [
              "<pre style=\"white-space:pre;overflow-x:auto;line-height:normal;font-family:Menlo,'DejaVu Sans Mono',consolas,'Courier New',monospace\">\n",
              "</pre>\n"
            ],
            "text/plain": [
              "\n"
            ]
          },
          "metadata": {},
          "output_type": "display_data"
        },
        {
          "data": {
            "text/html": [
              "<pre style=\"white-space:pre;overflow-x:auto;line-height:normal;font-family:Menlo,'DejaVu Sans Mono',consolas,'Courier New',monospace\"><span style=\"color: #008080; text-decoration-color: #008080; font-weight: bold\">🚀 Crew: crew</span>\n",
              "├── <span style=\"color: #008000; text-decoration-color: #008000; font-weight: bold\">📋 Task: 6a16152d-0ce4-4b1e-83d4-5f39fa526b77</span>\n",
              "│   <span style=\"color: #c0c0c0; text-decoration-color: #c0c0c0\">   Assigned to: </span><span style=\"color: #008000; text-decoration-color: #008000\">Retriever Agent</span>\n",
              "│   <span style=\"color: #c0c0c0; text-decoration-color: #c0c0c0\">   Status: </span><span style=\"color: #008000; text-decoration-color: #008000; font-weight: bold\">✅ Completed</span>\n",
              "│   └── <span style=\"color: #008000; text-decoration-color: #008000; font-weight: bold\">🤖 Agent: </span><span style=\"color: #008000; text-decoration-color: #008000\">Retriever Agent</span>\n",
              "│       <span style=\"color: #c0c0c0; text-decoration-color: #c0c0c0\">    Status: </span><span style=\"color: #008000; text-decoration-color: #008000; font-weight: bold\">✅ Completed</span>\n",
              "│       ├── <span style=\"color: #008000; text-decoration-color: #008000; font-weight: bold\">🔧 </span><span style=\"color: #008000; text-decoration-color: #008000\">Used RAG Tool (7)</span>\n",
              "│       └── <span style=\"color: #008000; text-decoration-color: #008000; font-weight: bold\">🔧 </span><span style=\"color: #008000; text-decoration-color: #008000\">Used Web Search Tool (5)</span>\n",
              "└── <span style=\"color: #808000; text-decoration-color: #808000; font-weight: bold\">📋 Task: cde4d9db-8cf0-49ec-a96c-a48cff42649f</span>\n",
              "    <span style=\"color: #c0c0c0; text-decoration-color: #c0c0c0\">   Status: </span><span style=\"color: #bfbf7f; text-decoration-color: #bfbf7f\">Executing Task...</span>\n",
              "    └── <span style=\"color: #008000; text-decoration-color: #008000; font-weight: bold\">🤖 Agent: </span><span style=\"color: #008000; text-decoration-color: #008000\">Senior Customer Support Agent</span>\n",
              "        <span style=\"color: #c0c0c0; text-decoration-color: #c0c0c0\">    Status: </span><span style=\"color: #008000; text-decoration-color: #008000; font-weight: bold\">In Progress</span>\n",
              "</pre>\n"
            ],
            "text/plain": [
              "\u001b[1;36m🚀 Crew: \u001b[0m\u001b[1;36mcrew\u001b[0m\n",
              "├── \u001b[1;32m📋 Task: 6a16152d-0ce4-4b1e-83d4-5f39fa526b77\u001b[0m\n",
              "│   \u001b[37m   Assigned to: \u001b[0m\u001b[32mRetriever Agent\u001b[0m\n",
              "│   \u001b[37m   Status: \u001b[0m\u001b[1;32m✅ Completed\u001b[0m\n",
              "│   └── \u001b[1;32m🤖 Agent: \u001b[0m\u001b[32mRetriever Agent\u001b[0m\n",
              "│       \u001b[37m    Status: \u001b[0m\u001b[1;32m✅ Completed\u001b[0m\n",
              "│       ├── \u001b[1;32m🔧 \u001b[0m\u001b[32mUsed RAG Tool (7)\u001b[0m\n",
              "│       └── \u001b[1;32m🔧 \u001b[0m\u001b[32mUsed Web Search Tool (5)\u001b[0m\n",
              "└── \u001b[1;33m📋 Task: cde4d9db-8cf0-49ec-a96c-a48cff42649f\u001b[0m\n",
              "    \u001b[37m   Status: \u001b[0m\u001b[2;33mExecuting Task...\u001b[0m\n",
              "    └── \u001b[1;32m🤖 Agent: \u001b[0m\u001b[32mSenior Customer Support Agent\u001b[0m\n",
              "        \u001b[37m    Status: \u001b[0m\u001b[1;32mIn Progress\u001b[0m\n"
            ]
          },
          "metadata": {},
          "output_type": "display_data"
        },
        {
          "data": {
            "text/html": [
              "<pre style=\"white-space:pre;overflow-x:auto;line-height:normal;font-family:Menlo,'DejaVu Sans Mono',consolas,'Courier New',monospace\">\n",
              "</pre>\n"
            ],
            "text/plain": [
              "\n"
            ]
          },
          "metadata": {},
          "output_type": "display_data"
        },
        {
          "name": "stdout",
          "output_type": "stream",
          "text": [
            "\u001b[1m\u001b[95m# Agent:\u001b[00m \u001b[1m\u001b[92mSenior Customer Support Agent\u001b[00m\n",
            "\u001b[95m## Task:\u001b[00m \u001b[92mUsing the retrieved information, accurately and concisely answer the user's query: What is the name of XNNASDMN?.\u001b[00m\n"
          ]
        },
        {
          "data": {
            "text/html": [
              "<pre style=\"white-space:pre;overflow-x:auto;line-height:normal;font-family:Menlo,'DejaVu Sans Mono',consolas,'Courier New',monospace\"><span style=\"color: #008080; text-decoration-color: #008080; font-weight: bold\">🚀 Crew: crew</span>\n",
              "├── <span style=\"color: #008000; text-decoration-color: #008000; font-weight: bold\">📋 Task: 6a16152d-0ce4-4b1e-83d4-5f39fa526b77</span>\n",
              "│   <span style=\"color: #c0c0c0; text-decoration-color: #c0c0c0\">   Assigned to: </span><span style=\"color: #008000; text-decoration-color: #008000\">Retriever Agent</span>\n",
              "│   <span style=\"color: #c0c0c0; text-decoration-color: #c0c0c0\">   Status: </span><span style=\"color: #008000; text-decoration-color: #008000; font-weight: bold\">✅ Completed</span>\n",
              "│   └── <span style=\"color: #008000; text-decoration-color: #008000; font-weight: bold\">🤖 Agent: </span><span style=\"color: #008000; text-decoration-color: #008000\">Retriever Agent</span>\n",
              "│       <span style=\"color: #c0c0c0; text-decoration-color: #c0c0c0\">    Status: </span><span style=\"color: #008000; text-decoration-color: #008000; font-weight: bold\">✅ Completed</span>\n",
              "│       ├── <span style=\"color: #008000; text-decoration-color: #008000; font-weight: bold\">🔧 </span><span style=\"color: #008000; text-decoration-color: #008000\">Used RAG Tool (7)</span>\n",
              "│       └── <span style=\"color: #008000; text-decoration-color: #008000; font-weight: bold\">🔧 </span><span style=\"color: #008000; text-decoration-color: #008000\">Used Web Search Tool (5)</span>\n",
              "└── <span style=\"color: #808000; text-decoration-color: #808000; font-weight: bold\">📋 Task: cde4d9db-8cf0-49ec-a96c-a48cff42649f</span>\n",
              "    <span style=\"color: #c0c0c0; text-decoration-color: #c0c0c0\">   Status: </span><span style=\"color: #bfbf7f; text-decoration-color: #bfbf7f\">Executing Task...</span>\n",
              "    └── <span style=\"color: #008000; text-decoration-color: #008000; font-weight: bold\">🤖 Agent: </span><span style=\"color: #008000; text-decoration-color: #008000\">Senior Customer Support Agent</span>\n",
              "        <span style=\"color: #c0c0c0; text-decoration-color: #c0c0c0\">    Status: </span><span style=\"color: #008000; text-decoration-color: #008000; font-weight: bold\">In Progress</span>\n",
              "        └── <span style=\"color: #000080; text-decoration-color: #000080; font-weight: bold\">🧠 </span><span style=\"color: #000080; text-decoration-color: #000080\">Thinking...</span>\n",
              "</pre>\n"
            ],
            "text/plain": [
              "\u001b[1;36m🚀 Crew: \u001b[0m\u001b[1;36mcrew\u001b[0m\n",
              "├── \u001b[1;32m📋 Task: 6a16152d-0ce4-4b1e-83d4-5f39fa526b77\u001b[0m\n",
              "│   \u001b[37m   Assigned to: \u001b[0m\u001b[32mRetriever Agent\u001b[0m\n",
              "│   \u001b[37m   Status: \u001b[0m\u001b[1;32m✅ Completed\u001b[0m\n",
              "│   └── \u001b[1;32m🤖 Agent: \u001b[0m\u001b[32mRetriever Agent\u001b[0m\n",
              "│       \u001b[37m    Status: \u001b[0m\u001b[1;32m✅ Completed\u001b[0m\n",
              "│       ├── \u001b[1;32m🔧 \u001b[0m\u001b[32mUsed RAG Tool (7)\u001b[0m\n",
              "│       └── \u001b[1;32m🔧 \u001b[0m\u001b[32mUsed Web Search Tool (5)\u001b[0m\n",
              "└── \u001b[1;33m📋 Task: cde4d9db-8cf0-49ec-a96c-a48cff42649f\u001b[0m\n",
              "    \u001b[37m   Status: \u001b[0m\u001b[2;33mExecuting Task...\u001b[0m\n",
              "    └── \u001b[1;32m🤖 Agent: \u001b[0m\u001b[32mSenior Customer Support Agent\u001b[0m\n",
              "        \u001b[37m    Status: \u001b[0m\u001b[1;32mIn Progress\u001b[0m\n",
              "        └── \u001b[1;34m🧠 \u001b[0m\u001b[34mThinking...\u001b[0m\n"
            ]
          },
          "metadata": {},
          "output_type": "display_data"
        },
        {
          "data": {
            "text/html": [
              "<pre style=\"white-space:pre;overflow-x:auto;line-height:normal;font-family:Menlo,'DejaVu Sans Mono',consolas,'Courier New',monospace\">\n",
              "</pre>\n"
            ],
            "text/plain": [
              "\n"
            ]
          },
          "metadata": {},
          "output_type": "display_data"
        },
        {
          "data": {
            "text/html": [
              "<pre style=\"white-space:pre;overflow-x:auto;line-height:normal;font-family:Menlo,'DejaVu Sans Mono',consolas,'Courier New',monospace\"><span style=\"color: #008080; text-decoration-color: #008080; font-weight: bold\">🚀 Crew: crew</span>\n",
              "├── <span style=\"color: #008000; text-decoration-color: #008000; font-weight: bold\">📋 Task: 6a16152d-0ce4-4b1e-83d4-5f39fa526b77</span>\n",
              "│   <span style=\"color: #c0c0c0; text-decoration-color: #c0c0c0\">   Assigned to: </span><span style=\"color: #008000; text-decoration-color: #008000\">Retriever Agent</span>\n",
              "│   <span style=\"color: #c0c0c0; text-decoration-color: #c0c0c0\">   Status: </span><span style=\"color: #008000; text-decoration-color: #008000; font-weight: bold\">✅ Completed</span>\n",
              "│   └── <span style=\"color: #008000; text-decoration-color: #008000; font-weight: bold\">🤖 Agent: </span><span style=\"color: #008000; text-decoration-color: #008000\">Retriever Agent</span>\n",
              "│       <span style=\"color: #c0c0c0; text-decoration-color: #c0c0c0\">    Status: </span><span style=\"color: #008000; text-decoration-color: #008000; font-weight: bold\">✅ Completed</span>\n",
              "│       ├── <span style=\"color: #008000; text-decoration-color: #008000; font-weight: bold\">🔧 </span><span style=\"color: #008000; text-decoration-color: #008000\">Used RAG Tool (7)</span>\n",
              "│       └── <span style=\"color: #008000; text-decoration-color: #008000; font-weight: bold\">🔧 </span><span style=\"color: #008000; text-decoration-color: #008000\">Used Web Search Tool (5)</span>\n",
              "└── <span style=\"color: #808000; text-decoration-color: #808000; font-weight: bold\">📋 Task: cde4d9db-8cf0-49ec-a96c-a48cff42649f</span>\n",
              "    <span style=\"color: #c0c0c0; text-decoration-color: #c0c0c0\">   Status: </span><span style=\"color: #bfbf7f; text-decoration-color: #bfbf7f\">Executing Task...</span>\n",
              "    └── <span style=\"color: #008000; text-decoration-color: #008000; font-weight: bold\">🤖 Agent: </span><span style=\"color: #008000; text-decoration-color: #008000\">Senior Customer Support Agent</span>\n",
              "        <span style=\"color: #c0c0c0; text-decoration-color: #c0c0c0\">    Status: </span><span style=\"color: #008000; text-decoration-color: #008000; font-weight: bold\">In Progress</span>\n",
              "</pre>\n"
            ],
            "text/plain": [
              "\u001b[1;36m🚀 Crew: \u001b[0m\u001b[1;36mcrew\u001b[0m\n",
              "├── \u001b[1;32m📋 Task: 6a16152d-0ce4-4b1e-83d4-5f39fa526b77\u001b[0m\n",
              "│   \u001b[37m   Assigned to: \u001b[0m\u001b[32mRetriever Agent\u001b[0m\n",
              "│   \u001b[37m   Status: \u001b[0m\u001b[1;32m✅ Completed\u001b[0m\n",
              "│   └── \u001b[1;32m🤖 Agent: \u001b[0m\u001b[32mRetriever Agent\u001b[0m\n",
              "│       \u001b[37m    Status: \u001b[0m\u001b[1;32m✅ Completed\u001b[0m\n",
              "│       ├── \u001b[1;32m🔧 \u001b[0m\u001b[32mUsed RAG Tool (7)\u001b[0m\n",
              "│       └── \u001b[1;32m🔧 \u001b[0m\u001b[32mUsed Web Search Tool (5)\u001b[0m\n",
              "└── \u001b[1;33m📋 Task: cde4d9db-8cf0-49ec-a96c-a48cff42649f\u001b[0m\n",
              "    \u001b[37m   Status: \u001b[0m\u001b[2;33mExecuting Task...\u001b[0m\n",
              "    └── \u001b[1;32m🤖 Agent: \u001b[0m\u001b[32mSenior Customer Support Agent\u001b[0m\n",
              "        \u001b[37m    Status: \u001b[0m\u001b[1;32mIn Progress\u001b[0m\n"
            ]
          },
          "metadata": {},
          "output_type": "display_data"
        },
        {
          "data": {
            "text/html": [
              "<pre style=\"white-space:pre;overflow-x:auto;line-height:normal;font-family:Menlo,'DejaVu Sans Mono',consolas,'Courier New',monospace\">\n",
              "</pre>\n"
            ],
            "text/plain": [
              "\n"
            ]
          },
          "metadata": {},
          "output_type": "display_data"
        },
        {
          "name": "stdout",
          "output_type": "stream",
          "text": [
            "\n",
            "\n",
            "\u001b[1m\u001b[95m# Agent:\u001b[00m \u001b[1m\u001b[92mSenior Customer Support Agent\u001b[00m\n",
            "\u001b[95m## Final Answer:\u001b[00m \u001b[92m\n",
            "I apologize, but I do not have all the information I need to answer the query regarding the name of XNNASDMN. There is no relevant information available about \"XNNASDMN\" based on the searches conducted. If you have specific context or additional details, please provide them, and I would be happy to assist you further.\u001b[00m\n",
            "\n",
            "\n"
          ]
        },
        {
          "data": {
            "text/html": [
              "<pre style=\"white-space:pre;overflow-x:auto;line-height:normal;font-family:Menlo,'DejaVu Sans Mono',consolas,'Courier New',monospace\"><span style=\"color: #008080; text-decoration-color: #008080; font-weight: bold\">🚀 Crew: crew</span>\n",
              "├── <span style=\"color: #008000; text-decoration-color: #008000; font-weight: bold\">📋 Task: 6a16152d-0ce4-4b1e-83d4-5f39fa526b77</span>\n",
              "│   <span style=\"color: #c0c0c0; text-decoration-color: #c0c0c0\">   Assigned to: </span><span style=\"color: #008000; text-decoration-color: #008000\">Retriever Agent</span>\n",
              "│   <span style=\"color: #c0c0c0; text-decoration-color: #c0c0c0\">   Status: </span><span style=\"color: #008000; text-decoration-color: #008000; font-weight: bold\">✅ Completed</span>\n",
              "│   └── <span style=\"color: #008000; text-decoration-color: #008000; font-weight: bold\">🤖 Agent: </span><span style=\"color: #008000; text-decoration-color: #008000\">Retriever Agent</span>\n",
              "│       <span style=\"color: #c0c0c0; text-decoration-color: #c0c0c0\">    Status: </span><span style=\"color: #008000; text-decoration-color: #008000; font-weight: bold\">✅ Completed</span>\n",
              "│       ├── <span style=\"color: #008000; text-decoration-color: #008000; font-weight: bold\">🔧 </span><span style=\"color: #008000; text-decoration-color: #008000\">Used RAG Tool (7)</span>\n",
              "│       └── <span style=\"color: #008000; text-decoration-color: #008000; font-weight: bold\">🔧 </span><span style=\"color: #008000; text-decoration-color: #008000\">Used Web Search Tool (5)</span>\n",
              "└── <span style=\"color: #808000; text-decoration-color: #808000; font-weight: bold\">📋 Task: cde4d9db-8cf0-49ec-a96c-a48cff42649f</span>\n",
              "    <span style=\"color: #c0c0c0; text-decoration-color: #c0c0c0\">   Status: </span><span style=\"color: #bfbf7f; text-decoration-color: #bfbf7f\">Executing Task...</span>\n",
              "    └── <span style=\"color: #008000; text-decoration-color: #008000; font-weight: bold\">🤖 Agent: </span><span style=\"color: #008000; text-decoration-color: #008000\">Senior Customer Support Agent</span>\n",
              "        <span style=\"color: #c0c0c0; text-decoration-color: #c0c0c0\">    Status: </span><span style=\"color: #008000; text-decoration-color: #008000; font-weight: bold\">✅ Completed</span>\n",
              "</pre>\n"
            ],
            "text/plain": [
              "\u001b[1;36m🚀 Crew: \u001b[0m\u001b[1;36mcrew\u001b[0m\n",
              "├── \u001b[1;32m📋 Task: 6a16152d-0ce4-4b1e-83d4-5f39fa526b77\u001b[0m\n",
              "│   \u001b[37m   Assigned to: \u001b[0m\u001b[32mRetriever Agent\u001b[0m\n",
              "│   \u001b[37m   Status: \u001b[0m\u001b[1;32m✅ Completed\u001b[0m\n",
              "│   └── \u001b[1;32m🤖 Agent: \u001b[0m\u001b[32mRetriever Agent\u001b[0m\n",
              "│       \u001b[37m    Status: \u001b[0m\u001b[1;32m✅ Completed\u001b[0m\n",
              "│       ├── \u001b[1;32m🔧 \u001b[0m\u001b[32mUsed RAG Tool (7)\u001b[0m\n",
              "│       └── \u001b[1;32m🔧 \u001b[0m\u001b[32mUsed Web Search Tool (5)\u001b[0m\n",
              "└── \u001b[1;33m📋 Task: cde4d9db-8cf0-49ec-a96c-a48cff42649f\u001b[0m\n",
              "    \u001b[37m   Status: \u001b[0m\u001b[2;33mExecuting Task...\u001b[0m\n",
              "    └── \u001b[1;32m🤖 Agent: \u001b[0m\u001b[32mSenior Customer Support Agent\u001b[0m\n",
              "        \u001b[37m    Status: \u001b[0m\u001b[1;32m✅ Completed\u001b[0m\n"
            ]
          },
          "metadata": {},
          "output_type": "display_data"
        },
        {
          "data": {
            "text/html": [
              "<pre style=\"white-space:pre;overflow-x:auto;line-height:normal;font-family:Menlo,'DejaVu Sans Mono',consolas,'Courier New',monospace\">\n",
              "</pre>\n"
            ],
            "text/plain": [
              "\n"
            ]
          },
          "metadata": {},
          "output_type": "display_data"
        },
        {
          "data": {
            "text/html": [
              "<pre style=\"white-space:pre;overflow-x:auto;line-height:normal;font-family:Menlo,'DejaVu Sans Mono',consolas,'Courier New',monospace\"><span style=\"color: #008080; text-decoration-color: #008080; font-weight: bold\">🚀 Crew: crew</span>\n",
              "├── <span style=\"color: #008000; text-decoration-color: #008000; font-weight: bold\">📋 Task: 6a16152d-0ce4-4b1e-83d4-5f39fa526b77</span>\n",
              "│   <span style=\"color: #c0c0c0; text-decoration-color: #c0c0c0\">   Assigned to: </span><span style=\"color: #008000; text-decoration-color: #008000\">Retriever Agent</span>\n",
              "│   <span style=\"color: #c0c0c0; text-decoration-color: #c0c0c0\">   Status: </span><span style=\"color: #008000; text-decoration-color: #008000; font-weight: bold\">✅ Completed</span>\n",
              "│   └── <span style=\"color: #008000; text-decoration-color: #008000; font-weight: bold\">🤖 Agent: </span><span style=\"color: #008000; text-decoration-color: #008000\">Retriever Agent</span>\n",
              "│       <span style=\"color: #c0c0c0; text-decoration-color: #c0c0c0\">    Status: </span><span style=\"color: #008000; text-decoration-color: #008000; font-weight: bold\">✅ Completed</span>\n",
              "│       ├── <span style=\"color: #008000; text-decoration-color: #008000; font-weight: bold\">🔧 </span><span style=\"color: #008000; text-decoration-color: #008000\">Used RAG Tool (7)</span>\n",
              "│       └── <span style=\"color: #008000; text-decoration-color: #008000; font-weight: bold\">🔧 </span><span style=\"color: #008000; text-decoration-color: #008000\">Used Web Search Tool (5)</span>\n",
              "└── <span style=\"color: #008000; text-decoration-color: #008000; font-weight: bold\">📋 Task: cde4d9db-8cf0-49ec-a96c-a48cff42649f</span>\n",
              "    <span style=\"color: #c0c0c0; text-decoration-color: #c0c0c0\">   Assigned to: </span><span style=\"color: #008000; text-decoration-color: #008000\">Senior Customer Support Agent</span>\n",
              "    <span style=\"color: #c0c0c0; text-decoration-color: #c0c0c0\">   Status: </span><span style=\"color: #008000; text-decoration-color: #008000; font-weight: bold\">✅ Completed</span>\n",
              "    └── <span style=\"color: #008000; text-decoration-color: #008000; font-weight: bold\">🤖 Agent: </span><span style=\"color: #008000; text-decoration-color: #008000\">Senior Customer Support Agent</span>\n",
              "        <span style=\"color: #c0c0c0; text-decoration-color: #c0c0c0\">    Status: </span><span style=\"color: #008000; text-decoration-color: #008000; font-weight: bold\">✅ Completed</span>\n",
              "</pre>\n"
            ],
            "text/plain": [
              "\u001b[1;36m🚀 Crew: \u001b[0m\u001b[1;36mcrew\u001b[0m\n",
              "├── \u001b[1;32m📋 Task: 6a16152d-0ce4-4b1e-83d4-5f39fa526b77\u001b[0m\n",
              "│   \u001b[37m   Assigned to: \u001b[0m\u001b[32mRetriever Agent\u001b[0m\n",
              "│   \u001b[37m   Status: \u001b[0m\u001b[1;32m✅ Completed\u001b[0m\n",
              "│   └── \u001b[1;32m🤖 Agent: \u001b[0m\u001b[32mRetriever Agent\u001b[0m\n",
              "│       \u001b[37m    Status: \u001b[0m\u001b[1;32m✅ Completed\u001b[0m\n",
              "│       ├── \u001b[1;32m🔧 \u001b[0m\u001b[32mUsed RAG Tool (7)\u001b[0m\n",
              "│       └── \u001b[1;32m🔧 \u001b[0m\u001b[32mUsed Web Search Tool (5)\u001b[0m\n",
              "└── \u001b[1;32m📋 Task: cde4d9db-8cf0-49ec-a96c-a48cff42649f\u001b[0m\n",
              "    \u001b[37m   Assigned to: \u001b[0m\u001b[32mSenior Customer Support Agent\u001b[0m\n",
              "    \u001b[37m   Status: \u001b[0m\u001b[1;32m✅ Completed\u001b[0m\n",
              "    └── \u001b[1;32m🤖 Agent: \u001b[0m\u001b[32mSenior Customer Support Agent\u001b[0m\n",
              "        \u001b[37m    Status: \u001b[0m\u001b[1;32m✅ Completed\u001b[0m\n"
            ]
          },
          "metadata": {},
          "output_type": "display_data"
        },
        {
          "data": {
            "text/html": [
              "<pre style=\"white-space:pre;overflow-x:auto;line-height:normal;font-family:Menlo,'DejaVu Sans Mono',consolas,'Courier New',monospace\"><span style=\"color: #008000; text-decoration-color: #008000\">╭──────────────────────────────────────────────── Task Completion ────────────────────────────────────────────────╮</span>\n",
              "<span style=\"color: #008000; text-decoration-color: #008000\">│</span>                                                                                                                 <span style=\"color: #008000; text-decoration-color: #008000\">│</span>\n",
              "<span style=\"color: #008000; text-decoration-color: #008000\">│</span>  <span style=\"color: #008000; text-decoration-color: #008000; font-weight: bold\">Task Completed</span>                                                                                                 <span style=\"color: #008000; text-decoration-color: #008000\">│</span>\n",
              "<span style=\"color: #008000; text-decoration-color: #008000\">│</span>  <span style=\"color: #c0c0c0; text-decoration-color: #c0c0c0\">Name: </span><span style=\"color: #008000; text-decoration-color: #008000\">cde4d9db-8cf0-49ec-a96c-a48cff42649f</span>                                                                     <span style=\"color: #008000; text-decoration-color: #008000\">│</span>\n",
              "<span style=\"color: #008000; text-decoration-color: #008000\">│</span>  <span style=\"color: #c0c0c0; text-decoration-color: #c0c0c0\">Agent: </span><span style=\"color: #008000; text-decoration-color: #008000\">Senior Customer Support Agent</span>                                                                           <span style=\"color: #008000; text-decoration-color: #008000\">│</span>\n",
              "<span style=\"color: #008000; text-decoration-color: #008000\">│</span>                                                                                                                 <span style=\"color: #008000; text-decoration-color: #008000\">│</span>\n",
              "<span style=\"color: #008000; text-decoration-color: #008000\">│</span>                                                                                                                 <span style=\"color: #008000; text-decoration-color: #008000\">│</span>\n",
              "<span style=\"color: #008000; text-decoration-color: #008000\">╰─────────────────────────────────────────────────────────────────────────────────────────────────────────────────╯</span>\n",
              "</pre>\n"
            ],
            "text/plain": [
              "\u001b[32m╭─\u001b[0m\u001b[32m───────────────────────────────────────────────\u001b[0m\u001b[32m Task Completion \u001b[0m\u001b[32m───────────────────────────────────────────────\u001b[0m\u001b[32m─╮\u001b[0m\n",
              "\u001b[32m│\u001b[0m                                                                                                                 \u001b[32m│\u001b[0m\n",
              "\u001b[32m│\u001b[0m  \u001b[1;32mTask Completed\u001b[0m                                                                                                 \u001b[32m│\u001b[0m\n",
              "\u001b[32m│\u001b[0m  \u001b[37mName: \u001b[0m\u001b[32mcde4d9db-8cf0-49ec-a96c-a48cff42649f\u001b[0m                                                                     \u001b[32m│\u001b[0m\n",
              "\u001b[32m│\u001b[0m  \u001b[37mAgent: \u001b[0m\u001b[32mSenior Customer Support Agent\u001b[0m                                                                           \u001b[32m│\u001b[0m\n",
              "\u001b[32m│\u001b[0m                                                                                                                 \u001b[32m│\u001b[0m\n",
              "\u001b[32m│\u001b[0m                                                                                                                 \u001b[32m│\u001b[0m\n",
              "\u001b[32m╰─────────────────────────────────────────────────────────────────────────────────────────────────────────────────╯\u001b[0m\n"
            ]
          },
          "metadata": {},
          "output_type": "display_data"
        },
        {
          "data": {
            "text/html": [
              "<pre style=\"white-space:pre;overflow-x:auto;line-height:normal;font-family:Menlo,'DejaVu Sans Mono',consolas,'Courier New',monospace\">\n",
              "</pre>\n"
            ],
            "text/plain": [
              "\n"
            ]
          },
          "metadata": {},
          "output_type": "display_data"
        },
        {
          "data": {
            "text/html": [
              "<pre style=\"white-space:pre;overflow-x:auto;line-height:normal;font-family:Menlo,'DejaVu Sans Mono',consolas,'Courier New',monospace\"><span style=\"color: #008000; text-decoration-color: #008000\">╭──────────────────────────────────────────────── Crew Completion ────────────────────────────────────────────────╮</span>\n",
              "<span style=\"color: #008000; text-decoration-color: #008000\">│</span>                                                                                                                 <span style=\"color: #008000; text-decoration-color: #008000\">│</span>\n",
              "<span style=\"color: #008000; text-decoration-color: #008000\">│</span>  <span style=\"color: #008000; text-decoration-color: #008000; font-weight: bold\">Crew Execution Completed</span>                                                                                       <span style=\"color: #008000; text-decoration-color: #008000\">│</span>\n",
              "<span style=\"color: #008000; text-decoration-color: #008000\">│</span>  <span style=\"color: #c0c0c0; text-decoration-color: #c0c0c0\">Name: </span><span style=\"color: #008000; text-decoration-color: #008000\">crew</span>                                                                                                     <span style=\"color: #008000; text-decoration-color: #008000\">│</span>\n",
              "<span style=\"color: #008000; text-decoration-color: #008000\">│</span>  <span style=\"color: #c0c0c0; text-decoration-color: #c0c0c0\">ID: </span><span style=\"color: #008000; text-decoration-color: #008000\">27c31765-1616-457b-82e7-a05a785dd68e</span>                                                                       <span style=\"color: #008000; text-decoration-color: #008000\">│</span>\n",
              "<span style=\"color: #008000; text-decoration-color: #008000\">│</span>                                                                                                                 <span style=\"color: #008000; text-decoration-color: #008000\">│</span>\n",
              "<span style=\"color: #008000; text-decoration-color: #008000\">│</span>                                                                                                                 <span style=\"color: #008000; text-decoration-color: #008000\">│</span>\n",
              "<span style=\"color: #008000; text-decoration-color: #008000\">╰─────────────────────────────────────────────────────────────────────────────────────────────────────────────────╯</span>\n",
              "</pre>\n"
            ],
            "text/plain": [
              "\u001b[32m╭─\u001b[0m\u001b[32m───────────────────────────────────────────────\u001b[0m\u001b[32m Crew Completion \u001b[0m\u001b[32m───────────────────────────────────────────────\u001b[0m\u001b[32m─╮\u001b[0m\n",
              "\u001b[32m│\u001b[0m                                                                                                                 \u001b[32m│\u001b[0m\n",
              "\u001b[32m│\u001b[0m  \u001b[1;32mCrew Execution Completed\u001b[0m                                                                                       \u001b[32m│\u001b[0m\n",
              "\u001b[32m│\u001b[0m  \u001b[37mName: \u001b[0m\u001b[32mcrew\u001b[0m                                                                                                     \u001b[32m│\u001b[0m\n",
              "\u001b[32m│\u001b[0m  \u001b[37mID: \u001b[0m\u001b[32m27c31765-1616-457b-82e7-a05a785dd68e\u001b[0m                                                                       \u001b[32m│\u001b[0m\n",
              "\u001b[32m│\u001b[0m                                                                                                                 \u001b[32m│\u001b[0m\n",
              "\u001b[32m│\u001b[0m                                                                                                                 \u001b[32m│\u001b[0m\n",
              "\u001b[32m╰─────────────────────────────────────────────────────────────────────────────────────────────────────────────────╯\u001b[0m\n"
            ]
          },
          "metadata": {},
          "output_type": "display_data"
        },
        {
          "data": {
            "text/html": [
              "<pre style=\"white-space:pre;overflow-x:auto;line-height:normal;font-family:Menlo,'DejaVu Sans Mono',consolas,'Courier New',monospace\">\n",
              "</pre>\n"
            ],
            "text/plain": [
              "\n"
            ]
          },
          "metadata": {},
          "output_type": "display_data"
        }
      ],
      "source": [
        "result_3 = customer_support_crew.kickoff(inputs = crew_inputs_3)"
      ]
    },
    {
      "cell_type": "code",
      "execution_count": null,
      "metadata": {
        "colab": {
          "base_uri": "https://localhost:8080/",
          "height": 87
        },
        "id": "769bu5EJKGvB",
        "outputId": "51e0ac24-5230-426e-b770-969e0daa2cee"
      },
      "outputs": [
        {
          "data": {
            "application/vnd.google.colaboratory.intrinsic+json": {
              "type": "string"
            },
            "text/plain": [
              "'I apologize, but I do not have all the information I need to answer the query regarding the name of XNNASDMN. There is no relevant information available about \"XNNASDMN\" based on the searches conducted. If you have specific context or additional details, please provide them, and I would be happy to assist you further.'"
            ]
          },
          "execution_count": 45,
          "metadata": {},
          "output_type": "execute_result"
        }
      ],
      "source": [
        "result_3.raw"
      ]
    }
  ],
  "metadata": {
    "colab": {
      "provenance": []
    },
    "kernelspec": {
      "display_name": "Python 3",
      "name": "python3"
    },
    "language_info": {
      "name": "python"
    }
  },
  "nbformat": 4,
  "nbformat_minor": 0
}
